{
  "cells": [
    {
      "cell_type": "markdown",
      "metadata": {
        "id": "view-in-github",
        "colab_type": "text"
      },
      "source": [
        "<a href=\"https://colab.research.google.com/github/MJanbandhu/Machine-Learning/blob/main/Linear_Regression.ipynb\" target=\"_parent\"><img src=\"https://colab.research.google.com/assets/colab-badge.svg\" alt=\"Open In Colab\"/></a>"
      ]
    },
    {
      "cell_type": "markdown",
      "id": "160482ae",
      "metadata": {
        "id": "160482ae"
      },
      "source": [
        "# Problem statement\n",
        "Use relevant machine learning model to predict total sales using features\n",
        "like money spent on different marketing fields"
      ]
    },
    {
      "cell_type": "code",
      "execution_count": null,
      "id": "6ad4b09b",
      "metadata": {
        "id": "6ad4b09b"
      },
      "outputs": [],
      "source": [
        "# import basic libraries\n",
        "import numpy as np\n",
        "import pandas as pd\n",
        "import seaborn as sns\n",
        "import matplotlib.pyplot as plt\n",
        "import warnings\n",
        "warnings.filterwarnings('ignore')"
      ]
    },
    {
      "cell_type": "code",
      "execution_count": null,
      "id": "a0d876e4",
      "metadata": {
        "id": "a0d876e4"
      },
      "outputs": [],
      "source": [
        "# Load data\n",
        "data=pd.read_csv('Advertising.csv')"
      ]
    },
    {
      "cell_type": "raw",
      "id": "8072481d",
      "metadata": {
        "id": "8072481d"
      },
      "source": [
        "# Domain Analysis\n",
        "This data gives an information about total amount spent on\n",
        "TV, radio and newspaper advertising and total sales made by\n",
        "company based on that investment."
      ]
    },
    {
      "cell_type": "code",
      "execution_count": null,
      "id": "a938a006",
      "metadata": {
        "id": "a938a006",
        "outputId": "543fe962-9354-4963-f519-adb9123d803e"
      },
      "outputs": [
        {
          "data": {
            "text/plain": [
              "(200, 5)"
            ]
          },
          "execution_count": 112,
          "metadata": {},
          "output_type": "execute_result"
        }
      ],
      "source": [
        "# check for number of row and columns\n",
        "data.shape"
      ]
    },
    {
      "cell_type": "code",
      "execution_count": null,
      "id": "13a0bb98",
      "metadata": {
        "id": "13a0bb98",
        "outputId": "ae928351-e38b-4bb8-bd4f-c77ec1b390b4"
      },
      "outputs": [
        {
          "data": {
            "text/plain": [
              "Index(['Unnamed: 0', 'TV', 'Radio', 'Newspaper', 'Sales'], dtype='object')"
            ]
          },
          "execution_count": 113,
          "metadata": {},
          "output_type": "execute_result"
        }
      ],
      "source": [
        "# print all the columns\n",
        "data.columns"
      ]
    },
    {
      "cell_type": "code",
      "execution_count": null,
      "id": "f18d3dee",
      "metadata": {
        "id": "f18d3dee",
        "outputId": "89563195-949e-4021-d296-5c4356fce0a1"
      },
      "outputs": [
        {
          "data": {
            "text/html": [
              "<div>\n",
              "<style scoped>\n",
              "    .dataframe tbody tr th:only-of-type {\n",
              "        vertical-align: middle;\n",
              "    }\n",
              "\n",
              "    .dataframe tbody tr th {\n",
              "        vertical-align: top;\n",
              "    }\n",
              "\n",
              "    .dataframe thead th {\n",
              "        text-align: right;\n",
              "    }\n",
              "</style>\n",
              "<table border=\"1\" class=\"dataframe\">\n",
              "  <thead>\n",
              "    <tr style=\"text-align: right;\">\n",
              "      <th></th>\n",
              "      <th>Unnamed: 0</th>\n",
              "      <th>TV</th>\n",
              "      <th>Radio</th>\n",
              "      <th>Newspaper</th>\n",
              "      <th>Sales</th>\n",
              "    </tr>\n",
              "  </thead>\n",
              "  <tbody>\n",
              "    <tr>\n",
              "      <th>0</th>\n",
              "      <td>1</td>\n",
              "      <td>230.1</td>\n",
              "      <td>37.8</td>\n",
              "      <td>69.2</td>\n",
              "      <td>22.1</td>\n",
              "    </tr>\n",
              "    <tr>\n",
              "      <th>1</th>\n",
              "      <td>2</td>\n",
              "      <td>44.5</td>\n",
              "      <td>39.3</td>\n",
              "      <td>45.1</td>\n",
              "      <td>10.4</td>\n",
              "    </tr>\n",
              "    <tr>\n",
              "      <th>2</th>\n",
              "      <td>3</td>\n",
              "      <td>17.2</td>\n",
              "      <td>45.9</td>\n",
              "      <td>69.3</td>\n",
              "      <td>9.3</td>\n",
              "    </tr>\n",
              "    <tr>\n",
              "      <th>3</th>\n",
              "      <td>4</td>\n",
              "      <td>151.5</td>\n",
              "      <td>41.3</td>\n",
              "      <td>58.5</td>\n",
              "      <td>18.5</td>\n",
              "    </tr>\n",
              "    <tr>\n",
              "      <th>4</th>\n",
              "      <td>5</td>\n",
              "      <td>180.8</td>\n",
              "      <td>10.8</td>\n",
              "      <td>58.4</td>\n",
              "      <td>12.9</td>\n",
              "    </tr>\n",
              "  </tbody>\n",
              "</table>\n",
              "</div>"
            ],
            "text/plain": [
              "   Unnamed: 0     TV  Radio  Newspaper  Sales\n",
              "0           1  230.1   37.8       69.2   22.1\n",
              "1           2   44.5   39.3       45.1   10.4\n",
              "2           3   17.2   45.9       69.3    9.3\n",
              "3           4  151.5   41.3       58.5   18.5\n",
              "4           5  180.8   10.8       58.4   12.9"
            ]
          },
          "execution_count": 114,
          "metadata": {},
          "output_type": "execute_result"
        }
      ],
      "source": [
        "# print first 5 rows\n",
        "data.head()"
      ]
    },
    {
      "cell_type": "code",
      "execution_count": null,
      "id": "94fafb99",
      "metadata": {
        "id": "94fafb99",
        "outputId": "367725ad-973d-46ce-be4b-e4924a291020"
      },
      "outputs": [
        {
          "data": {
            "text/html": [
              "<div>\n",
              "<style scoped>\n",
              "    .dataframe tbody tr th:only-of-type {\n",
              "        vertical-align: middle;\n",
              "    }\n",
              "\n",
              "    .dataframe tbody tr th {\n",
              "        vertical-align: top;\n",
              "    }\n",
              "\n",
              "    .dataframe thead th {\n",
              "        text-align: right;\n",
              "    }\n",
              "</style>\n",
              "<table border=\"1\" class=\"dataframe\">\n",
              "  <thead>\n",
              "    <tr style=\"text-align: right;\">\n",
              "      <th></th>\n",
              "      <th>Unnamed: 0</th>\n",
              "      <th>TV</th>\n",
              "      <th>Radio</th>\n",
              "      <th>Newspaper</th>\n",
              "      <th>Sales</th>\n",
              "    </tr>\n",
              "  </thead>\n",
              "  <tbody>\n",
              "    <tr>\n",
              "      <th>195</th>\n",
              "      <td>196</td>\n",
              "      <td>38.2</td>\n",
              "      <td>3.7</td>\n",
              "      <td>13.8</td>\n",
              "      <td>7.6</td>\n",
              "    </tr>\n",
              "    <tr>\n",
              "      <th>196</th>\n",
              "      <td>197</td>\n",
              "      <td>94.2</td>\n",
              "      <td>4.9</td>\n",
              "      <td>8.1</td>\n",
              "      <td>9.7</td>\n",
              "    </tr>\n",
              "    <tr>\n",
              "      <th>197</th>\n",
              "      <td>198</td>\n",
              "      <td>177.0</td>\n",
              "      <td>9.3</td>\n",
              "      <td>6.4</td>\n",
              "      <td>12.8</td>\n",
              "    </tr>\n",
              "    <tr>\n",
              "      <th>198</th>\n",
              "      <td>199</td>\n",
              "      <td>283.6</td>\n",
              "      <td>42.0</td>\n",
              "      <td>66.2</td>\n",
              "      <td>25.5</td>\n",
              "    </tr>\n",
              "    <tr>\n",
              "      <th>199</th>\n",
              "      <td>200</td>\n",
              "      <td>232.1</td>\n",
              "      <td>8.6</td>\n",
              "      <td>8.7</td>\n",
              "      <td>13.4</td>\n",
              "    </tr>\n",
              "  </tbody>\n",
              "</table>\n",
              "</div>"
            ],
            "text/plain": [
              "     Unnamed: 0     TV  Radio  Newspaper  Sales\n",
              "195         196   38.2    3.7       13.8    7.6\n",
              "196         197   94.2    4.9        8.1    9.7\n",
              "197         198  177.0    9.3        6.4   12.8\n",
              "198         199  283.6   42.0       66.2   25.5\n",
              "199         200  232.1    8.6        8.7   13.4"
            ]
          },
          "execution_count": 115,
          "metadata": {},
          "output_type": "execute_result"
        }
      ],
      "source": [
        "# print last 5 rows\n",
        "data.tail()"
      ]
    },
    {
      "cell_type": "code",
      "execution_count": null,
      "id": "41e5e59f",
      "metadata": {
        "id": "41e5e59f",
        "outputId": "906c2662-3d33-401e-d96e-77f25101aeda"
      },
      "outputs": [
        {
          "data": {
            "text/plain": [
              "Unnamed: 0      int64\n",
              "TV            float64\n",
              "Radio         float64\n",
              "Newspaper     float64\n",
              "Sales         float64\n",
              "dtype: object"
            ]
          },
          "execution_count": 116,
          "metadata": {},
          "output_type": "execute_result"
        }
      ],
      "source": [
        "# find data type\n",
        "data.dtypes"
      ]
    },
    {
      "cell_type": "code",
      "execution_count": null,
      "id": "ba0e83ae",
      "metadata": {
        "id": "ba0e83ae",
        "outputId": "c432fb29-facb-4bf3-aa25-47ecd1032bc8"
      },
      "outputs": [
        {
          "name": "stdout",
          "output_type": "stream",
          "text": [
            "<class 'pandas.core.frame.DataFrame'>\n",
            "RangeIndex: 200 entries, 0 to 199\n",
            "Data columns (total 5 columns):\n",
            " #   Column      Non-Null Count  Dtype  \n",
            "---  ------      --------------  -----  \n",
            " 0   Unnamed: 0  200 non-null    int64  \n",
            " 1   TV          200 non-null    float64\n",
            " 2   Radio       200 non-null    float64\n",
            " 3   Newspaper   200 non-null    float64\n",
            " 4   Sales       200 non-null    float64\n",
            "dtypes: float64(4), int64(1)\n",
            "memory usage: 7.9 KB\n"
          ]
        }
      ],
      "source": [
        "# find info\n",
        "data.info()"
      ]
    },
    {
      "cell_type": "code",
      "execution_count": null,
      "id": "068f2a85",
      "metadata": {
        "scrolled": true,
        "id": "068f2a85",
        "outputId": "20b53954-3744-4439-f5f8-67eb49f1fe27"
      },
      "outputs": [
        {
          "data": {
            "text/html": [
              "<div>\n",
              "<style scoped>\n",
              "    .dataframe tbody tr th:only-of-type {\n",
              "        vertical-align: middle;\n",
              "    }\n",
              "\n",
              "    .dataframe tbody tr th {\n",
              "        vertical-align: top;\n",
              "    }\n",
              "\n",
              "    .dataframe thead th {\n",
              "        text-align: right;\n",
              "    }\n",
              "</style>\n",
              "<table border=\"1\" class=\"dataframe\">\n",
              "  <thead>\n",
              "    <tr style=\"text-align: right;\">\n",
              "      <th></th>\n",
              "      <th>Unnamed: 0</th>\n",
              "      <th>TV</th>\n",
              "      <th>Radio</th>\n",
              "      <th>Newspaper</th>\n",
              "      <th>Sales</th>\n",
              "    </tr>\n",
              "  </thead>\n",
              "  <tbody>\n",
              "    <tr>\n",
              "      <th>count</th>\n",
              "      <td>200.000000</td>\n",
              "      <td>200.000000</td>\n",
              "      <td>200.000000</td>\n",
              "      <td>200.000000</td>\n",
              "      <td>200.000000</td>\n",
              "    </tr>\n",
              "    <tr>\n",
              "      <th>mean</th>\n",
              "      <td>100.500000</td>\n",
              "      <td>147.042500</td>\n",
              "      <td>23.264000</td>\n",
              "      <td>30.554000</td>\n",
              "      <td>14.022500</td>\n",
              "    </tr>\n",
              "    <tr>\n",
              "      <th>std</th>\n",
              "      <td>57.879185</td>\n",
              "      <td>85.854236</td>\n",
              "      <td>14.846809</td>\n",
              "      <td>21.778621</td>\n",
              "      <td>5.217457</td>\n",
              "    </tr>\n",
              "    <tr>\n",
              "      <th>min</th>\n",
              "      <td>1.000000</td>\n",
              "      <td>0.700000</td>\n",
              "      <td>0.000000</td>\n",
              "      <td>0.300000</td>\n",
              "      <td>1.600000</td>\n",
              "    </tr>\n",
              "    <tr>\n",
              "      <th>25%</th>\n",
              "      <td>50.750000</td>\n",
              "      <td>74.375000</td>\n",
              "      <td>9.975000</td>\n",
              "      <td>12.750000</td>\n",
              "      <td>10.375000</td>\n",
              "    </tr>\n",
              "    <tr>\n",
              "      <th>50%</th>\n",
              "      <td>100.500000</td>\n",
              "      <td>149.750000</td>\n",
              "      <td>22.900000</td>\n",
              "      <td>25.750000</td>\n",
              "      <td>12.900000</td>\n",
              "    </tr>\n",
              "    <tr>\n",
              "      <th>75%</th>\n",
              "      <td>150.250000</td>\n",
              "      <td>218.825000</td>\n",
              "      <td>36.525000</td>\n",
              "      <td>45.100000</td>\n",
              "      <td>17.400000</td>\n",
              "    </tr>\n",
              "    <tr>\n",
              "      <th>max</th>\n",
              "      <td>200.000000</td>\n",
              "      <td>296.400000</td>\n",
              "      <td>49.600000</td>\n",
              "      <td>114.000000</td>\n",
              "      <td>27.000000</td>\n",
              "    </tr>\n",
              "  </tbody>\n",
              "</table>\n",
              "</div>"
            ],
            "text/plain": [
              "       Unnamed: 0          TV       Radio   Newspaper       Sales\n",
              "count  200.000000  200.000000  200.000000  200.000000  200.000000\n",
              "mean   100.500000  147.042500   23.264000   30.554000   14.022500\n",
              "std     57.879185   85.854236   14.846809   21.778621    5.217457\n",
              "min      1.000000    0.700000    0.000000    0.300000    1.600000\n",
              "25%     50.750000   74.375000    9.975000   12.750000   10.375000\n",
              "50%    100.500000  149.750000   22.900000   25.750000   12.900000\n",
              "75%    150.250000  218.825000   36.525000   45.100000   17.400000\n",
              "max    200.000000  296.400000   49.600000  114.000000   27.000000"
            ]
          },
          "execution_count": 118,
          "metadata": {},
          "output_type": "execute_result"
        }
      ],
      "source": [
        "# perform statistical analysis\n",
        "data.describe()"
      ]
    },
    {
      "cell_type": "code",
      "execution_count": null,
      "id": "0e7f8c58",
      "metadata": {
        "id": "0e7f8c58",
        "outputId": "799f3251-a12d-4116-8a7e-59188f2614a9"
      },
      "outputs": [
        {
          "data": {
            "text/plain": [
              "Unnamed: 0    0\n",
              "TV            0\n",
              "Radio         0\n",
              "Newspaper     0\n",
              "Sales         0\n",
              "dtype: int64"
            ]
          },
          "execution_count": 119,
          "metadata": {},
          "output_type": "execute_result"
        }
      ],
      "source": [
        "# check for missing values\n",
        "data.isnull().sum()"
      ]
    },
    {
      "cell_type": "code",
      "execution_count": null,
      "id": "79b40c85",
      "metadata": {
        "id": "79b40c85"
      },
      "outputs": [],
      "source": [
        "# drop unamed column\n",
        "data.drop('Unnamed: 0',axis=1,inplace=True)"
      ]
    },
    {
      "cell_type": "markdown",
      "id": "460ce7f6",
      "metadata": {
        "id": "460ce7f6"
      },
      "source": [
        "# Exploratory data analysis"
      ]
    },
    {
      "cell_type": "markdown",
      "id": "98daa996",
      "metadata": {
        "id": "98daa996"
      },
      "source": [
        "### Univariate analysis"
      ]
    },
    {
      "cell_type": "code",
      "execution_count": null,
      "id": "4ff75d95",
      "metadata": {
        "id": "4ff75d95",
        "outputId": "ca6f9415-0a43-4659-dc69-40b9b52331fd"
      },
      "outputs": [
        {
          "data": {
            "text/plain": [
              "<AxesSubplot:xlabel='TV', ylabel='Count'>"
            ]
          },
          "execution_count": 121,
          "metadata": {},
          "output_type": "execute_result"
        },
        {
          "data": {
            "image/png": "[encoded data removed]",
            "text/plain": [
              "<Figure size 300x300 with 1 Axes>"
            ]
          },
          "metadata": {},
          "output_type": "display_data"
        }
      ],
      "source": [
        "# check the distribution of Tv\n",
        "plt.figure(figsize=(3,3))\n",
        "sns.histplot(data=data,x='TV',kde=True)"
      ]
    },
    {
      "cell_type": "code",
      "execution_count": null,
      "id": "84f6b52a",
      "metadata": {
        "id": "84f6b52a",
        "outputId": "035f9203-f8f1-46cf-fe24-61614379e7a6"
      },
      "outputs": [
        {
          "data": {
            "text/plain": [
              "<AxesSubplot:xlabel='Radio', ylabel='Count'>"
            ]
          },
          "execution_count": 122,
          "metadata": {},
          "output_type": "execute_result"
        },
        {
          "data": {
            "image/png": "[encoded data removed]",
            "text/plain": [
              "<Figure size 300x300 with 1 Axes>"
            ]
          },
          "metadata": {},
          "output_type": "display_data"
        }
      ],
      "source": [
        "# check the distribution of Radio\n",
        "plt.figure(figsize=(3,3))\n",
        "sns.histplot(data=data,x='Radio',kde=True)"
      ]
    },
    {
      "cell_type": "code",
      "execution_count": null,
      "id": "b2c8ce28",
      "metadata": {
        "id": "b2c8ce28",
        "outputId": "ba352012-cdf4-4ccb-cd2a-4b46f3501959"
      },
      "outputs": [
        {
          "data": {
            "text/plain": [
              "<AxesSubplot:xlabel='Newspaper', ylabel='Count'>"
            ]
          },
          "execution_count": 123,
          "metadata": {},
          "output_type": "execute_result"
        },
        {
          "data": {
            "image/png": "[encoded data removed]",
            "text/plain": [
              "<Figure size 300x300 with 1 Axes>"
            ]
          },
          "metadata": {},
          "output_type": "display_data"
        }
      ],
      "source": [
        "# check the distribution of Newspaper\n",
        "plt.figure(figsize=(3,3))\n",
        "sns.histplot(data=data,x='Newspaper',kde=True)"
      ]
    },
    {
      "cell_type": "code",
      "execution_count": null,
      "id": "dd0c234c",
      "metadata": {
        "scrolled": false,
        "id": "dd0c234c",
        "outputId": "681ab2ba-487f-4c81-9b2d-a6922c9e9864"
      },
      "outputs": [
        {
          "data": {
            "text/plain": [
              "<AxesSubplot:xlabel='Sales', ylabel='Count'>"
            ]
          },
          "execution_count": 124,
          "metadata": {},
          "output_type": "execute_result"
        },
        {
          "data": {
            "image/png": "[encoded data removed]",
            "text/plain": [
              "<Figure size 300x300 with 1 Axes>"
            ]
          },
          "metadata": {},
          "output_type": "display_data"
        }
      ],
      "source": [
        "# check the distribution of Sales\n",
        "plt.figure(figsize=(3,3))\n",
        "sns.histplot(data=data,x='Sales',kde=True)"
      ]
    },
    {
      "cell_type": "code",
      "execution_count": null,
      "id": "12d247e3",
      "metadata": {
        "id": "12d247e3",
        "outputId": "e577fb82-f624-4947-a59d-3e12e2224166"
      },
      "outputs": [
        {
          "ename": "SyntaxError",
          "evalue": "invalid syntax (3559255037.py, line 2)",
          "output_type": "error",
          "traceback": [
            "\u001b[1;36m  File \u001b[1;32m\"C:\\Users\\Dell-5490\\AppData\\Local\\Temp\\ipykernel_12016\\3559255037.py\"\u001b[1;36m, line \u001b[1;32m2\u001b[0m\n\u001b[1;33m    * Sales represents normal distribution\u001b[0m\n\u001b[1;37m            ^\u001b[0m\n\u001b[1;31mSyntaxError\u001b[0m\u001b[1;31m:\u001b[0m invalid syntax\n"
          ]
        }
      ],
      "source": [
        "# Insights\n",
        "* Sales represents normal distribution\n",
        "* TV, radio and Newspaper are representing non normal distribution."
      ]
    },
    {
      "cell_type": "markdown",
      "id": "d2176e1a",
      "metadata": {
        "id": "d2176e1a"
      },
      "source": [
        "## Bivariate analysis"
      ]
    },
    {
      "cell_type": "code",
      "execution_count": null,
      "id": "a5aa3eb7",
      "metadata": {
        "scrolled": false,
        "id": "a5aa3eb7",
        "outputId": "9439cb24-661b-4cdd-acb3-eb7631322aab"
      },
      "outputs": [
        {
          "data": {
            "text/plain": [
              "<AxesSubplot:xlabel='TV', ylabel='Sales'>"
            ]
          },
          "execution_count": 126,
          "metadata": {},
          "output_type": "execute_result"
        },
        {
          "data": {
            "image/png": "[encoded data removed]",
            "text/plain": [
              "<Figure size 300x300 with 1 Axes>"
            ]
          },
          "metadata": {},
          "output_type": "display_data"
        }
      ],
      "source": [
        "# Analyse relationship between TV and sales\n",
        "plt.figure(figsize=(3,3))\n",
        "sns.scatterplot(data=data,x='TV',y='Sales')"
      ]
    },
    {
      "cell_type": "code",
      "execution_count": null,
      "id": "7997d53b",
      "metadata": {
        "id": "7997d53b",
        "outputId": "15dc23e1-1427-40a0-82c7-6c4824b527ff"
      },
      "outputs": [
        {
          "ename": "SyntaxError",
          "evalue": "invalid syntax (2364227827.py, line 2)",
          "output_type": "error",
          "traceback": [
            "\u001b[1;36m  File \u001b[1;32m\"C:\\Users\\Dell-5490\\AppData\\Local\\Temp\\ipykernel_12016\\2364227827.py\"\u001b[1;36m, line \u001b[1;32m2\u001b[0m\n\u001b[1;33m    * There is positive relationship between TV and sales.\u001b[0m\n\u001b[1;37m            ^\u001b[0m\n\u001b[1;31mSyntaxError\u001b[0m\u001b[1;31m:\u001b[0m invalid syntax\n"
          ]
        }
      ],
      "source": [
        "# Insights\n",
        "* There is positive relationship between TV and sales.\n",
        "* Sales increases as we increase the amount investing on TV marketing."
      ]
    },
    {
      "cell_type": "code",
      "execution_count": null,
      "id": "00388c40",
      "metadata": {
        "scrolled": true,
        "id": "00388c40",
        "outputId": "c8b7aef6-4576-4684-bfd3-64c9f58751f4"
      },
      "outputs": [
        {
          "data": {
            "text/plain": [
              "<AxesSubplot:xlabel='Radio', ylabel='Sales'>"
            ]
          },
          "execution_count": 128,
          "metadata": {},
          "output_type": "execute_result"
        },
        {
          "data": {
            "image/png": "[encoded data removed]",
            "text/plain": [
              "<Figure size 300x300 with 1 Axes>"
            ]
          },
          "metadata": {},
          "output_type": "display_data"
        }
      ],
      "source": [
        "# analyse relationship between Radio and sales\n",
        "plt.figure(figsize=(3,3))\n",
        "sns.scatterplot(data=data,x='Radio',y='Sales')"
      ]
    },
    {
      "cell_type": "code",
      "execution_count": null,
      "id": "5bac954c",
      "metadata": {
        "id": "5bac954c",
        "outputId": "90cc658f-dcdc-44de-b567-b7ddfdbe112b"
      },
      "outputs": [
        {
          "ename": "SyntaxError",
          "evalue": "invalid syntax (974566923.py, line 2)",
          "output_type": "error",
          "traceback": [
            "\u001b[1;36m  File \u001b[1;32m\"C:\\Users\\Dell-5490\\AppData\\Local\\Temp\\ipykernel_12016\\974566923.py\"\u001b[1;36m, line \u001b[1;32m2\u001b[0m\n\u001b[1;33m    * Sales increaes as we invest more in Radio advertising.\u001b[0m\n\u001b[1;37m            ^\u001b[0m\n\u001b[1;31mSyntaxError\u001b[0m\u001b[1;31m:\u001b[0m invalid syntax\n"
          ]
        }
      ],
      "source": [
        "# Insights\n",
        "* Sales increaes as we invest more in Radio advertising.\n",
        "* In some cases we could see drop in sales with high investment."
      ]
    },
    {
      "cell_type": "code",
      "execution_count": null,
      "id": "dda13f91",
      "metadata": {
        "scrolled": true,
        "id": "dda13f91",
        "outputId": "648abf52-895c-413c-db4a-832889a586c0"
      },
      "outputs": [
        {
          "data": {
            "text/plain": [
              "<AxesSubplot:xlabel='Newspaper', ylabel='Sales'>"
            ]
          },
          "execution_count": 130,
          "metadata": {},
          "output_type": "execute_result"
        },
        {
          "data": {
            "image/png": "[encoded data removed]",
            "text/plain": [
              "<Figure size 300x300 with 1 Axes>"
            ]
          },
          "metadata": {},
          "output_type": "display_data"
        }
      ],
      "source": [
        "# analyse relationship between Newspaper and sales\n",
        "plt.figure(figsize=(3,3))\n",
        "sns.scatterplot(data=data,x='Newspaper',y='Sales')"
      ]
    },
    {
      "cell_type": "raw",
      "id": "49026b59",
      "metadata": {
        "id": "49026b59"
      },
      "source": [
        "# Insights\n",
        "* There is no relationship between newspaper and sales.\n",
        "* Even with high or less investment on Newspaper advertising it will\n",
        "yield less sales"
      ]
    },
    {
      "cell_type": "raw",
      "id": "6d1ceafb",
      "metadata": {
        "id": "6d1ceafb"
      },
      "source": [
        "# Final Insights\n",
        "* Investing more in TV adverstising will be a wise choice to achieve high sales rather\n",
        "investing in Radio and Neewspaper.\n",
        "* Investing in Newspaper is not really a good option\n",
        "\n"
      ]
    },
    {
      "cell_type": "markdown",
      "id": "a236927d",
      "metadata": {
        "id": "a236927d"
      },
      "source": [
        "### Multivariate analysis"
      ]
    },
    {
      "cell_type": "code",
      "execution_count": null,
      "id": "555fb349",
      "metadata": {
        "id": "555fb349",
        "outputId": "219c1a3c-69cd-4d11-934e-8c90614a7a38"
      },
      "outputs": [
        {
          "data": {
            "text/plain": [
              "<seaborn.axisgrid.PairGrid at 0x20b39976b20>"
            ]
          },
          "execution_count": 131,
          "metadata": {},
          "output_type": "execute_result"
        },
        {
          "data": {
            "image/png": "[encoded data removed]",
            "text/plain": [
              "<Figure size 1000x1000 with 20 Axes>"
            ]
          },
          "metadata": {},
          "output_type": "display_data"
        }
      ],
      "source": [
        "sns.pairplot(data)"
      ]
    },
    {
      "cell_type": "markdown",
      "id": "f8f6622a",
      "metadata": {
        "id": "f8f6622a"
      },
      "source": [
        "# Data Preprocessing"
      ]
    },
    {
      "cell_type": "code",
      "execution_count": null,
      "id": "d4b8f163",
      "metadata": {
        "id": "d4b8f163",
        "outputId": "01ae3400-bcd7-49cd-aa3b-bb9ba3b60473"
      },
      "outputs": [
        {
          "data": {
            "text/plain": [
              "TV           0\n",
              "Radio        0\n",
              "Newspaper    0\n",
              "Sales        0\n",
              "dtype: int64"
            ]
          },
          "execution_count": 132,
          "metadata": {},
          "output_type": "execute_result"
        }
      ],
      "source": [
        "# check for missing values\n",
        "data.isnull().sum()"
      ]
    },
    {
      "cell_type": "code",
      "execution_count": null,
      "id": "4dc0558a",
      "metadata": {
        "id": "4dc0558a",
        "outputId": "7421c114-954f-470b-d87c-f26da0f1017b"
      },
      "outputs": [
        {
          "data": {
            "text/plain": [
              "0"
            ]
          },
          "execution_count": 133,
          "metadata": {},
          "output_type": "execute_result"
        }
      ],
      "source": [
        "# check for duplicates\n",
        "data.duplicated().sum()"
      ]
    },
    {
      "cell_type": "markdown",
      "id": "947348b1",
      "metadata": {
        "id": "947348b1"
      },
      "source": [
        "# Check for Outliers and handle them"
      ]
    },
    {
      "cell_type": "code",
      "execution_count": null,
      "id": "5b898f40",
      "metadata": {
        "id": "5b898f40",
        "outputId": "3f3573f0-53c1-4907-cfa6-eeab56b489be"
      },
      "outputs": [
        {
          "data": {
            "text/plain": [
              "<AxesSubplot:xlabel='TV'>"
            ]
          },
          "execution_count": 134,
          "metadata": {},
          "output_type": "execute_result"
        },
        {
          "data": {
            "image/png": "[encoded data removed]",
            "text/plain": [
              "<Figure size 300x300 with 1 Axes>"
            ]
          },
          "metadata": {},
          "output_type": "display_data"
        }
      ],
      "source": [
        "# check outliers in TV\n",
        "plt.figure(figsize=(3,3))\n",
        "sns.boxplot(data=data,x='TV')"
      ]
    },
    {
      "cell_type": "code",
      "execution_count": null,
      "id": "acf242b5",
      "metadata": {
        "id": "acf242b5",
        "outputId": "016e4934-1a5f-419f-bdd7-0c370ea67edf"
      },
      "outputs": [
        {
          "data": {
            "text/plain": [
              "<AxesSubplot:xlabel='Radio'>"
            ]
          },
          "execution_count": 135,
          "metadata": {},
          "output_type": "execute_result"
        },
        {
          "data": {
            "image/png": "[encoded data removed]",
            "text/plain": [
              "<Figure size 300x300 with 1 Axes>"
            ]
          },
          "metadata": {},
          "output_type": "display_data"
        }
      ],
      "source": [
        "# check outliers in Radio\n",
        "plt.figure(figsize=(3,3))\n",
        "sns.boxplot(data=data,x='Radio')"
      ]
    },
    {
      "cell_type": "code",
      "execution_count": null,
      "id": "8affb660",
      "metadata": {
        "scrolled": true,
        "id": "8affb660",
        "outputId": "0981fca9-8df1-4cec-f888-720dc441464e"
      },
      "outputs": [
        {
          "data": {
            "text/plain": [
              "<AxesSubplot:xlabel='Newspaper'>"
            ]
          },
          "execution_count": 136,
          "metadata": {},
          "output_type": "execute_result"
        },
        {
          "data": {
            "image/png": "[encoded data removed]",
            "text/plain": [
              "<Figure size 300x300 with 1 Axes>"
            ]
          },
          "metadata": {},
          "output_type": "display_data"
        }
      ],
      "source": [
        "# check outliers in Newspaper\n",
        "plt.figure(figsize=(3,3))\n",
        "sns.boxplot(data=data,x='Newspaper')"
      ]
    },
    {
      "cell_type": "code",
      "execution_count": null,
      "id": "0a7b4a14",
      "metadata": {
        "scrolled": true,
        "id": "0a7b4a14",
        "outputId": "fc919a0f-82c8-4d5a-a9af-52ab08e03d42"
      },
      "outputs": [
        {
          "data": {
            "text/plain": [
              "<AxesSubplot:xlabel='Sales'>"
            ]
          },
          "execution_count": 137,
          "metadata": {},
          "output_type": "execute_result"
        },
        {
          "data": {
            "image/png": "[encoded data removed]",
            "text/plain": [
              "<Figure size 300x300 with 1 Axes>"
            ]
          },
          "metadata": {},
          "output_type": "display_data"
        }
      ],
      "source": [
        "# check outliers in Sales\n",
        "plt.figure(figsize=(3,3))\n",
        "sns.boxplot(data=data,x='Sales')"
      ]
    },
    {
      "cell_type": "raw",
      "id": "c22ba9b6",
      "metadata": {
        "id": "c22ba9b6"
      },
      "source": [
        "# Clearly we can see outliers in Newspaper column.\n",
        "# Since distribution of newspaper is not normal will use IQR method to identify Outliers."
      ]
    },
    {
      "cell_type": "markdown",
      "id": "c6dbd86f",
      "metadata": {
        "id": "c6dbd86f"
      },
      "source": [
        "# IQR Method to Handle outliers"
      ]
    },
    {
      "cell_type": "code",
      "execution_count": null,
      "id": "9c95c58b",
      "metadata": {
        "id": "9c95c58b"
      },
      "outputs": [],
      "source": [
        "# Find Q1 and Q3\n",
        "Q1=data['Newspaper'].quantile(0.25)\n",
        "Q3=data['Newspaper'].quantile(0.75)\n",
        "# Find IQR\n",
        "IQR=Q3-Q1\n",
        "# Find lower limit and upper limit\n",
        "lower_limit=Q1-1.5*IQR\n",
        "upper_limit=Q3+1.5*IQR\n"
      ]
    },
    {
      "cell_type": "code",
      "execution_count": null,
      "id": "07800c63",
      "metadata": {
        "id": "07800c63",
        "outputId": "c33580e7-5662-4528-c344-5a582384aa10"
      },
      "outputs": [
        {
          "name": "stdout",
          "output_type": "stream",
          "text": [
            " Lower quartile 12.75\n",
            "upper quartile 45.1\n",
            "Inter quartile range 32.35\n",
            "Lower limit -35.775000000000006\n",
            "upper limit 93.625\n"
          ]
        }
      ],
      "source": [
        "print(\" Lower quartile\",Q1)\n",
        "print(\"upper quartile\",Q3)\n",
        "print(\"Inter quartile range\",IQR)\n",
        "print(\"Lower limit\",lower_limit)\n",
        "print(\"upper limit\",upper_limit)"
      ]
    },
    {
      "cell_type": "code",
      "execution_count": null,
      "id": "29e3c852",
      "metadata": {
        "id": "29e3c852",
        "outputId": "c8d026ed-9970-4883-89ab-b20ca451669b"
      },
      "outputs": [
        {
          "data": {
            "text/html": [
              "<div>\n",
              "<style scoped>\n",
              "    .dataframe tbody tr th:only-of-type {\n",
              "        vertical-align: middle;\n",
              "    }\n",
              "\n",
              "    .dataframe tbody tr th {\n",
              "        vertical-align: top;\n",
              "    }\n",
              "\n",
              "    .dataframe thead th {\n",
              "        text-align: right;\n",
              "    }\n",
              "</style>\n",
              "<table border=\"1\" class=\"dataframe\">\n",
              "  <thead>\n",
              "    <tr style=\"text-align: right;\">\n",
              "      <th></th>\n",
              "      <th>TV</th>\n",
              "      <th>Radio</th>\n",
              "      <th>Newspaper</th>\n",
              "      <th>Sales</th>\n",
              "    </tr>\n",
              "  </thead>\n",
              "  <tbody>\n",
              "  </tbody>\n",
              "</table>\n",
              "</div>"
            ],
            "text/plain": [
              "Empty DataFrame\n",
              "Columns: [TV, Radio, Newspaper, Sales]\n",
              "Index: []"
            ]
          },
          "execution_count": 140,
          "metadata": {},
          "output_type": "execute_result"
        }
      ],
      "source": [
        "# Find values less than lower limit\n",
        "data.loc[data['Newspaper']<lower_limit]"
      ]
    },
    {
      "cell_type": "code",
      "execution_count": null,
      "id": "cfefb9cb",
      "metadata": {
        "id": "cfefb9cb",
        "outputId": "4f343d19-2caa-40c0-e311-c66d5ec41494"
      },
      "outputs": [
        {
          "data": {
            "text/html": [
              "<div>\n",
              "<style scoped>\n",
              "    .dataframe tbody tr th:only-of-type {\n",
              "        vertical-align: middle;\n",
              "    }\n",
              "\n",
              "    .dataframe tbody tr th {\n",
              "        vertical-align: top;\n",
              "    }\n",
              "\n",
              "    .dataframe thead th {\n",
              "        text-align: right;\n",
              "    }\n",
              "</style>\n",
              "<table border=\"1\" class=\"dataframe\">\n",
              "  <thead>\n",
              "    <tr style=\"text-align: right;\">\n",
              "      <th></th>\n",
              "      <th>TV</th>\n",
              "      <th>Radio</th>\n",
              "      <th>Newspaper</th>\n",
              "      <th>Sales</th>\n",
              "    </tr>\n",
              "  </thead>\n",
              "  <tbody>\n",
              "    <tr>\n",
              "      <th>16</th>\n",
              "      <td>67.8</td>\n",
              "      <td>36.6</td>\n",
              "      <td>114.0</td>\n",
              "      <td>12.5</td>\n",
              "    </tr>\n",
              "    <tr>\n",
              "      <th>101</th>\n",
              "      <td>296.4</td>\n",
              "      <td>36.3</td>\n",
              "      <td>100.9</td>\n",
              "      <td>23.8</td>\n",
              "    </tr>\n",
              "  </tbody>\n",
              "</table>\n",
              "</div>"
            ],
            "text/plain": [
              "        TV  Radio  Newspaper  Sales\n",
              "16    67.8   36.6      114.0   12.5\n",
              "101  296.4   36.3      100.9   23.8"
            ]
          },
          "execution_count": 141,
          "metadata": {},
          "output_type": "execute_result"
        }
      ],
      "source": [
        "# find the values greater than upper limit\n",
        "data.loc[data['Newspaper']>upper_limit]"
      ]
    },
    {
      "cell_type": "code",
      "execution_count": null,
      "id": "54fcd8b7",
      "metadata": {
        "id": "54fcd8b7"
      },
      "outputs": [],
      "source": [
        "# Since distribuion of newspaper is not normal we replace outliers with median"
      ]
    },
    {
      "cell_type": "code",
      "execution_count": null,
      "id": "3d4cf65d",
      "metadata": {
        "id": "3d4cf65d"
      },
      "outputs": [],
      "source": [
        "data.loc[data['Newspaper']>upper_limit,'Newspaper']=data['Newspaper'].median()"
      ]
    },
    {
      "cell_type": "code",
      "execution_count": null,
      "id": "4a4c1eb6",
      "metadata": {
        "scrolled": true,
        "id": "4a4c1eb6",
        "outputId": "335c5d7e-a46a-4dc8-99b2-46919f8a9e8e"
      },
      "outputs": [
        {
          "data": {
            "text/plain": [
              "<AxesSubplot:xlabel='Newspaper'>"
            ]
          },
          "execution_count": 144,
          "metadata": {},
          "output_type": "execute_result"
        },
        {
          "data": {
            "image/png": "[encoded data removed]",
            "text/plain": [
              "<Figure size 640x480 with 1 Axes>"
            ]
          },
          "metadata": {},
          "output_type": "display_data"
        }
      ],
      "source": [
        "sns.boxplot(data=data,x='Newspaper')"
      ]
    },
    {
      "cell_type": "markdown",
      "id": "391e22e2",
      "metadata": {
        "id": "391e22e2"
      },
      "source": [
        "# Scaling"
      ]
    },
    {
      "cell_type": "code",
      "execution_count": null,
      "id": "76a528d8",
      "metadata": {
        "id": "76a528d8"
      },
      "outputs": [],
      "source": [
        "# import minmax scaler\n",
        "from sklearn.preprocessing import MinMaxScaler\n",
        "# initialise minmaxscaler\n",
        "scaling=MinMaxScaler()\n",
        "data[['TV','Radio','Newspaper']]=scaling.fit_transform(data[['TV','Radio','Newspaper']])"
      ]
    },
    {
      "cell_type": "code",
      "execution_count": null,
      "id": "55978b53",
      "metadata": {
        "scrolled": false,
        "id": "55978b53",
        "outputId": "bb3f73cd-b277-4ee9-e13c-969bd687d186"
      },
      "outputs": [
        {
          "data": {
            "text/html": [
              "<div>\n",
              "<style scoped>\n",
              "    .dataframe tbody tr th:only-of-type {\n",
              "        vertical-align: middle;\n",
              "    }\n",
              "\n",
              "    .dataframe tbody tr th {\n",
              "        vertical-align: top;\n",
              "    }\n",
              "\n",
              "    .dataframe thead th {\n",
              "        text-align: right;\n",
              "    }\n",
              "</style>\n",
              "<table border=\"1\" class=\"dataframe\">\n",
              "  <thead>\n",
              "    <tr style=\"text-align: right;\">\n",
              "      <th></th>\n",
              "      <th>TV</th>\n",
              "      <th>Radio</th>\n",
              "      <th>Newspaper</th>\n",
              "      <th>Sales</th>\n",
              "    </tr>\n",
              "  </thead>\n",
              "  <tbody>\n",
              "    <tr>\n",
              "      <th>0</th>\n",
              "      <td>0.775786</td>\n",
              "      <td>0.762097</td>\n",
              "      <td>0.773288</td>\n",
              "      <td>22.1</td>\n",
              "    </tr>\n",
              "    <tr>\n",
              "      <th>1</th>\n",
              "      <td>0.148123</td>\n",
              "      <td>0.792339</td>\n",
              "      <td>0.502806</td>\n",
              "      <td>10.4</td>\n",
              "    </tr>\n",
              "    <tr>\n",
              "      <th>2</th>\n",
              "      <td>0.055800</td>\n",
              "      <td>0.925403</td>\n",
              "      <td>0.774411</td>\n",
              "      <td>9.3</td>\n",
              "    </tr>\n",
              "    <tr>\n",
              "      <th>3</th>\n",
              "      <td>0.509976</td>\n",
              "      <td>0.832661</td>\n",
              "      <td>0.653199</td>\n",
              "      <td>18.5</td>\n",
              "    </tr>\n",
              "    <tr>\n",
              "      <th>4</th>\n",
              "      <td>0.609063</td>\n",
              "      <td>0.217742</td>\n",
              "      <td>0.652076</td>\n",
              "      <td>12.9</td>\n",
              "    </tr>\n",
              "    <tr>\n",
              "      <th>...</th>\n",
              "      <td>...</td>\n",
              "      <td>...</td>\n",
              "      <td>...</td>\n",
              "      <td>...</td>\n",
              "    </tr>\n",
              "    <tr>\n",
              "      <th>195</th>\n",
              "      <td>0.126818</td>\n",
              "      <td>0.074597</td>\n",
              "      <td>0.151515</td>\n",
              "      <td>7.6</td>\n",
              "    </tr>\n",
              "    <tr>\n",
              "      <th>196</th>\n",
              "      <td>0.316199</td>\n",
              "      <td>0.098790</td>\n",
              "      <td>0.087542</td>\n",
              "      <td>9.7</td>\n",
              "    </tr>\n",
              "    <tr>\n",
              "      <th>197</th>\n",
              "      <td>0.596212</td>\n",
              "      <td>0.187500</td>\n",
              "      <td>0.068462</td>\n",
              "      <td>12.8</td>\n",
              "    </tr>\n",
              "    <tr>\n",
              "      <th>198</th>\n",
              "      <td>0.956713</td>\n",
              "      <td>0.846774</td>\n",
              "      <td>0.739618</td>\n",
              "      <td>25.5</td>\n",
              "    </tr>\n",
              "    <tr>\n",
              "      <th>199</th>\n",
              "      <td>0.782550</td>\n",
              "      <td>0.173387</td>\n",
              "      <td>0.094276</td>\n",
              "      <td>13.4</td>\n",
              "    </tr>\n",
              "  </tbody>\n",
              "</table>\n",
              "<p>200 rows × 4 columns</p>\n",
              "</div>"
            ],
            "text/plain": [
              "           TV     Radio  Newspaper  Sales\n",
              "0    0.775786  0.762097   0.773288   22.1\n",
              "1    0.148123  0.792339   0.502806   10.4\n",
              "2    0.055800  0.925403   0.774411    9.3\n",
              "3    0.509976  0.832661   0.653199   18.5\n",
              "4    0.609063  0.217742   0.652076   12.9\n",
              "..        ...       ...        ...    ...\n",
              "195  0.126818  0.074597   0.151515    7.6\n",
              "196  0.316199  0.098790   0.087542    9.7\n",
              "197  0.596212  0.187500   0.068462   12.8\n",
              "198  0.956713  0.846774   0.739618   25.5\n",
              "199  0.782550  0.173387   0.094276   13.4\n",
              "\n",
              "[200 rows x 4 columns]"
            ]
          },
          "execution_count": 146,
          "metadata": {},
          "output_type": "execute_result"
        }
      ],
      "source": [
        "data"
      ]
    },
    {
      "cell_type": "code",
      "execution_count": null,
      "id": "861782df",
      "metadata": {
        "id": "861782df"
      },
      "outputs": [],
      "source": [
        "# Skipping converting Categorical data into numerical values."
      ]
    },
    {
      "cell_type": "markdown",
      "id": "dc5b56d2",
      "metadata": {
        "id": "dc5b56d2"
      },
      "source": [
        "# Feature Engineering"
      ]
    },
    {
      "cell_type": "code",
      "execution_count": null,
      "id": "19356a1f",
      "metadata": {
        "scrolled": true,
        "id": "19356a1f",
        "outputId": "f2343544-7f14-445a-e709-816637f05337"
      },
      "outputs": [
        {
          "data": {
            "text/html": [
              "<div>\n",
              "<style scoped>\n",
              "    .dataframe tbody tr th:only-of-type {\n",
              "        vertical-align: middle;\n",
              "    }\n",
              "\n",
              "    .dataframe tbody tr th {\n",
              "        vertical-align: top;\n",
              "    }\n",
              "\n",
              "    .dataframe thead th {\n",
              "        text-align: right;\n",
              "    }\n",
              "</style>\n",
              "<table border=\"1\" class=\"dataframe\">\n",
              "  <thead>\n",
              "    <tr style=\"text-align: right;\">\n",
              "      <th></th>\n",
              "      <th>TV</th>\n",
              "      <th>Radio</th>\n",
              "      <th>Newspaper</th>\n",
              "      <th>Sales</th>\n",
              "    </tr>\n",
              "  </thead>\n",
              "  <tbody>\n",
              "    <tr>\n",
              "      <th>TV</th>\n",
              "      <td>1.000000</td>\n",
              "      <td>0.054809</td>\n",
              "      <td>0.048462</td>\n",
              "      <td>0.782224</td>\n",
              "    </tr>\n",
              "    <tr>\n",
              "      <th>Radio</th>\n",
              "      <td>0.054809</td>\n",
              "      <td>1.000000</td>\n",
              "      <td>0.343141</td>\n",
              "      <td>0.576223</td>\n",
              "    </tr>\n",
              "    <tr>\n",
              "      <th>Newspaper</th>\n",
              "      <td>0.048462</td>\n",
              "      <td>0.343141</td>\n",
              "      <td>1.000000</td>\n",
              "      <td>0.215938</td>\n",
              "    </tr>\n",
              "    <tr>\n",
              "      <th>Sales</th>\n",
              "      <td>0.782224</td>\n",
              "      <td>0.576223</td>\n",
              "      <td>0.215938</td>\n",
              "      <td>1.000000</td>\n",
              "    </tr>\n",
              "  </tbody>\n",
              "</table>\n",
              "</div>"
            ],
            "text/plain": [
              "                 TV     Radio  Newspaper     Sales\n",
              "TV         1.000000  0.054809   0.048462  0.782224\n",
              "Radio      0.054809  1.000000   0.343141  0.576223\n",
              "Newspaper  0.048462  0.343141   1.000000  0.215938\n",
              "Sales      0.782224  0.576223   0.215938  1.000000"
            ]
          },
          "execution_count": 148,
          "metadata": {},
          "output_type": "execute_result"
        }
      ],
      "source": [
        "data.corr()"
      ]
    },
    {
      "cell_type": "code",
      "execution_count": null,
      "id": "958531da",
      "metadata": {
        "scrolled": true,
        "id": "958531da",
        "outputId": "1471d364-4547-41c4-b8cd-cb9c610d636a"
      },
      "outputs": [
        {
          "data": {
            "text/plain": [
              "<AxesSubplot:>"
            ]
          },
          "execution_count": 149,
          "metadata": {},
          "output_type": "execute_result"
        },
        {
          "data": {
            "image/png": "[encoded data removed]",
            "text/plain": [
              "<Figure size 640x480 with 2 Axes>"
            ]
          },
          "metadata": {},
          "output_type": "display_data"
        }
      ],
      "source": [
        "sns.heatmap(data.corr(),annot=True)"
      ]
    },
    {
      "cell_type": "code",
      "execution_count": null,
      "id": "1baadac6",
      "metadata": {
        "scrolled": true,
        "id": "1baadac6",
        "outputId": "ff9f6fba-2041-46d3-fa62-50998f63e263"
      },
      "outputs": [
        {
          "data": {
            "text/plain": [
              "<AxesSubplot:>"
            ]
          },
          "execution_count": 150,
          "metadata": {},
          "output_type": "execute_result"
        },
        {
          "data": {
            "image/png": "[encoded data removed]",
            "text/plain": [
              "<Figure size 300x300 with 2 Axes>"
            ]
          },
          "metadata": {},
          "output_type": "display_data"
        }
      ],
      "source": [
        "# no or multicoliinearity\n",
        "plt.figure(figsize=(3,3))\n",
        "sns.heatmap(data.drop('Sales',axis=1).corr(),annot=True)"
      ]
    },
    {
      "cell_type": "code",
      "execution_count": null,
      "id": "669a1598",
      "metadata": {
        "id": "669a1598"
      },
      "outputs": [],
      "source": [
        "# Split data into x and y\n",
        "x=data.drop('Sales',axis=1)\n",
        "y=data[['Sales']]"
      ]
    },
    {
      "cell_type": "code",
      "execution_count": null,
      "id": "cb55430a",
      "metadata": {
        "id": "cb55430a"
      },
      "outputs": [],
      "source": [
        "# split data for training and testing\n",
        "from sklearn.model_selection import train_test_split\n",
        "x_train,x_test,y_train,y_test=train_test_split(x,y,test_size=0.30,random_state=4)"
      ]
    },
    {
      "cell_type": "code",
      "execution_count": null,
      "id": "20e87c84",
      "metadata": {
        "id": "20e87c84",
        "outputId": "245d98c7-0deb-481a-8367-a02148a15322"
      },
      "outputs": [
        {
          "data": {
            "text/plain": [
              "(140, 3)"
            ]
          },
          "execution_count": 153,
          "metadata": {},
          "output_type": "execute_result"
        }
      ],
      "source": [
        "x_train.shape"
      ]
    },
    {
      "cell_type": "markdown",
      "id": "f7bdefba",
      "metadata": {
        "id": "f7bdefba"
      },
      "source": [
        "# Apply Linear Regression Model"
      ]
    },
    {
      "cell_type": "code",
      "execution_count": null,
      "id": "6edcef02",
      "metadata": {
        "id": "6edcef02"
      },
      "outputs": [],
      "source": [
        "# import Linear Regression model\n",
        "from sklearn.linear_model import LinearRegression\n",
        "# initialise model\n",
        "model=LinearRegression()\n",
        "# train model\n",
        "model.fit(x_train,y_train)\n",
        "# make predictions\n",
        "y_pred=model.predict(x_test)"
      ]
    },
    {
      "cell_type": "code",
      "execution_count": null,
      "id": "12a0c9f9",
      "metadata": {
        "id": "12a0c9f9"
      },
      "outputs": [],
      "source": [
        "actual_value=y_test.copy()"
      ]
    },
    {
      "cell_type": "code",
      "execution_count": null,
      "id": "c8c79b56",
      "metadata": {
        "id": "c8c79b56"
      },
      "outputs": [],
      "source": [
        "actual_value[\"pred\"]=y_pred"
      ]
    },
    {
      "cell_type": "code",
      "execution_count": null,
      "id": "b53ccd62",
      "metadata": {
        "id": "b53ccd62",
        "outputId": "151a9b3e-a98a-48c4-a6c3-0bfbecdd8512"
      },
      "outputs": [
        {
          "data": {
            "text/html": [
              "<div>\n",
              "<style scoped>\n",
              "    .dataframe tbody tr th:only-of-type {\n",
              "        vertical-align: middle;\n",
              "    }\n",
              "\n",
              "    .dataframe tbody tr th {\n",
              "        vertical-align: top;\n",
              "    }\n",
              "\n",
              "    .dataframe thead th {\n",
              "        text-align: right;\n",
              "    }\n",
              "</style>\n",
              "<table border=\"1\" class=\"dataframe\">\n",
              "  <thead>\n",
              "    <tr style=\"text-align: right;\">\n",
              "      <th></th>\n",
              "      <th>Sales</th>\n",
              "      <th>pred</th>\n",
              "    </tr>\n",
              "  </thead>\n",
              "  <tbody>\n",
              "    <tr>\n",
              "      <th>11</th>\n",
              "      <td>17.4</td>\n",
              "      <td>17.119202</td>\n",
              "    </tr>\n",
              "    <tr>\n",
              "      <th>99</th>\n",
              "      <td>17.2</td>\n",
              "      <td>16.863431</td>\n",
              "    </tr>\n",
              "    <tr>\n",
              "      <th>128</th>\n",
              "      <td>24.7</td>\n",
              "      <td>21.808677</td>\n",
              "    </tr>\n",
              "    <tr>\n",
              "      <th>175</th>\n",
              "      <td>27.0</td>\n",
              "      <td>24.554434</td>\n",
              "    </tr>\n",
              "    <tr>\n",
              "      <th>1</th>\n",
              "      <td>10.4</td>\n",
              "      <td>12.315519</td>\n",
              "    </tr>\n",
              "    <tr>\n",
              "      <th>111</th>\n",
              "      <td>21.8</td>\n",
              "      <td>20.927422</td>\n",
              "    </tr>\n",
              "    <tr>\n",
              "      <th>90</th>\n",
              "      <td>11.2</td>\n",
              "      <td>10.104123</td>\n",
              "    </tr>\n",
              "    <tr>\n",
              "      <th>177</th>\n",
              "      <td>11.7</td>\n",
              "      <td>12.379025</td>\n",
              "    </tr>\n",
              "    <tr>\n",
              "      <th>88</th>\n",
              "      <td>12.9</td>\n",
              "      <td>11.995708</td>\n",
              "    </tr>\n",
              "    <tr>\n",
              "      <th>187</th>\n",
              "      <td>17.3</td>\n",
              "      <td>16.953691</td>\n",
              "    </tr>\n",
              "    <tr>\n",
              "      <th>61</th>\n",
              "      <td>24.2</td>\n",
              "      <td>22.810072</td>\n",
              "    </tr>\n",
              "    <tr>\n",
              "      <th>199</th>\n",
              "      <td>13.4</td>\n",
              "      <td>15.198179</td>\n",
              "    </tr>\n",
              "    <tr>\n",
              "      <th>191</th>\n",
              "      <td>9.9</td>\n",
              "      <td>8.465726</td>\n",
              "    </tr>\n",
              "    <tr>\n",
              "      <th>123</th>\n",
              "      <td>15.2</td>\n",
              "      <td>14.885061</td>\n",
              "    </tr>\n",
              "    <tr>\n",
              "      <th>184</th>\n",
              "      <td>17.6</td>\n",
              "      <td>18.545490</td>\n",
              "    </tr>\n",
              "    <tr>\n",
              "      <th>188</th>\n",
              "      <td>15.9</td>\n",
              "      <td>18.561211</td>\n",
              "    </tr>\n",
              "    <tr>\n",
              "      <th>33</th>\n",
              "      <td>17.4</td>\n",
              "      <td>18.701162</td>\n",
              "    </tr>\n",
              "    <tr>\n",
              "      <th>171</th>\n",
              "      <td>14.5</td>\n",
              "      <td>14.507706</td>\n",
              "    </tr>\n",
              "    <tr>\n",
              "      <th>138</th>\n",
              "      <td>9.6</td>\n",
              "      <td>9.744399</td>\n",
              "    </tr>\n",
              "    <tr>\n",
              "      <th>84</th>\n",
              "      <td>21.7</td>\n",
              "      <td>20.588260</td>\n",
              "    </tr>\n",
              "    <tr>\n",
              "      <th>81</th>\n",
              "      <td>12.3</td>\n",
              "      <td>14.890352</td>\n",
              "    </tr>\n",
              "    <tr>\n",
              "      <th>102</th>\n",
              "      <td>14.8</td>\n",
              "      <td>17.712044</td>\n",
              "    </tr>\n",
              "    <tr>\n",
              "      <th>147</th>\n",
              "      <td>25.4</td>\n",
              "      <td>23.054791</td>\n",
              "    </tr>\n",
              "    <tr>\n",
              "      <th>34</th>\n",
              "      <td>9.5</td>\n",
              "      <td>7.720666</td>\n",
              "    </tr>\n",
              "    <tr>\n",
              "      <th>47</th>\n",
              "      <td>23.2</td>\n",
              "      <td>21.443588</td>\n",
              "    </tr>\n",
              "    <tr>\n",
              "      <th>124</th>\n",
              "      <td>19.7</td>\n",
              "      <td>19.617599</td>\n",
              "    </tr>\n",
              "    <tr>\n",
              "      <th>112</th>\n",
              "      <td>14.1</td>\n",
              "      <td>13.813484</td>\n",
              "    </tr>\n",
              "    <tr>\n",
              "      <th>6</th>\n",
              "      <td>11.8</td>\n",
              "      <td>11.642996</td>\n",
              "    </tr>\n",
              "    <tr>\n",
              "      <th>14</th>\n",
              "      <td>19.0</td>\n",
              "      <td>18.429333</td>\n",
              "    </tr>\n",
              "    <tr>\n",
              "      <th>190</th>\n",
              "      <td>10.8</td>\n",
              "      <td>12.210724</td>\n",
              "    </tr>\n",
              "    <tr>\n",
              "      <th>80</th>\n",
              "      <td>11.8</td>\n",
              "      <td>11.411837</td>\n",
              "    </tr>\n",
              "    <tr>\n",
              "      <th>18</th>\n",
              "      <td>11.3</td>\n",
              "      <td>9.963932</td>\n",
              "    </tr>\n",
              "    <tr>\n",
              "      <th>167</th>\n",
              "      <td>12.2</td>\n",
              "      <td>13.499588</td>\n",
              "    </tr>\n",
              "    <tr>\n",
              "      <th>45</th>\n",
              "      <td>14.9</td>\n",
              "      <td>15.193178</td>\n",
              "    </tr>\n",
              "    <tr>\n",
              "      <th>153</th>\n",
              "      <td>19.0</td>\n",
              "      <td>18.106016</td>\n",
              "    </tr>\n",
              "    <tr>\n",
              "      <th>119</th>\n",
              "      <td>6.6</td>\n",
              "      <td>6.924070</td>\n",
              "    </tr>\n",
              "    <tr>\n",
              "      <th>100</th>\n",
              "      <td>11.7</td>\n",
              "      <td>14.200720</td>\n",
              "    </tr>\n",
              "    <tr>\n",
              "      <th>83</th>\n",
              "      <td>13.6</td>\n",
              "      <td>14.276207</td>\n",
              "    </tr>\n",
              "    <tr>\n",
              "      <th>181</th>\n",
              "      <td>12.2</td>\n",
              "      <td>14.106463</td>\n",
              "    </tr>\n",
              "    <tr>\n",
              "      <th>71</th>\n",
              "      <td>12.4</td>\n",
              "      <td>10.773526</td>\n",
              "    </tr>\n",
              "    <tr>\n",
              "      <th>26</th>\n",
              "      <td>15.0</td>\n",
              "      <td>14.843851</td>\n",
              "    </tr>\n",
              "    <tr>\n",
              "      <th>134</th>\n",
              "      <td>10.8</td>\n",
              "      <td>11.949167</td>\n",
              "    </tr>\n",
              "    <tr>\n",
              "      <th>180</th>\n",
              "      <td>10.5</td>\n",
              "      <td>10.703094</td>\n",
              "    </tr>\n",
              "    <tr>\n",
              "      <th>158</th>\n",
              "      <td>7.3</td>\n",
              "      <td>10.400753</td>\n",
              "    </tr>\n",
              "    <tr>\n",
              "      <th>189</th>\n",
              "      <td>6.7</td>\n",
              "      <td>6.205292</td>\n",
              "    </tr>\n",
              "    <tr>\n",
              "      <th>89</th>\n",
              "      <td>16.7</td>\n",
              "      <td>16.821095</td>\n",
              "    </tr>\n",
              "    <tr>\n",
              "      <th>48</th>\n",
              "      <td>14.8</td>\n",
              "      <td>16.461198</td>\n",
              "    </tr>\n",
              "    <tr>\n",
              "      <th>116</th>\n",
              "      <td>12.2</td>\n",
              "      <td>12.077625</td>\n",
              "    </tr>\n",
              "    <tr>\n",
              "      <th>12</th>\n",
              "      <td>9.2</td>\n",
              "      <td>10.734446</td>\n",
              "    </tr>\n",
              "    <tr>\n",
              "      <th>69</th>\n",
              "      <td>22.3</td>\n",
              "      <td>20.864736</td>\n",
              "    </tr>\n",
              "    <tr>\n",
              "      <th>110</th>\n",
              "      <td>13.4</td>\n",
              "      <td>15.081260</td>\n",
              "    </tr>\n",
              "    <tr>\n",
              "      <th>154</th>\n",
              "      <td>15.6</td>\n",
              "      <td>15.410634</td>\n",
              "    </tr>\n",
              "    <tr>\n",
              "      <th>16</th>\n",
              "      <td>12.5</td>\n",
              "      <td>12.796680</td>\n",
              "    </tr>\n",
              "    <tr>\n",
              "      <th>19</th>\n",
              "      <td>14.6</td>\n",
              "      <td>14.117382</td>\n",
              "    </tr>\n",
              "    <tr>\n",
              "      <th>2</th>\n",
              "      <td>9.3</td>\n",
              "      <td>12.369650</td>\n",
              "    </tr>\n",
              "    <tr>\n",
              "      <th>143</th>\n",
              "      <td>10.4</td>\n",
              "      <td>9.023908</td>\n",
              "    </tr>\n",
              "    <tr>\n",
              "      <th>185</th>\n",
              "      <td>22.6</td>\n",
              "      <td>20.503929</td>\n",
              "    </tr>\n",
              "    <tr>\n",
              "      <th>29</th>\n",
              "      <td>10.5</td>\n",
              "      <td>9.341454</td>\n",
              "    </tr>\n",
              "    <tr>\n",
              "      <th>155</th>\n",
              "      <td>3.2</td>\n",
              "      <td>5.364759</td>\n",
              "    </tr>\n",
              "    <tr>\n",
              "      <th>24</th>\n",
              "      <td>9.7</td>\n",
              "      <td>8.247870</td>\n",
              "    </tr>\n",
              "  </tbody>\n",
              "</table>\n",
              "</div>"
            ],
            "text/plain": [
              "     Sales       pred\n",
              "11    17.4  17.119202\n",
              "99    17.2  16.863431\n",
              "128   24.7  21.808677\n",
              "175   27.0  24.554434\n",
              "1     10.4  12.315519\n",
              "111   21.8  20.927422\n",
              "90    11.2  10.104123\n",
              "177   11.7  12.379025\n",
              "88    12.9  11.995708\n",
              "187   17.3  16.953691\n",
              "61    24.2  22.810072\n",
              "199   13.4  15.198179\n",
              "191    9.9   8.465726\n",
              "123   15.2  14.885061\n",
              "184   17.6  18.545490\n",
              "188   15.9  18.561211\n",
              "33    17.4  18.701162\n",
              "171   14.5  14.507706\n",
              "138    9.6   9.744399\n",
              "84    21.7  20.588260\n",
              "81    12.3  14.890352\n",
              "102   14.8  17.712044\n",
              "147   25.4  23.054791\n",
              "34     9.5   7.720666\n",
              "47    23.2  21.443588\n",
              "124   19.7  19.617599\n",
              "112   14.1  13.813484\n",
              "6     11.8  11.642996\n",
              "14    19.0  18.429333\n",
              "190   10.8  12.210724\n",
              "80    11.8  11.411837\n",
              "18    11.3   9.963932\n",
              "167   12.2  13.499588\n",
              "45    14.9  15.193178\n",
              "153   19.0  18.106016\n",
              "119    6.6   6.924070\n",
              "100   11.7  14.200720\n",
              "83    13.6  14.276207\n",
              "181   12.2  14.106463\n",
              "71    12.4  10.773526\n",
              "26    15.0  14.843851\n",
              "134   10.8  11.949167\n",
              "180   10.5  10.703094\n",
              "158    7.3  10.400753\n",
              "189    6.7   6.205292\n",
              "89    16.7  16.821095\n",
              "48    14.8  16.461198\n",
              "116   12.2  12.077625\n",
              "12     9.2  10.734446\n",
              "69    22.3  20.864736\n",
              "110   13.4  15.081260\n",
              "154   15.6  15.410634\n",
              "16    12.5  12.796680\n",
              "19    14.6  14.117382\n",
              "2      9.3  12.369650\n",
              "143   10.4   9.023908\n",
              "185   22.6  20.503929\n",
              "29    10.5   9.341454\n",
              "155    3.2   5.364759\n",
              "24     9.7   8.247870"
            ]
          },
          "execution_count": 157,
          "metadata": {},
          "output_type": "execute_result"
        }
      ],
      "source": [
        "actual_value"
      ]
    },
    {
      "cell_type": "code",
      "execution_count": null,
      "id": "e784b5b4",
      "metadata": {
        "scrolled": false,
        "id": "e784b5b4",
        "outputId": "38ac1da8-c970-4515-aa7b-1cbe257ffcad"
      },
      "outputs": [
        {
          "data": {
            "text/html": [
              "<div>\n",
              "<style scoped>\n",
              "    .dataframe tbody tr th:only-of-type {\n",
              "        vertical-align: middle;\n",
              "    }\n",
              "\n",
              "    .dataframe tbody tr th {\n",
              "        vertical-align: top;\n",
              "    }\n",
              "\n",
              "    .dataframe thead th {\n",
              "        text-align: right;\n",
              "    }\n",
              "</style>\n",
              "<table border=\"1\" class=\"dataframe\">\n",
              "  <thead>\n",
              "    <tr style=\"text-align: right;\">\n",
              "      <th></th>\n",
              "      <th>Sales</th>\n",
              "      <th>pred</th>\n",
              "    </tr>\n",
              "  </thead>\n",
              "  <tbody>\n",
              "    <tr>\n",
              "      <th>11</th>\n",
              "      <td>17.4</td>\n",
              "      <td>17.119202</td>\n",
              "    </tr>\n",
              "    <tr>\n",
              "      <th>99</th>\n",
              "      <td>17.2</td>\n",
              "      <td>16.863431</td>\n",
              "    </tr>\n",
              "    <tr>\n",
              "      <th>128</th>\n",
              "      <td>24.7</td>\n",
              "      <td>21.808677</td>\n",
              "    </tr>\n",
              "    <tr>\n",
              "      <th>175</th>\n",
              "      <td>27.0</td>\n",
              "      <td>24.554434</td>\n",
              "    </tr>\n",
              "    <tr>\n",
              "      <th>1</th>\n",
              "      <td>10.4</td>\n",
              "      <td>12.315519</td>\n",
              "    </tr>\n",
              "    <tr>\n",
              "      <th>111</th>\n",
              "      <td>21.8</td>\n",
              "      <td>20.927422</td>\n",
              "    </tr>\n",
              "    <tr>\n",
              "      <th>90</th>\n",
              "      <td>11.2</td>\n",
              "      <td>10.104123</td>\n",
              "    </tr>\n",
              "    <tr>\n",
              "      <th>177</th>\n",
              "      <td>11.7</td>\n",
              "      <td>12.379025</td>\n",
              "    </tr>\n",
              "    <tr>\n",
              "      <th>88</th>\n",
              "      <td>12.9</td>\n",
              "      <td>11.995708</td>\n",
              "    </tr>\n",
              "    <tr>\n",
              "      <th>187</th>\n",
              "      <td>17.3</td>\n",
              "      <td>16.953691</td>\n",
              "    </tr>\n",
              "    <tr>\n",
              "      <th>61</th>\n",
              "      <td>24.2</td>\n",
              "      <td>22.810072</td>\n",
              "    </tr>\n",
              "    <tr>\n",
              "      <th>199</th>\n",
              "      <td>13.4</td>\n",
              "      <td>15.198179</td>\n",
              "    </tr>\n",
              "    <tr>\n",
              "      <th>191</th>\n",
              "      <td>9.9</td>\n",
              "      <td>8.465726</td>\n",
              "    </tr>\n",
              "    <tr>\n",
              "      <th>123</th>\n",
              "      <td>15.2</td>\n",
              "      <td>14.885061</td>\n",
              "    </tr>\n",
              "    <tr>\n",
              "      <th>184</th>\n",
              "      <td>17.6</td>\n",
              "      <td>18.545490</td>\n",
              "    </tr>\n",
              "    <tr>\n",
              "      <th>188</th>\n",
              "      <td>15.9</td>\n",
              "      <td>18.561211</td>\n",
              "    </tr>\n",
              "    <tr>\n",
              "      <th>33</th>\n",
              "      <td>17.4</td>\n",
              "      <td>18.701162</td>\n",
              "    </tr>\n",
              "    <tr>\n",
              "      <th>171</th>\n",
              "      <td>14.5</td>\n",
              "      <td>14.507706</td>\n",
              "    </tr>\n",
              "    <tr>\n",
              "      <th>138</th>\n",
              "      <td>9.6</td>\n",
              "      <td>9.744399</td>\n",
              "    </tr>\n",
              "    <tr>\n",
              "      <th>84</th>\n",
              "      <td>21.7</td>\n",
              "      <td>20.588260</td>\n",
              "    </tr>\n",
              "    <tr>\n",
              "      <th>81</th>\n",
              "      <td>12.3</td>\n",
              "      <td>14.890352</td>\n",
              "    </tr>\n",
              "    <tr>\n",
              "      <th>102</th>\n",
              "      <td>14.8</td>\n",
              "      <td>17.712044</td>\n",
              "    </tr>\n",
              "    <tr>\n",
              "      <th>147</th>\n",
              "      <td>25.4</td>\n",
              "      <td>23.054791</td>\n",
              "    </tr>\n",
              "    <tr>\n",
              "      <th>34</th>\n",
              "      <td>9.5</td>\n",
              "      <td>7.720666</td>\n",
              "    </tr>\n",
              "    <tr>\n",
              "      <th>47</th>\n",
              "      <td>23.2</td>\n",
              "      <td>21.443588</td>\n",
              "    </tr>\n",
              "    <tr>\n",
              "      <th>124</th>\n",
              "      <td>19.7</td>\n",
              "      <td>19.617599</td>\n",
              "    </tr>\n",
              "    <tr>\n",
              "      <th>112</th>\n",
              "      <td>14.1</td>\n",
              "      <td>13.813484</td>\n",
              "    </tr>\n",
              "    <tr>\n",
              "      <th>6</th>\n",
              "      <td>11.8</td>\n",
              "      <td>11.642996</td>\n",
              "    </tr>\n",
              "    <tr>\n",
              "      <th>14</th>\n",
              "      <td>19.0</td>\n",
              "      <td>18.429333</td>\n",
              "    </tr>\n",
              "    <tr>\n",
              "      <th>190</th>\n",
              "      <td>10.8</td>\n",
              "      <td>12.210724</td>\n",
              "    </tr>\n",
              "    <tr>\n",
              "      <th>80</th>\n",
              "      <td>11.8</td>\n",
              "      <td>11.411837</td>\n",
              "    </tr>\n",
              "    <tr>\n",
              "      <th>18</th>\n",
              "      <td>11.3</td>\n",
              "      <td>9.963932</td>\n",
              "    </tr>\n",
              "    <tr>\n",
              "      <th>167</th>\n",
              "      <td>12.2</td>\n",
              "      <td>13.499588</td>\n",
              "    </tr>\n",
              "    <tr>\n",
              "      <th>45</th>\n",
              "      <td>14.9</td>\n",
              "      <td>15.193178</td>\n",
              "    </tr>\n",
              "    <tr>\n",
              "      <th>153</th>\n",
              "      <td>19.0</td>\n",
              "      <td>18.106016</td>\n",
              "    </tr>\n",
              "    <tr>\n",
              "      <th>119</th>\n",
              "      <td>6.6</td>\n",
              "      <td>6.924070</td>\n",
              "    </tr>\n",
              "    <tr>\n",
              "      <th>100</th>\n",
              "      <td>11.7</td>\n",
              "      <td>14.200720</td>\n",
              "    </tr>\n",
              "    <tr>\n",
              "      <th>83</th>\n",
              "      <td>13.6</td>\n",
              "      <td>14.276207</td>\n",
              "    </tr>\n",
              "    <tr>\n",
              "      <th>181</th>\n",
              "      <td>12.2</td>\n",
              "      <td>14.106463</td>\n",
              "    </tr>\n",
              "    <tr>\n",
              "      <th>71</th>\n",
              "      <td>12.4</td>\n",
              "      <td>10.773526</td>\n",
              "    </tr>\n",
              "    <tr>\n",
              "      <th>26</th>\n",
              "      <td>15.0</td>\n",
              "      <td>14.843851</td>\n",
              "    </tr>\n",
              "    <tr>\n",
              "      <th>134</th>\n",
              "      <td>10.8</td>\n",
              "      <td>11.949167</td>\n",
              "    </tr>\n",
              "    <tr>\n",
              "      <th>180</th>\n",
              "      <td>10.5</td>\n",
              "      <td>10.703094</td>\n",
              "    </tr>\n",
              "    <tr>\n",
              "      <th>158</th>\n",
              "      <td>7.3</td>\n",
              "      <td>10.400753</td>\n",
              "    </tr>\n",
              "    <tr>\n",
              "      <th>189</th>\n",
              "      <td>6.7</td>\n",
              "      <td>6.205292</td>\n",
              "    </tr>\n",
              "    <tr>\n",
              "      <th>89</th>\n",
              "      <td>16.7</td>\n",
              "      <td>16.821095</td>\n",
              "    </tr>\n",
              "    <tr>\n",
              "      <th>48</th>\n",
              "      <td>14.8</td>\n",
              "      <td>16.461198</td>\n",
              "    </tr>\n",
              "    <tr>\n",
              "      <th>116</th>\n",
              "      <td>12.2</td>\n",
              "      <td>12.077625</td>\n",
              "    </tr>\n",
              "    <tr>\n",
              "      <th>12</th>\n",
              "      <td>9.2</td>\n",
              "      <td>10.734446</td>\n",
              "    </tr>\n",
              "    <tr>\n",
              "      <th>69</th>\n",
              "      <td>22.3</td>\n",
              "      <td>20.864736</td>\n",
              "    </tr>\n",
              "    <tr>\n",
              "      <th>110</th>\n",
              "      <td>13.4</td>\n",
              "      <td>15.081260</td>\n",
              "    </tr>\n",
              "    <tr>\n",
              "      <th>154</th>\n",
              "      <td>15.6</td>\n",
              "      <td>15.410634</td>\n",
              "    </tr>\n",
              "    <tr>\n",
              "      <th>16</th>\n",
              "      <td>12.5</td>\n",
              "      <td>12.796680</td>\n",
              "    </tr>\n",
              "    <tr>\n",
              "      <th>19</th>\n",
              "      <td>14.6</td>\n",
              "      <td>14.117382</td>\n",
              "    </tr>\n",
              "    <tr>\n",
              "      <th>2</th>\n",
              "      <td>9.3</td>\n",
              "      <td>12.369650</td>\n",
              "    </tr>\n",
              "    <tr>\n",
              "      <th>143</th>\n",
              "      <td>10.4</td>\n",
              "      <td>9.023908</td>\n",
              "    </tr>\n",
              "    <tr>\n",
              "      <th>185</th>\n",
              "      <td>22.6</td>\n",
              "      <td>20.503929</td>\n",
              "    </tr>\n",
              "    <tr>\n",
              "      <th>29</th>\n",
              "      <td>10.5</td>\n",
              "      <td>9.341454</td>\n",
              "    </tr>\n",
              "    <tr>\n",
              "      <th>155</th>\n",
              "      <td>3.2</td>\n",
              "      <td>5.364759</td>\n",
              "    </tr>\n",
              "    <tr>\n",
              "      <th>24</th>\n",
              "      <td>9.7</td>\n",
              "      <td>8.247870</td>\n",
              "    </tr>\n",
              "  </tbody>\n",
              "</table>\n",
              "</div>"
            ],
            "text/plain": [
              "     Sales       pred\n",
              "11    17.4  17.119202\n",
              "99    17.2  16.863431\n",
              "128   24.7  21.808677\n",
              "175   27.0  24.554434\n",
              "1     10.4  12.315519\n",
              "111   21.8  20.927422\n",
              "90    11.2  10.104123\n",
              "177   11.7  12.379025\n",
              "88    12.9  11.995708\n",
              "187   17.3  16.953691\n",
              "61    24.2  22.810072\n",
              "199   13.4  15.198179\n",
              "191    9.9   8.465726\n",
              "123   15.2  14.885061\n",
              "184   17.6  18.545490\n",
              "188   15.9  18.561211\n",
              "33    17.4  18.701162\n",
              "171   14.5  14.507706\n",
              "138    9.6   9.744399\n",
              "84    21.7  20.588260\n",
              "81    12.3  14.890352\n",
              "102   14.8  17.712044\n",
              "147   25.4  23.054791\n",
              "34     9.5   7.720666\n",
              "47    23.2  21.443588\n",
              "124   19.7  19.617599\n",
              "112   14.1  13.813484\n",
              "6     11.8  11.642996\n",
              "14    19.0  18.429333\n",
              "190   10.8  12.210724\n",
              "80    11.8  11.411837\n",
              "18    11.3   9.963932\n",
              "167   12.2  13.499588\n",
              "45    14.9  15.193178\n",
              "153   19.0  18.106016\n",
              "119    6.6   6.924070\n",
              "100   11.7  14.200720\n",
              "83    13.6  14.276207\n",
              "181   12.2  14.106463\n",
              "71    12.4  10.773526\n",
              "26    15.0  14.843851\n",
              "134   10.8  11.949167\n",
              "180   10.5  10.703094\n",
              "158    7.3  10.400753\n",
              "189    6.7   6.205292\n",
              "89    16.7  16.821095\n",
              "48    14.8  16.461198\n",
              "116   12.2  12.077625\n",
              "12     9.2  10.734446\n",
              "69    22.3  20.864736\n",
              "110   13.4  15.081260\n",
              "154   15.6  15.410634\n",
              "16    12.5  12.796680\n",
              "19    14.6  14.117382\n",
              "2      9.3  12.369650\n",
              "143   10.4   9.023908\n",
              "185   22.6  20.503929\n",
              "29    10.5   9.341454\n",
              "155    3.2   5.364759\n",
              "24     9.7   8.247870"
            ]
          },
          "execution_count": 105,
          "metadata": {},
          "output_type": "execute_result"
        }
      ],
      "source": [
        "y_test"
      ]
    },
    {
      "cell_type": "code",
      "execution_count": null,
      "id": "5f7a609e",
      "metadata": {
        "id": "5f7a609e",
        "outputId": "a8a1bac9-0d19-4959-de19-b1dc465b215f"
      },
      "outputs": [
        {
          "data": {
            "text/html": [
              "<div>\n",
              "<style scoped>\n",
              "    .dataframe tbody tr th:only-of-type {\n",
              "        vertical-align: middle;\n",
              "    }\n",
              "\n",
              "    .dataframe tbody tr th {\n",
              "        vertical-align: top;\n",
              "    }\n",
              "\n",
              "    .dataframe thead th {\n",
              "        text-align: right;\n",
              "    }\n",
              "</style>\n",
              "<table border=\"1\" class=\"dataframe\">\n",
              "  <thead>\n",
              "    <tr style=\"text-align: right;\">\n",
              "      <th></th>\n",
              "      <th>Sales</th>\n",
              "    </tr>\n",
              "  </thead>\n",
              "  <tbody>\n",
              "    <tr>\n",
              "      <th>11</th>\n",
              "      <td>17.4</td>\n",
              "    </tr>\n",
              "    <tr>\n",
              "      <th>99</th>\n",
              "      <td>17.2</td>\n",
              "    </tr>\n",
              "    <tr>\n",
              "      <th>128</th>\n",
              "      <td>24.7</td>\n",
              "    </tr>\n",
              "    <tr>\n",
              "      <th>175</th>\n",
              "      <td>27.0</td>\n",
              "    </tr>\n",
              "    <tr>\n",
              "      <th>1</th>\n",
              "      <td>10.4</td>\n",
              "    </tr>\n",
              "    <tr>\n",
              "      <th>111</th>\n",
              "      <td>21.8</td>\n",
              "    </tr>\n",
              "    <tr>\n",
              "      <th>90</th>\n",
              "      <td>11.2</td>\n",
              "    </tr>\n",
              "    <tr>\n",
              "      <th>177</th>\n",
              "      <td>11.7</td>\n",
              "    </tr>\n",
              "    <tr>\n",
              "      <th>88</th>\n",
              "      <td>12.9</td>\n",
              "    </tr>\n",
              "    <tr>\n",
              "      <th>187</th>\n",
              "      <td>17.3</td>\n",
              "    </tr>\n",
              "    <tr>\n",
              "      <th>61</th>\n",
              "      <td>24.2</td>\n",
              "    </tr>\n",
              "    <tr>\n",
              "      <th>199</th>\n",
              "      <td>13.4</td>\n",
              "    </tr>\n",
              "    <tr>\n",
              "      <th>191</th>\n",
              "      <td>9.9</td>\n",
              "    </tr>\n",
              "    <tr>\n",
              "      <th>123</th>\n",
              "      <td>15.2</td>\n",
              "    </tr>\n",
              "    <tr>\n",
              "      <th>184</th>\n",
              "      <td>17.6</td>\n",
              "    </tr>\n",
              "    <tr>\n",
              "      <th>188</th>\n",
              "      <td>15.9</td>\n",
              "    </tr>\n",
              "    <tr>\n",
              "      <th>33</th>\n",
              "      <td>17.4</td>\n",
              "    </tr>\n",
              "    <tr>\n",
              "      <th>171</th>\n",
              "      <td>14.5</td>\n",
              "    </tr>\n",
              "    <tr>\n",
              "      <th>138</th>\n",
              "      <td>9.6</td>\n",
              "    </tr>\n",
              "    <tr>\n",
              "      <th>84</th>\n",
              "      <td>21.7</td>\n",
              "    </tr>\n",
              "    <tr>\n",
              "      <th>81</th>\n",
              "      <td>12.3</td>\n",
              "    </tr>\n",
              "    <tr>\n",
              "      <th>102</th>\n",
              "      <td>14.8</td>\n",
              "    </tr>\n",
              "    <tr>\n",
              "      <th>147</th>\n",
              "      <td>25.4</td>\n",
              "    </tr>\n",
              "    <tr>\n",
              "      <th>34</th>\n",
              "      <td>9.5</td>\n",
              "    </tr>\n",
              "    <tr>\n",
              "      <th>47</th>\n",
              "      <td>23.2</td>\n",
              "    </tr>\n",
              "    <tr>\n",
              "      <th>124</th>\n",
              "      <td>19.7</td>\n",
              "    </tr>\n",
              "    <tr>\n",
              "      <th>112</th>\n",
              "      <td>14.1</td>\n",
              "    </tr>\n",
              "    <tr>\n",
              "      <th>6</th>\n",
              "      <td>11.8</td>\n",
              "    </tr>\n",
              "    <tr>\n",
              "      <th>14</th>\n",
              "      <td>19.0</td>\n",
              "    </tr>\n",
              "    <tr>\n",
              "      <th>190</th>\n",
              "      <td>10.8</td>\n",
              "    </tr>\n",
              "    <tr>\n",
              "      <th>80</th>\n",
              "      <td>11.8</td>\n",
              "    </tr>\n",
              "    <tr>\n",
              "      <th>18</th>\n",
              "      <td>11.3</td>\n",
              "    </tr>\n",
              "    <tr>\n",
              "      <th>167</th>\n",
              "      <td>12.2</td>\n",
              "    </tr>\n",
              "    <tr>\n",
              "      <th>45</th>\n",
              "      <td>14.9</td>\n",
              "    </tr>\n",
              "    <tr>\n",
              "      <th>153</th>\n",
              "      <td>19.0</td>\n",
              "    </tr>\n",
              "    <tr>\n",
              "      <th>119</th>\n",
              "      <td>6.6</td>\n",
              "    </tr>\n",
              "    <tr>\n",
              "      <th>100</th>\n",
              "      <td>11.7</td>\n",
              "    </tr>\n",
              "    <tr>\n",
              "      <th>83</th>\n",
              "      <td>13.6</td>\n",
              "    </tr>\n",
              "    <tr>\n",
              "      <th>181</th>\n",
              "      <td>12.2</td>\n",
              "    </tr>\n",
              "    <tr>\n",
              "      <th>71</th>\n",
              "      <td>12.4</td>\n",
              "    </tr>\n",
              "    <tr>\n",
              "      <th>26</th>\n",
              "      <td>15.0</td>\n",
              "    </tr>\n",
              "    <tr>\n",
              "      <th>134</th>\n",
              "      <td>10.8</td>\n",
              "    </tr>\n",
              "    <tr>\n",
              "      <th>180</th>\n",
              "      <td>10.5</td>\n",
              "    </tr>\n",
              "    <tr>\n",
              "      <th>158</th>\n",
              "      <td>7.3</td>\n",
              "    </tr>\n",
              "    <tr>\n",
              "      <th>189</th>\n",
              "      <td>6.7</td>\n",
              "    </tr>\n",
              "    <tr>\n",
              "      <th>89</th>\n",
              "      <td>16.7</td>\n",
              "    </tr>\n",
              "    <tr>\n",
              "      <th>48</th>\n",
              "      <td>14.8</td>\n",
              "    </tr>\n",
              "    <tr>\n",
              "      <th>116</th>\n",
              "      <td>12.2</td>\n",
              "    </tr>\n",
              "    <tr>\n",
              "      <th>12</th>\n",
              "      <td>9.2</td>\n",
              "    </tr>\n",
              "    <tr>\n",
              "      <th>69</th>\n",
              "      <td>22.3</td>\n",
              "    </tr>\n",
              "    <tr>\n",
              "      <th>110</th>\n",
              "      <td>13.4</td>\n",
              "    </tr>\n",
              "    <tr>\n",
              "      <th>154</th>\n",
              "      <td>15.6</td>\n",
              "    </tr>\n",
              "    <tr>\n",
              "      <th>16</th>\n",
              "      <td>12.5</td>\n",
              "    </tr>\n",
              "    <tr>\n",
              "      <th>19</th>\n",
              "      <td>14.6</td>\n",
              "    </tr>\n",
              "    <tr>\n",
              "      <th>2</th>\n",
              "      <td>9.3</td>\n",
              "    </tr>\n",
              "    <tr>\n",
              "      <th>143</th>\n",
              "      <td>10.4</td>\n",
              "    </tr>\n",
              "    <tr>\n",
              "      <th>185</th>\n",
              "      <td>22.6</td>\n",
              "    </tr>\n",
              "    <tr>\n",
              "      <th>29</th>\n",
              "      <td>10.5</td>\n",
              "    </tr>\n",
              "    <tr>\n",
              "      <th>155</th>\n",
              "      <td>3.2</td>\n",
              "    </tr>\n",
              "    <tr>\n",
              "      <th>24</th>\n",
              "      <td>9.7</td>\n",
              "    </tr>\n",
              "  </tbody>\n",
              "</table>\n",
              "</div>"
            ],
            "text/plain": [
              "     Sales\n",
              "11    17.4\n",
              "99    17.2\n",
              "128   24.7\n",
              "175   27.0\n",
              "1     10.4\n",
              "111   21.8\n",
              "90    11.2\n",
              "177   11.7\n",
              "88    12.9\n",
              "187   17.3\n",
              "61    24.2\n",
              "199   13.4\n",
              "191    9.9\n",
              "123   15.2\n",
              "184   17.6\n",
              "188   15.9\n",
              "33    17.4\n",
              "171   14.5\n",
              "138    9.6\n",
              "84    21.7\n",
              "81    12.3\n",
              "102   14.8\n",
              "147   25.4\n",
              "34     9.5\n",
              "47    23.2\n",
              "124   19.7\n",
              "112   14.1\n",
              "6     11.8\n",
              "14    19.0\n",
              "190   10.8\n",
              "80    11.8\n",
              "18    11.3\n",
              "167   12.2\n",
              "45    14.9\n",
              "153   19.0\n",
              "119    6.6\n",
              "100   11.7\n",
              "83    13.6\n",
              "181   12.2\n",
              "71    12.4\n",
              "26    15.0\n",
              "134   10.8\n",
              "180   10.5\n",
              "158    7.3\n",
              "189    6.7\n",
              "89    16.7\n",
              "48    14.8\n",
              "116   12.2\n",
              "12     9.2\n",
              "69    22.3\n",
              "110   13.4\n",
              "154   15.6\n",
              "16    12.5\n",
              "19    14.6\n",
              "2      9.3\n",
              "143   10.4\n",
              "185   22.6\n",
              "29    10.5\n",
              "155    3.2\n",
              "24     9.7"
            ]
          },
          "execution_count": 158,
          "metadata": {},
          "output_type": "execute_result"
        }
      ],
      "source": [
        "y_test"
      ]
    },
    {
      "cell_type": "markdown",
      "id": "08286e18",
      "metadata": {
        "id": "08286e18"
      },
      "source": [
        "# Evaluate the model"
      ]
    },
    {
      "cell_type": "code",
      "execution_count": null,
      "id": "589b7f76",
      "metadata": {
        "id": "589b7f76"
      },
      "outputs": [],
      "source": [
        "from sklearn.metrics import mean_squared_error,mean_absolute_error,r2_score"
      ]
    },
    {
      "cell_type": "code",
      "execution_count": null,
      "id": "f16634ed",
      "metadata": {
        "id": "f16634ed",
        "outputId": "2b653a1b-3d45-4a4b-dd4d-a0d1fd42f8ae"
      },
      "outputs": [
        {
          "data": {
            "text/plain": [
              "1.199298085047556"
            ]
          },
          "execution_count": 161,
          "metadata": {},
          "output_type": "execute_result"
        }
      ],
      "source": [
        "# mean absolute error\n",
        "MAE=mean_absolute_error(y_test,y_pred)\n",
        "MAE"
      ]
    },
    {
      "cell_type": "code",
      "execution_count": null,
      "id": "54b14d80",
      "metadata": {
        "id": "54b14d80",
        "outputId": "1a7cd1a2-bf71-4eaa-d9ca-e5f28321af8e"
      },
      "outputs": [
        {
          "data": {
            "text/plain": [
              "2.2044386306690202"
            ]
          },
          "execution_count": 163,
          "metadata": {},
          "output_type": "execute_result"
        }
      ],
      "source": [
        "# Mean squared error\n",
        "MSE=mean_squared_error(y_test,y_pred)\n",
        "MSE"
      ]
    },
    {
      "cell_type": "code",
      "execution_count": null,
      "id": "5a7d2da5",
      "metadata": {
        "id": "5a7d2da5",
        "outputId": "80ff19bf-4641-4037-d1cc-1963388b59e3"
      },
      "outputs": [
        {
          "data": {
            "text/plain": [
              "1.4847352055733778"
            ]
          },
          "execution_count": 164,
          "metadata": {},
          "output_type": "execute_result"
        }
      ],
      "source": [
        "# Root mean squared error\n",
        "RMSE=np.sqrt(MSE)\n",
        "RMSE"
      ]
    },
    {
      "cell_type": "code",
      "execution_count": null,
      "id": "0c225506",
      "metadata": {
        "id": "0c225506",
        "outputId": "5c8762b0-f569-4e75-817a-c2b96b5ea63e"
      },
      "outputs": [
        {
          "data": {
            "text/plain": [
              "0.9134809669573121"
            ]
          },
          "execution_count": 166,
          "metadata": {},
          "output_type": "execute_result"
        }
      ],
      "source": [
        "# R-squared\n",
        "r2_score(y_test,y_pred)"
      ]
    },
    {
      "cell_type": "code",
      "execution_count": null,
      "id": "1d6d8ddf",
      "metadata": {
        "id": "1d6d8ddf"
      },
      "outputs": [],
      "source": [
        "adj=1-(1-0.913)*(60-1)/(60-3-1)\n",
        "# R2=0.913\n",
        "# N=60 , No of observations in y_test\n",
        "# p=3 , No of independent variables"
      ]
    },
    {
      "cell_type": "code",
      "execution_count": null,
      "id": "f55b9f34",
      "metadata": {
        "id": "f55b9f34",
        "outputId": "23bf760a-7952-41fa-c9ba-cff69625b26f"
      },
      "outputs": [
        {
          "data": {
            "text/plain": [
              "0.9083392857142858"
            ]
          },
          "execution_count": 169,
          "metadata": {},
          "output_type": "execute_result"
        }
      ],
      "source": [
        "adj"
      ]
    },
    {
      "cell_type": "code",
      "execution_count": null,
      "id": "1a6b5745",
      "metadata": {
        "id": "1a6b5745"
      },
      "outputs": [],
      "source": [
        "# Clearly adjusted r2 score < r2 score.\n",
        "* The model is 91% better model to make predictions."
      ]
    },
    {
      "cell_type": "code",
      "execution_count": null,
      "id": "30bbebbc",
      "metadata": {
        "id": "30bbebbc",
        "outputId": "4f4a613d-1eaf-4514-f6be-8906fde1a718"
      },
      "outputs": [
        {
          "data": {
            "text/plain": [
              "array([[4789.4915675]])"
            ]
          },
          "execution_count": 173,
          "metadata": {},
          "output_type": "execute_result"
        }
      ],
      "source": [
        "model.predict([[10,20,10000]])"
      ]
    },
    {
      "cell_type": "code",
      "execution_count": null,
      "id": "8fb805af",
      "metadata": {
        "id": "8fb805af"
      },
      "outputs": [],
      "source": []
    },
    {
      "cell_type": "code",
      "execution_count": null,
      "id": "2c6e6fbd",
      "metadata": {
        "id": "2c6e6fbd"
      },
      "outputs": [],
      "source": []
    },
    {
      "cell_type": "code",
      "execution_count": null,
      "id": "5e918bba",
      "metadata": {
        "id": "5e918bba"
      },
      "outputs": [],
      "source": []
    }
  ],
  "metadata": {
    "kernelspec": {
      "display_name": "Python 3 (ipykernel)",
      "language": "python",
      "name": "python3"
    },
    "language_info": {
      "codemirror_mode": {
        "name": "ipython",
        "version": 3
      },
      "file_extension": ".py",
      "mimetype": "text/x-python",
      "name": "python",
      "nbconvert_exporter": "python",
      "pygments_lexer": "ipython3",
      "version": "3.9.13"
    },
    "colab": {
      "provenance": [],
      "include_colab_link": true
    }
  },
  "nbformat": 4,
  "nbformat_minor": 5
}