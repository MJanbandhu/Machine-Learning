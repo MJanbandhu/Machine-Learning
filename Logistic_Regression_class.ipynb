{
  "cells": [
    {
      "cell_type": "markdown",
      "metadata": {
        "id": "view-in-github",
        "colab_type": "text"
      },
      "source": [
        "<a href=\"https://colab.research.google.com/github/MJanbandhu/Machine-Learning/blob/main/Logistic_Regression_class.ipynb\" target=\"_parent\"><img src=\"https://colab.research.google.com/assets/colab-badge.svg\" alt=\"Open In Colab\"/></a>"
      ]
    },
    {
      "cell_type": "markdown",
      "id": "65aef7dd",
      "metadata": {
        "id": "65aef7dd"
      },
      "source": [
        "### Business Case: To predict whether a person will have diabetes or not."
      ]
    },
    {
      "cell_type": "code",
      "execution_count": null,
      "id": "284e6dbc",
      "metadata": {
        "id": "284e6dbc"
      },
      "outputs": [],
      "source": [
        "# importing libraries\n",
        "import pandas as pd\n",
        "import numpy as np\n",
        "import seaborn as sns\n",
        "import matplotlib.pyplot as plt\n",
        "%matplotlib inline\n",
        "import warnings\n",
        "warnings.filterwarnings('ignore')"
      ]
    },
    {
      "cell_type": "code",
      "execution_count": null,
      "id": "928ffa32",
      "metadata": {
        "id": "928ffa32"
      },
      "outputs": [],
      "source": [
        "## Load the data\n",
        "data=pd.read_csv('diabetes1.csv')"
      ]
    },
    {
      "cell_type": "code",
      "execution_count": null,
      "id": "99d63fc4",
      "metadata": {
        "id": "99d63fc4",
        "outputId": "deae492f-86f7-4b72-ef96-e0d3ba1fa70d"
      },
      "outputs": [
        {
          "data": {
            "text/html": [
              "<div>\n",
              "<style scoped>\n",
              "    .dataframe tbody tr th:only-of-type {\n",
              "        vertical-align: middle;\n",
              "    }\n",
              "\n",
              "    .dataframe tbody tr th {\n",
              "        vertical-align: top;\n",
              "    }\n",
              "\n",
              "    .dataframe thead th {\n",
              "        text-align: right;\n",
              "    }\n",
              "</style>\n",
              "<table border=\"1\" class=\"dataframe\">\n",
              "  <thead>\n",
              "    <tr style=\"text-align: right;\">\n",
              "      <th></th>\n",
              "      <th>Pregnancies</th>\n",
              "      <th>Glucose</th>\n",
              "      <th>BloodPressure</th>\n",
              "      <th>SkinThickness</th>\n",
              "      <th>Insulin</th>\n",
              "      <th>BMI</th>\n",
              "      <th>DiabetesPedigreeFunction</th>\n",
              "      <th>Age</th>\n",
              "      <th>Outcome</th>\n",
              "    </tr>\n",
              "  </thead>\n",
              "  <tbody>\n",
              "    <tr>\n",
              "      <th>0</th>\n",
              "      <td>6</td>\n",
              "      <td>148</td>\n",
              "      <td>72</td>\n",
              "      <td>35</td>\n",
              "      <td>0</td>\n",
              "      <td>33.6</td>\n",
              "      <td>0.627</td>\n",
              "      <td>50</td>\n",
              "      <td>1</td>\n",
              "    </tr>\n",
              "    <tr>\n",
              "      <th>1</th>\n",
              "      <td>1</td>\n",
              "      <td>85</td>\n",
              "      <td>66</td>\n",
              "      <td>29</td>\n",
              "      <td>0</td>\n",
              "      <td>26.6</td>\n",
              "      <td>0.351</td>\n",
              "      <td>31</td>\n",
              "      <td>0</td>\n",
              "    </tr>\n",
              "    <tr>\n",
              "      <th>2</th>\n",
              "      <td>8</td>\n",
              "      <td>183</td>\n",
              "      <td>64</td>\n",
              "      <td>0</td>\n",
              "      <td>0</td>\n",
              "      <td>23.3</td>\n",
              "      <td>0.672</td>\n",
              "      <td>32</td>\n",
              "      <td>1</td>\n",
              "    </tr>\n",
              "    <tr>\n",
              "      <th>3</th>\n",
              "      <td>1</td>\n",
              "      <td>89</td>\n",
              "      <td>66</td>\n",
              "      <td>23</td>\n",
              "      <td>94</td>\n",
              "      <td>28.1</td>\n",
              "      <td>0.167</td>\n",
              "      <td>21</td>\n",
              "      <td>0</td>\n",
              "    </tr>\n",
              "    <tr>\n",
              "      <th>4</th>\n",
              "      <td>0</td>\n",
              "      <td>137</td>\n",
              "      <td>40</td>\n",
              "      <td>35</td>\n",
              "      <td>168</td>\n",
              "      <td>43.1</td>\n",
              "      <td>2.288</td>\n",
              "      <td>33</td>\n",
              "      <td>1</td>\n",
              "    </tr>\n",
              "    <tr>\n",
              "      <th>...</th>\n",
              "      <td>...</td>\n",
              "      <td>...</td>\n",
              "      <td>...</td>\n",
              "      <td>...</td>\n",
              "      <td>...</td>\n",
              "      <td>...</td>\n",
              "      <td>...</td>\n",
              "      <td>...</td>\n",
              "      <td>...</td>\n",
              "    </tr>\n",
              "    <tr>\n",
              "      <th>763</th>\n",
              "      <td>10</td>\n",
              "      <td>101</td>\n",
              "      <td>76</td>\n",
              "      <td>48</td>\n",
              "      <td>180</td>\n",
              "      <td>32.9</td>\n",
              "      <td>0.171</td>\n",
              "      <td>63</td>\n",
              "      <td>0</td>\n",
              "    </tr>\n",
              "    <tr>\n",
              "      <th>764</th>\n",
              "      <td>2</td>\n",
              "      <td>122</td>\n",
              "      <td>70</td>\n",
              "      <td>27</td>\n",
              "      <td>0</td>\n",
              "      <td>36.8</td>\n",
              "      <td>0.340</td>\n",
              "      <td>27</td>\n",
              "      <td>0</td>\n",
              "    </tr>\n",
              "    <tr>\n",
              "      <th>765</th>\n",
              "      <td>5</td>\n",
              "      <td>121</td>\n",
              "      <td>72</td>\n",
              "      <td>23</td>\n",
              "      <td>112</td>\n",
              "      <td>26.2</td>\n",
              "      <td>0.245</td>\n",
              "      <td>30</td>\n",
              "      <td>0</td>\n",
              "    </tr>\n",
              "    <tr>\n",
              "      <th>766</th>\n",
              "      <td>1</td>\n",
              "      <td>126</td>\n",
              "      <td>60</td>\n",
              "      <td>0</td>\n",
              "      <td>0</td>\n",
              "      <td>30.1</td>\n",
              "      <td>0.349</td>\n",
              "      <td>47</td>\n",
              "      <td>1</td>\n",
              "    </tr>\n",
              "    <tr>\n",
              "      <th>767</th>\n",
              "      <td>1</td>\n",
              "      <td>93</td>\n",
              "      <td>70</td>\n",
              "      <td>31</td>\n",
              "      <td>0</td>\n",
              "      <td>30.4</td>\n",
              "      <td>0.315</td>\n",
              "      <td>23</td>\n",
              "      <td>0</td>\n",
              "    </tr>\n",
              "  </tbody>\n",
              "</table>\n",
              "<p>768 rows × 9 columns</p>\n",
              "</div>"
            ],
            "text/plain": [
              "     Pregnancies  Glucose  BloodPressure  SkinThickness  Insulin   BMI  \\\n",
              "0              6      148             72             35        0  33.6   \n",
              "1              1       85             66             29        0  26.6   \n",
              "2              8      183             64              0        0  23.3   \n",
              "3              1       89             66             23       94  28.1   \n",
              "4              0      137             40             35      168  43.1   \n",
              "..           ...      ...            ...            ...      ...   ...   \n",
              "763           10      101             76             48      180  32.9   \n",
              "764            2      122             70             27        0  36.8   \n",
              "765            5      121             72             23      112  26.2   \n",
              "766            1      126             60              0        0  30.1   \n",
              "767            1       93             70             31        0  30.4   \n",
              "\n",
              "     DiabetesPedigreeFunction  Age  Outcome  \n",
              "0                       0.627   50        1  \n",
              "1                       0.351   31        0  \n",
              "2                       0.672   32        1  \n",
              "3                       0.167   21        0  \n",
              "4                       2.288   33        1  \n",
              "..                        ...  ...      ...  \n",
              "763                     0.171   63        0  \n",
              "764                     0.340   27        0  \n",
              "765                     0.245   30        0  \n",
              "766                     0.349   47        1  \n",
              "767                     0.315   23        0  \n",
              "\n",
              "[768 rows x 9 columns]"
            ]
          },
          "execution_count": 3,
          "metadata": {},
          "output_type": "execute_result"
        }
      ],
      "source": [
        "data"
      ]
    },
    {
      "cell_type": "markdown",
      "id": "04062c24",
      "metadata": {
        "id": "04062c24"
      },
      "source": [
        "### Basic checks"
      ]
    },
    {
      "cell_type": "code",
      "execution_count": null,
      "id": "028f287d",
      "metadata": {
        "id": "028f287d",
        "outputId": "3af1898d-4103-4237-fa84-db5e78c26aa1"
      },
      "outputs": [
        {
          "data": {
            "text/html": [
              "<div>\n",
              "<style scoped>\n",
              "    .dataframe tbody tr th:only-of-type {\n",
              "        vertical-align: middle;\n",
              "    }\n",
              "\n",
              "    .dataframe tbody tr th {\n",
              "        vertical-align: top;\n",
              "    }\n",
              "\n",
              "    .dataframe thead th {\n",
              "        text-align: right;\n",
              "    }\n",
              "</style>\n",
              "<table border=\"1\" class=\"dataframe\">\n",
              "  <thead>\n",
              "    <tr style=\"text-align: right;\">\n",
              "      <th></th>\n",
              "      <th>Pregnancies</th>\n",
              "      <th>Glucose</th>\n",
              "      <th>BloodPressure</th>\n",
              "      <th>SkinThickness</th>\n",
              "      <th>Insulin</th>\n",
              "      <th>BMI</th>\n",
              "      <th>DiabetesPedigreeFunction</th>\n",
              "      <th>Age</th>\n",
              "      <th>Outcome</th>\n",
              "    </tr>\n",
              "  </thead>\n",
              "  <tbody>\n",
              "    <tr>\n",
              "      <th>0</th>\n",
              "      <td>6</td>\n",
              "      <td>148</td>\n",
              "      <td>72</td>\n",
              "      <td>35</td>\n",
              "      <td>0</td>\n",
              "      <td>33.6</td>\n",
              "      <td>0.627</td>\n",
              "      <td>50</td>\n",
              "      <td>1</td>\n",
              "    </tr>\n",
              "    <tr>\n",
              "      <th>1</th>\n",
              "      <td>1</td>\n",
              "      <td>85</td>\n",
              "      <td>66</td>\n",
              "      <td>29</td>\n",
              "      <td>0</td>\n",
              "      <td>26.6</td>\n",
              "      <td>0.351</td>\n",
              "      <td>31</td>\n",
              "      <td>0</td>\n",
              "    </tr>\n",
              "    <tr>\n",
              "      <th>2</th>\n",
              "      <td>8</td>\n",
              "      <td>183</td>\n",
              "      <td>64</td>\n",
              "      <td>0</td>\n",
              "      <td>0</td>\n",
              "      <td>23.3</td>\n",
              "      <td>0.672</td>\n",
              "      <td>32</td>\n",
              "      <td>1</td>\n",
              "    </tr>\n",
              "    <tr>\n",
              "      <th>3</th>\n",
              "      <td>1</td>\n",
              "      <td>89</td>\n",
              "      <td>66</td>\n",
              "      <td>23</td>\n",
              "      <td>94</td>\n",
              "      <td>28.1</td>\n",
              "      <td>0.167</td>\n",
              "      <td>21</td>\n",
              "      <td>0</td>\n",
              "    </tr>\n",
              "    <tr>\n",
              "      <th>4</th>\n",
              "      <td>0</td>\n",
              "      <td>137</td>\n",
              "      <td>40</td>\n",
              "      <td>35</td>\n",
              "      <td>168</td>\n",
              "      <td>43.1</td>\n",
              "      <td>2.288</td>\n",
              "      <td>33</td>\n",
              "      <td>1</td>\n",
              "    </tr>\n",
              "  </tbody>\n",
              "</table>\n",
              "</div>"
            ],
            "text/plain": [
              "   Pregnancies  Glucose  BloodPressure  SkinThickness  Insulin   BMI  \\\n",
              "0            6      148             72             35        0  33.6   \n",
              "1            1       85             66             29        0  26.6   \n",
              "2            8      183             64              0        0  23.3   \n",
              "3            1       89             66             23       94  28.1   \n",
              "4            0      137             40             35      168  43.1   \n",
              "\n",
              "   DiabetesPedigreeFunction  Age  Outcome  \n",
              "0                     0.627   50        1  \n",
              "1                     0.351   31        0  \n",
              "2                     0.672   32        1  \n",
              "3                     0.167   21        0  \n",
              "4                     2.288   33        1  "
            ]
          },
          "execution_count": 4,
          "metadata": {},
          "output_type": "execute_result"
        }
      ],
      "source": [
        "data.head()"
      ]
    },
    {
      "cell_type": "code",
      "execution_count": null,
      "id": "723fe12f",
      "metadata": {
        "id": "723fe12f"
      },
      "outputs": [],
      "source": [
        "data.tail()"
      ]
    },
    {
      "cell_type": "code",
      "execution_count": null,
      "id": "2ec06e5c",
      "metadata": {
        "id": "2ec06e5c"
      },
      "outputs": [],
      "source": [
        "data.columns"
      ]
    },
    {
      "cell_type": "code",
      "execution_count": null,
      "id": "fad9234c",
      "metadata": {
        "id": "fad9234c"
      },
      "outputs": [],
      "source": [
        "data.dtypes"
      ]
    },
    {
      "cell_type": "code",
      "execution_count": null,
      "id": "04fed73c",
      "metadata": {
        "id": "04fed73c"
      },
      "outputs": [],
      "source": [
        "data.info()"
      ]
    },
    {
      "cell_type": "code",
      "execution_count": null,
      "id": "264b2ac8",
      "metadata": {
        "id": "264b2ac8"
      },
      "outputs": [],
      "source": [
        "data.describe()"
      ]
    },
    {
      "cell_type": "raw",
      "id": "f3825585",
      "metadata": {
        "id": "f3825585"
      },
      "source": [
        "* 0 value not possible for glucose,BP,skin thickness,BMI and insulin.This is called as data corruption"
      ]
    },
    {
      "cell_type": "code",
      "execution_count": null,
      "id": "5a40b267",
      "metadata": {
        "id": "5a40b267"
      },
      "outputs": [],
      "source": [
        "data.shape"
      ]
    },
    {
      "cell_type": "markdown",
      "id": "be3817c9",
      "metadata": {
        "id": "be3817c9"
      },
      "source": [
        "### Domain Analysis"
      ]
    },
    {
      "cell_type": "code",
      "execution_count": null,
      "id": "ff8d35dd",
      "metadata": {
        "id": "ff8d35dd"
      },
      "outputs": [],
      "source": []
    },
    {
      "cell_type": "code",
      "execution_count": null,
      "id": "84770aa5",
      "metadata": {
        "id": "84770aa5"
      },
      "outputs": [],
      "source": []
    },
    {
      "cell_type": "markdown",
      "id": "3eaa00f0",
      "metadata": {
        "id": "3eaa00f0"
      },
      "source": [
        "### Exploratory data analysis"
      ]
    },
    {
      "cell_type": "markdown",
      "id": "fd1993fd",
      "metadata": {
        "id": "fd1993fd"
      },
      "source": [
        "**Step 1 Univariate Analysis**\n",
        "- histplot is used to check distribution of the data\n",
        "- count plot is used to check whether data is balanced or not."
      ]
    },
    {
      "cell_type": "code",
      "execution_count": null,
      "id": "8213b955",
      "metadata": {
        "id": "8213b955"
      },
      "outputs": [],
      "source": [
        "# Check whether data is balanced or not\n",
        "# means equal no. of records related to diabetic and non diabetic patients\n",
        "plt.figure(figsize=(6,2))\n",
        "sns.countplot(x=data.Outcome)"
      ]
    },
    {
      "cell_type": "markdown",
      "id": "262f0e9d",
      "metadata": {
        "id": "262f0e9d"
      },
      "source": [
        "**Insights**\n",
        "- clearly data is imbalanced since we have more records related to non diabetic and less records related to diabetic"
      ]
    },
    {
      "cell_type": "code",
      "execution_count": null,
      "id": "0014a268",
      "metadata": {
        "id": "0014a268"
      },
      "outputs": [],
      "source": [
        "data.columns"
      ]
    },
    {
      "cell_type": "code",
      "execution_count": null,
      "id": "37152b6c",
      "metadata": {
        "id": "37152b6c"
      },
      "outputs": [],
      "source": [
        "plt.figure(figsize=(20,25),facecolor='white')\n",
        "plotnumber=1\n",
        "\n",
        "for column in data:\n",
        "    if plotnumber<=9:\n",
        "        ax=plt.subplot(3,3,plotnumber)\n",
        "        sns.histplot(data[column],kde=True)\n",
        "        plt.xlabel(column,fontsize=20)\n",
        "        plt.ylabel('Count',fontsize=20)\n",
        "    plotnumber+=1\n",
        "plt.tight_layout()\n"
      ]
    },
    {
      "cell_type": "raw",
      "id": "804f9cb8",
      "metadata": {
        "id": "804f9cb8"
      },
      "source": [
        "* Insights\n",
        "#glucose ,BP,and BMI are somehow representing normal distribution.\n"
      ]
    },
    {
      "cell_type": "markdown",
      "id": "cccdf4a7",
      "metadata": {
        "id": "cccdf4a7"
      },
      "source": [
        "#### Bivariate Analysis"
      ]
    },
    {
      "cell_type": "code",
      "execution_count": null,
      "id": "fe744f6e",
      "metadata": {
        "id": "fe744f6e"
      },
      "outputs": [],
      "source": [
        "##Bivariate Analysis refers to plots between input variables and target variable.\n",
        "\n",
        "## Analyzing how preganancies impact the patient with diabetes.\n",
        "plt.figure(figsize=(7,2))\n",
        "sns.countplot(x='Pregnancies',data=data,hue='Outcome')\n",
        "plt.show()"
      ]
    },
    {
      "cell_type": "raw",
      "id": "e4d7555f",
      "metadata": {
        "id": "e4d7555f"
      },
      "source": [
        "1) after analyzing this data,we found as the no of pregnenacy increases chances of getting diabetes also increases.\n",
        "2) from 14 to 17 pregnancies all women are diabetic.\n",
        "3) Maximum patients conceived 0 or 1 times\n",
        "4) As the no. of pregencies is less the probability of being diabetic is less"
      ]
    },
    {
      "cell_type": "code",
      "execution_count": null,
      "id": "ea215db3",
      "metadata": {
        "id": "ea215db3"
      },
      "outputs": [],
      "source": [
        "## Aanlyzing the relationship between diabetes and Glucose\n",
        "plt.figure(figsize=(6,2))\n",
        "sns.histplot(x='Glucose',hue='Outcome',data=data)"
      ]
    },
    {
      "cell_type": "raw",
      "id": "577e7aac",
      "metadata": {
        "id": "577e7aac"
      },
      "source": [
        "1)In the given data,a person having glucose range till 100 can be considered as they have lesser chance of getting diabetes.\n",
        "2)If a person have glucose more than 150,higher is the chnace of getting diabetes."
      ]
    },
    {
      "cell_type": "code",
      "execution_count": null,
      "id": "93ff5150",
      "metadata": {
        "id": "93ff5150"
      },
      "outputs": [],
      "source": [
        "## Analyze relationship between BloodPressure and Outcome\n",
        "plt.figure(figsize=(6,2))\n",
        "sns.histplot(x='BloodPressure',hue='Outcome',data=data)"
      ]
    },
    {
      "cell_type": "raw",
      "id": "b7ba845a",
      "metadata": {
        "id": "b7ba845a"
      },
      "source": [
        "# Insights\n",
        "* The chance of being diabetic is less if bp is low or normal\n",
        "* The chance of being diabetic is high if bp is very high."
      ]
    },
    {
      "cell_type": "code",
      "execution_count": null,
      "id": "e14b9a77",
      "metadata": {
        "id": "e14b9a77"
      },
      "outputs": [],
      "source": [
        "## Analyzing Insulin with target\n",
        "plt.figure(figsize=(6,2))\n",
        "sns.histplot(x='Insulin',hue='Outcome',data=data)"
      ]
    },
    {
      "cell_type": "raw",
      "id": "fd1bed54",
      "metadata": {
        "id": "fd1bed54"
      },
      "source": [
        "# The chance of being diabetic is less if Insulin level is less.\n",
        "# The chance of being diabetic is high if insulin level is high."
      ]
    },
    {
      "cell_type": "code",
      "execution_count": null,
      "id": "6b47a4a0",
      "metadata": {
        "id": "6b47a4a0"
      },
      "outputs": [],
      "source": [
        "## Analyzing Age with target\n",
        "plt.figure(figsize=(6,2))\n",
        "sns.histplot(x='Age',hue='Outcome',data=data)"
      ]
    },
    {
      "cell_type": "raw",
      "id": "83e407f4",
      "metadata": {
        "id": "83e407f4"
      },
      "source": [
        "# if age is high chances of being diabetic is also high"
      ]
    },
    {
      "cell_type": "code",
      "execution_count": null,
      "id": "3dbf7df0",
      "metadata": {
        "id": "3dbf7df0"
      },
      "outputs": [],
      "source": [
        "## Analyzing BMI with target\n",
        "plt.figure(figsize=(6,2))\n",
        "sns.histplot(x='BMI',hue='Outcome',data=data)\n",
        "plt.show()"
      ]
    },
    {
      "cell_type": "raw",
      "id": "d29704ec",
      "metadata": {
        "id": "d29704ec"
      },
      "source": [
        "BMI increase chances of getting diabetics also increses.\n",
        "more than 40 diabetes yes\n",
        "else less than 40 then no"
      ]
    },
    {
      "cell_type": "code",
      "execution_count": null,
      "id": "34e47715",
      "metadata": {
        "id": "34e47715"
      },
      "outputs": [],
      "source": [
        "## Analyze Glucose with blood pressure\n",
        "\n",
        "sns.relplot(x='Glucose',y='BloodPressure',hue='Outcome',data=data)\n",
        "plt.show()"
      ]
    },
    {
      "cell_type": "raw",
      "id": "c3b2e1a4",
      "metadata": {
        "id": "c3b2e1a4"
      },
      "source": [
        "#Insights\n",
        "The patients with less glucose level bloodpressure will have less chance of being diabetic.\n",
        "The patients with high glucose level and bloodpressure will have high chance of being diabetic."
      ]
    },
    {
      "cell_type": "code",
      "execution_count": null,
      "id": "5f64caee",
      "metadata": {
        "id": "5f64caee"
      },
      "outputs": [],
      "source": [
        "## Analyze Glucose with SkinThickness\n",
        "\n",
        "sns.relplot(x='Glucose',y='SkinThickness',hue='Outcome',data=data)\n",
        "plt.show()"
      ]
    },
    {
      "cell_type": "raw",
      "id": "ea2a5011",
      "metadata": {
        "id": "ea2a5011"
      },
      "source": [
        "There seem to be no defined relationship between glucose and skin thickness as far as diabetes is concered from the given data. Thus we need other features to get the relation."
      ]
    },
    {
      "cell_type": "code",
      "execution_count": null,
      "id": "44b92e86",
      "metadata": {
        "id": "44b92e86"
      },
      "outputs": [],
      "source": [
        "## Analyze BP with SkinThickness\n",
        "\n",
        "sns.relplot(x='BloodPressure',y='SkinThickness',hue='Outcome',data=data)\n",
        "plt.show()"
      ]
    },
    {
      "cell_type": "code",
      "execution_count": null,
      "id": "214219fd",
      "metadata": {
        "id": "214219fd"
      },
      "outputs": [],
      "source": [
        "## Analyze BP with Insulin\n",
        "\n",
        "sns.relplot(x='BloodPressure',y='Insulin',hue='Outcome',data=data)\n",
        "plt.show()"
      ]
    },
    {
      "cell_type": "markdown",
      "id": "059132af",
      "metadata": {
        "id": "059132af"
      },
      "source": [
        "#### Multivariate Analysis"
      ]
    },
    {
      "cell_type": "code",
      "execution_count": null,
      "id": "21b7855e",
      "metadata": {
        "id": "21b7855e"
      },
      "outputs": [],
      "source": [
        "sns.pairplot(data,hue='Outcome')"
      ]
    },
    {
      "cell_type": "markdown",
      "id": "4835b0a6",
      "metadata": {
        "id": "4835b0a6"
      },
      "source": [
        "### Data Preprocessing"
      ]
    },
    {
      "cell_type": "code",
      "execution_count": null,
      "id": "91882584",
      "metadata": {
        "id": "91882584",
        "outputId": "3f0849ec-ae78-498d-f909-d436e52510b5"
      },
      "outputs": [
        {
          "data": {
            "text/plain": [
              "Pregnancies                 0\n",
              "Glucose                     0\n",
              "BloodPressure               0\n",
              "SkinThickness               0\n",
              "Insulin                     0\n",
              "BMI                         0\n",
              "DiabetesPedigreeFunction    0\n",
              "Age                         0\n",
              "Outcome                     0\n",
              "dtype: int64"
            ]
          },
          "execution_count": 5,
          "metadata": {},
          "output_type": "execute_result"
        }
      ],
      "source": [
        "# check for null values\n",
        "data.isnull().sum()"
      ]
    },
    {
      "cell_type": "code",
      "execution_count": null,
      "id": "9d7a1fe5",
      "metadata": {
        "id": "9d7a1fe5",
        "outputId": "46f0e612-c7c5-481c-d2fb-eda1c6c2536e"
      },
      "outputs": [
        {
          "data": {
            "text/plain": [
              "0"
            ]
          },
          "execution_count": 6,
          "metadata": {},
          "output_type": "execute_result"
        }
      ],
      "source": [
        "# Check for duplicates\n",
        "data.duplicated().sum()"
      ]
    },
    {
      "cell_type": "code",
      "execution_count": null,
      "id": "01796e71",
      "metadata": {
        "id": "01796e71"
      },
      "outputs": [],
      "source": [
        "data.describe()"
      ]
    },
    {
      "cell_type": "code",
      "execution_count": null,
      "id": "7846b19b",
      "metadata": {
        "id": "7846b19b",
        "outputId": "26aef5af-67dc-44c5-815d-26af1b7e86b1"
      },
      "outputs": [
        {
          "data": {
            "text/html": [
              "<div>\n",
              "<style scoped>\n",
              "    .dataframe tbody tr th:only-of-type {\n",
              "        vertical-align: middle;\n",
              "    }\n",
              "\n",
              "    .dataframe tbody tr th {\n",
              "        vertical-align: top;\n",
              "    }\n",
              "\n",
              "    .dataframe thead th {\n",
              "        text-align: right;\n",
              "    }\n",
              "</style>\n",
              "<table border=\"1\" class=\"dataframe\">\n",
              "  <thead>\n",
              "    <tr style=\"text-align: right;\">\n",
              "      <th></th>\n",
              "      <th>Pregnancies</th>\n",
              "      <th>Glucose</th>\n",
              "      <th>BloodPressure</th>\n",
              "      <th>SkinThickness</th>\n",
              "      <th>Insulin</th>\n",
              "      <th>BMI</th>\n",
              "      <th>DiabetesPedigreeFunction</th>\n",
              "      <th>Age</th>\n",
              "      <th>Outcome</th>\n",
              "    </tr>\n",
              "  </thead>\n",
              "  <tbody>\n",
              "    <tr>\n",
              "      <th>75</th>\n",
              "      <td>1</td>\n",
              "      <td>0</td>\n",
              "      <td>48</td>\n",
              "      <td>20</td>\n",
              "      <td>0</td>\n",
              "      <td>24.7</td>\n",
              "      <td>0.140</td>\n",
              "      <td>22</td>\n",
              "      <td>0</td>\n",
              "    </tr>\n",
              "    <tr>\n",
              "      <th>182</th>\n",
              "      <td>1</td>\n",
              "      <td>0</td>\n",
              "      <td>74</td>\n",
              "      <td>20</td>\n",
              "      <td>23</td>\n",
              "      <td>27.7</td>\n",
              "      <td>0.299</td>\n",
              "      <td>21</td>\n",
              "      <td>0</td>\n",
              "    </tr>\n",
              "    <tr>\n",
              "      <th>342</th>\n",
              "      <td>1</td>\n",
              "      <td>0</td>\n",
              "      <td>68</td>\n",
              "      <td>35</td>\n",
              "      <td>0</td>\n",
              "      <td>32.0</td>\n",
              "      <td>0.389</td>\n",
              "      <td>22</td>\n",
              "      <td>0</td>\n",
              "    </tr>\n",
              "    <tr>\n",
              "      <th>349</th>\n",
              "      <td>5</td>\n",
              "      <td>0</td>\n",
              "      <td>80</td>\n",
              "      <td>32</td>\n",
              "      <td>0</td>\n",
              "      <td>41.0</td>\n",
              "      <td>0.346</td>\n",
              "      <td>37</td>\n",
              "      <td>1</td>\n",
              "    </tr>\n",
              "    <tr>\n",
              "      <th>502</th>\n",
              "      <td>6</td>\n",
              "      <td>0</td>\n",
              "      <td>68</td>\n",
              "      <td>41</td>\n",
              "      <td>0</td>\n",
              "      <td>39.0</td>\n",
              "      <td>0.727</td>\n",
              "      <td>41</td>\n",
              "      <td>1</td>\n",
              "    </tr>\n",
              "  </tbody>\n",
              "</table>\n",
              "</div>"
            ],
            "text/plain": [
              "     Pregnancies  Glucose  BloodPressure  SkinThickness  Insulin   BMI  \\\n",
              "75             1        0             48             20        0  24.7   \n",
              "182            1        0             74             20       23  27.7   \n",
              "342            1        0             68             35        0  32.0   \n",
              "349            5        0             80             32        0  41.0   \n",
              "502            6        0             68             41        0  39.0   \n",
              "\n",
              "     DiabetesPedigreeFunction  Age  Outcome  \n",
              "75                      0.140   22        0  \n",
              "182                     0.299   21        0  \n",
              "342                     0.389   22        0  \n",
              "349                     0.346   37        1  \n",
              "502                     0.727   41        1  "
            ]
          },
          "execution_count": 7,
          "metadata": {},
          "output_type": "execute_result"
        }
      ],
      "source": [
        "#checking the records where i have 0 values\n",
        "data.loc[data['Glucose']==0]"
      ]
    },
    {
      "cell_type": "code",
      "execution_count": null,
      "id": "bdd7b4cb",
      "metadata": {
        "id": "bdd7b4cb",
        "outputId": "88607811-111d-47ce-f5db-7ef1b7c21da7"
      },
      "outputs": [
        {
          "data": {
            "text/plain": [
              "117.0"
            ]
          },
          "execution_count": 8,
          "metadata": {},
          "output_type": "execute_result"
        }
      ],
      "source": [
        "np.median(data.Glucose)"
      ]
    },
    {
      "cell_type": "code",
      "execution_count": null,
      "id": "cf62dd25",
      "metadata": {
        "id": "cf62dd25"
      },
      "outputs": [],
      "source": [
        "data.Glucose.replace(0,np.median(data.Glucose),inplace=True)"
      ]
    },
    {
      "cell_type": "code",
      "execution_count": null,
      "id": "7de7b95c",
      "metadata": {
        "id": "7de7b95c",
        "outputId": "b1a7329c-3fec-46af-bf90-b6b30411680e"
      },
      "outputs": [
        {
          "data": {
            "text/html": [
              "<div>\n",
              "<style scoped>\n",
              "    .dataframe tbody tr th:only-of-type {\n",
              "        vertical-align: middle;\n",
              "    }\n",
              "\n",
              "    .dataframe tbody tr th {\n",
              "        vertical-align: top;\n",
              "    }\n",
              "\n",
              "    .dataframe thead th {\n",
              "        text-align: right;\n",
              "    }\n",
              "</style>\n",
              "<table border=\"1\" class=\"dataframe\">\n",
              "  <thead>\n",
              "    <tr style=\"text-align: right;\">\n",
              "      <th></th>\n",
              "      <th>Pregnancies</th>\n",
              "      <th>Glucose</th>\n",
              "      <th>BloodPressure</th>\n",
              "      <th>SkinThickness</th>\n",
              "      <th>Insulin</th>\n",
              "      <th>BMI</th>\n",
              "      <th>DiabetesPedigreeFunction</th>\n",
              "      <th>Age</th>\n",
              "      <th>Outcome</th>\n",
              "    </tr>\n",
              "  </thead>\n",
              "  <tbody>\n",
              "  </tbody>\n",
              "</table>\n",
              "</div>"
            ],
            "text/plain": [
              "Empty DataFrame\n",
              "Columns: [Pregnancies, Glucose, BloodPressure, SkinThickness, Insulin, BMI, DiabetesPedigreeFunction, Age, Outcome]\n",
              "Index: []"
            ]
          },
          "execution_count": 10,
          "metadata": {},
          "output_type": "execute_result"
        }
      ],
      "source": [
        "data.loc[data['Glucose']==0]"
      ]
    },
    {
      "cell_type": "code",
      "execution_count": null,
      "id": "a2b53cff",
      "metadata": {
        "id": "a2b53cff"
      },
      "outputs": [],
      "source": [
        "data.BloodPressure.replace(0,np.median(data.BloodPressure),inplace=True)\n",
        "data.SkinThickness.replace(0,np.median(data.SkinThickness),inplace=True)\n",
        "data.Insulin.replace(0,np.median(data.Insulin),inplace=True)\n",
        "data.BMI.replace(0,np.median(data.BMI),inplace=True)"
      ]
    },
    {
      "cell_type": "code",
      "execution_count": null,
      "id": "9c892f69",
      "metadata": {
        "id": "9c892f69",
        "outputId": "041a57c3-2e73-411b-a230-5f09440ace7e"
      },
      "outputs": [
        {
          "data": {
            "text/html": [
              "<div>\n",
              "<style scoped>\n",
              "    .dataframe tbody tr th:only-of-type {\n",
              "        vertical-align: middle;\n",
              "    }\n",
              "\n",
              "    .dataframe tbody tr th {\n",
              "        vertical-align: top;\n",
              "    }\n",
              "\n",
              "    .dataframe thead th {\n",
              "        text-align: right;\n",
              "    }\n",
              "</style>\n",
              "<table border=\"1\" class=\"dataframe\">\n",
              "  <thead>\n",
              "    <tr style=\"text-align: right;\">\n",
              "      <th></th>\n",
              "      <th>Pregnancies</th>\n",
              "      <th>Glucose</th>\n",
              "      <th>BloodPressure</th>\n",
              "      <th>SkinThickness</th>\n",
              "      <th>Insulin</th>\n",
              "      <th>BMI</th>\n",
              "      <th>DiabetesPedigreeFunction</th>\n",
              "      <th>Age</th>\n",
              "      <th>Outcome</th>\n",
              "    </tr>\n",
              "  </thead>\n",
              "  <tbody>\n",
              "    <tr>\n",
              "      <th>count</th>\n",
              "      <td>768.000000</td>\n",
              "      <td>768.000000</td>\n",
              "      <td>768.000000</td>\n",
              "      <td>768.000000</td>\n",
              "      <td>768.000000</td>\n",
              "      <td>768.000000</td>\n",
              "      <td>768.000000</td>\n",
              "      <td>768.000000</td>\n",
              "      <td>768.000000</td>\n",
              "    </tr>\n",
              "    <tr>\n",
              "      <th>mean</th>\n",
              "      <td>3.845052</td>\n",
              "      <td>121.656250</td>\n",
              "      <td>72.386719</td>\n",
              "      <td>27.334635</td>\n",
              "      <td>94.652344</td>\n",
              "      <td>32.450911</td>\n",
              "      <td>0.471876</td>\n",
              "      <td>33.240885</td>\n",
              "      <td>0.348958</td>\n",
              "    </tr>\n",
              "    <tr>\n",
              "      <th>std</th>\n",
              "      <td>3.369578</td>\n",
              "      <td>30.438286</td>\n",
              "      <td>12.096642</td>\n",
              "      <td>9.229014</td>\n",
              "      <td>105.547598</td>\n",
              "      <td>6.875366</td>\n",
              "      <td>0.331329</td>\n",
              "      <td>11.760232</td>\n",
              "      <td>0.476951</td>\n",
              "    </tr>\n",
              "    <tr>\n",
              "      <th>min</th>\n",
              "      <td>0.000000</td>\n",
              "      <td>44.000000</td>\n",
              "      <td>24.000000</td>\n",
              "      <td>7.000000</td>\n",
              "      <td>14.000000</td>\n",
              "      <td>18.200000</td>\n",
              "      <td>0.078000</td>\n",
              "      <td>21.000000</td>\n",
              "      <td>0.000000</td>\n",
              "    </tr>\n",
              "    <tr>\n",
              "      <th>25%</th>\n",
              "      <td>1.000000</td>\n",
              "      <td>99.750000</td>\n",
              "      <td>64.000000</td>\n",
              "      <td>23.000000</td>\n",
              "      <td>30.500000</td>\n",
              "      <td>27.500000</td>\n",
              "      <td>0.243750</td>\n",
              "      <td>24.000000</td>\n",
              "      <td>0.000000</td>\n",
              "    </tr>\n",
              "    <tr>\n",
              "      <th>50%</th>\n",
              "      <td>3.000000</td>\n",
              "      <td>117.000000</td>\n",
              "      <td>72.000000</td>\n",
              "      <td>23.000000</td>\n",
              "      <td>31.250000</td>\n",
              "      <td>32.000000</td>\n",
              "      <td>0.372500</td>\n",
              "      <td>29.000000</td>\n",
              "      <td>0.000000</td>\n",
              "    </tr>\n",
              "    <tr>\n",
              "      <th>75%</th>\n",
              "      <td>6.000000</td>\n",
              "      <td>140.250000</td>\n",
              "      <td>80.000000</td>\n",
              "      <td>32.000000</td>\n",
              "      <td>127.250000</td>\n",
              "      <td>36.600000</td>\n",
              "      <td>0.626250</td>\n",
              "      <td>41.000000</td>\n",
              "      <td>1.000000</td>\n",
              "    </tr>\n",
              "    <tr>\n",
              "      <th>max</th>\n",
              "      <td>17.000000</td>\n",
              "      <td>199.000000</td>\n",
              "      <td>122.000000</td>\n",
              "      <td>99.000000</td>\n",
              "      <td>846.000000</td>\n",
              "      <td>67.100000</td>\n",
              "      <td>2.420000</td>\n",
              "      <td>81.000000</td>\n",
              "      <td>1.000000</td>\n",
              "    </tr>\n",
              "  </tbody>\n",
              "</table>\n",
              "</div>"
            ],
            "text/plain": [
              "       Pregnancies     Glucose  BloodPressure  SkinThickness     Insulin  \\\n",
              "count   768.000000  768.000000     768.000000     768.000000  768.000000   \n",
              "mean      3.845052  121.656250      72.386719      27.334635   94.652344   \n",
              "std       3.369578   30.438286      12.096642       9.229014  105.547598   \n",
              "min       0.000000   44.000000      24.000000       7.000000   14.000000   \n",
              "25%       1.000000   99.750000      64.000000      23.000000   30.500000   \n",
              "50%       3.000000  117.000000      72.000000      23.000000   31.250000   \n",
              "75%       6.000000  140.250000      80.000000      32.000000  127.250000   \n",
              "max      17.000000  199.000000     122.000000      99.000000  846.000000   \n",
              "\n",
              "              BMI  DiabetesPedigreeFunction         Age     Outcome  \n",
              "count  768.000000                768.000000  768.000000  768.000000  \n",
              "mean    32.450911                  0.471876   33.240885    0.348958  \n",
              "std      6.875366                  0.331329   11.760232    0.476951  \n",
              "min     18.200000                  0.078000   21.000000    0.000000  \n",
              "25%     27.500000                  0.243750   24.000000    0.000000  \n",
              "50%     32.000000                  0.372500   29.000000    0.000000  \n",
              "75%     36.600000                  0.626250   41.000000    1.000000  \n",
              "max     67.100000                  2.420000   81.000000    1.000000  "
            ]
          },
          "execution_count": 12,
          "metadata": {},
          "output_type": "execute_result"
        }
      ],
      "source": [
        "data.describe()"
      ]
    },
    {
      "cell_type": "raw",
      "id": "5a7ba976",
      "metadata": {
        "id": "5a7ba976"
      },
      "source": [
        "## Numerical representation of string data"
      ]
    },
    {
      "cell_type": "code",
      "execution_count": null,
      "id": "ce433d6f",
      "metadata": {
        "collapsed": true,
        "id": "ce433d6f",
        "outputId": "23f1a088-857e-4958-eca6-c7f6ab6cca4e"
      },
      "outputs": [
        {
          "data": {
            "image/png": "[encoded data removed]",
            "text/plain": [
              "<Figure size 2000x2500 with 8 Axes>"
            ]
          },
          "metadata": {},
          "output_type": "display_data"
        }
      ],
      "source": [
        "#Checking the outliers\n",
        "plt.figure(figsize=(20,25),facecolor='white')\n",
        "plotnumber=1\n",
        "\n",
        "for column in data.drop('Outcome',axis=1):\n",
        "    if plotnumber<=9:\n",
        "        ax=plt.subplot(3,3,plotnumber)\n",
        "        sns.boxplot(data[column])\n",
        "        plt.xlabel(column,fontsize=20)\n",
        "        plt.ylabel('Count',fontsize=20)\n",
        "    plotnumber+=1\n",
        "plt.tight_layout()"
      ]
    },
    {
      "cell_type": "code",
      "execution_count": null,
      "id": "b92b076c",
      "metadata": {
        "id": "b92b076c",
        "outputId": "5df3568a-24c4-4c57-beff-8e892463e3a4"
      },
      "outputs": [
        {
          "data": {
            "text/html": [
              "<div>\n",
              "<style scoped>\n",
              "    .dataframe tbody tr th:only-of-type {\n",
              "        vertical-align: middle;\n",
              "    }\n",
              "\n",
              "    .dataframe tbody tr th {\n",
              "        vertical-align: top;\n",
              "    }\n",
              "\n",
              "    .dataframe thead th {\n",
              "        text-align: right;\n",
              "    }\n",
              "</style>\n",
              "<table border=\"1\" class=\"dataframe\">\n",
              "  <thead>\n",
              "    <tr style=\"text-align: right;\">\n",
              "      <th></th>\n",
              "      <th>Pregnancies</th>\n",
              "      <th>Glucose</th>\n",
              "      <th>BloodPressure</th>\n",
              "      <th>SkinThickness</th>\n",
              "      <th>Insulin</th>\n",
              "      <th>BMI</th>\n",
              "      <th>DiabetesPedigreeFunction</th>\n",
              "      <th>Age</th>\n",
              "      <th>Outcome</th>\n",
              "    </tr>\n",
              "  </thead>\n",
              "  <tbody>\n",
              "    <tr>\n",
              "      <th>0</th>\n",
              "      <td>6</td>\n",
              "      <td>148</td>\n",
              "      <td>72</td>\n",
              "      <td>35</td>\n",
              "      <td>30.5</td>\n",
              "      <td>33.6</td>\n",
              "      <td>0.627</td>\n",
              "      <td>50</td>\n",
              "      <td>1</td>\n",
              "    </tr>\n",
              "    <tr>\n",
              "      <th>1</th>\n",
              "      <td>1</td>\n",
              "      <td>85</td>\n",
              "      <td>66</td>\n",
              "      <td>29</td>\n",
              "      <td>30.5</td>\n",
              "      <td>26.6</td>\n",
              "      <td>0.351</td>\n",
              "      <td>31</td>\n",
              "      <td>0</td>\n",
              "    </tr>\n",
              "    <tr>\n",
              "      <th>2</th>\n",
              "      <td>8</td>\n",
              "      <td>183</td>\n",
              "      <td>64</td>\n",
              "      <td>23</td>\n",
              "      <td>30.5</td>\n",
              "      <td>23.3</td>\n",
              "      <td>0.672</td>\n",
              "      <td>32</td>\n",
              "      <td>1</td>\n",
              "    </tr>\n",
              "    <tr>\n",
              "      <th>3</th>\n",
              "      <td>1</td>\n",
              "      <td>89</td>\n",
              "      <td>66</td>\n",
              "      <td>23</td>\n",
              "      <td>94.0</td>\n",
              "      <td>28.1</td>\n",
              "      <td>0.167</td>\n",
              "      <td>21</td>\n",
              "      <td>0</td>\n",
              "    </tr>\n",
              "    <tr>\n",
              "      <th>4</th>\n",
              "      <td>0</td>\n",
              "      <td>137</td>\n",
              "      <td>40</td>\n",
              "      <td>35</td>\n",
              "      <td>168.0</td>\n",
              "      <td>43.1</td>\n",
              "      <td>2.288</td>\n",
              "      <td>33</td>\n",
              "      <td>1</td>\n",
              "    </tr>\n",
              "  </tbody>\n",
              "</table>\n",
              "</div>"
            ],
            "text/plain": [
              "   Pregnancies  Glucose  BloodPressure  SkinThickness  Insulin   BMI  \\\n",
              "0            6      148             72             35     30.5  33.6   \n",
              "1            1       85             66             29     30.5  26.6   \n",
              "2            8      183             64             23     30.5  23.3   \n",
              "3            1       89             66             23     94.0  28.1   \n",
              "4            0      137             40             35    168.0  43.1   \n",
              "\n",
              "   DiabetesPedigreeFunction  Age  Outcome  \n",
              "0                     0.627   50        1  \n",
              "1                     0.351   31        0  \n",
              "2                     0.672   32        1  \n",
              "3                     0.167   21        0  \n",
              "4                     2.288   33        1  "
            ]
          },
          "execution_count": 14,
          "metadata": {},
          "output_type": "execute_result"
        }
      ],
      "source": [
        "data.head()"
      ]
    },
    {
      "cell_type": "code",
      "execution_count": null,
      "id": "93a51e19",
      "metadata": {
        "id": "93a51e19"
      },
      "outputs": [],
      "source": [
        "# Scale the continuous data\n",
        "from sklearn.preprocessing import MinMaxScaler\n",
        "sc=MinMaxScaler() # creating object\n",
        "dl=['Pregnancies','Outcome']\n",
        "data1=sc.fit_transform(data.drop(dl,axis=1))\n"
      ]
    },
    {
      "cell_type": "code",
      "execution_count": null,
      "id": "aa6cbec2",
      "metadata": {
        "id": "aa6cbec2"
      },
      "outputs": [],
      "source": [
        "from sklearn.preprocessing import MinMaxscaler\n",
        "sc=MinMaxScaler()\n",
        "d1=['Pregnancies','Outcome']\n",
        "data1=sc.fit_transform(data.drop(dl,axis=1))"
      ]
    },
    {
      "cell_type": "code",
      "execution_count": null,
      "id": "468df29b",
      "metadata": {
        "collapsed": true,
        "id": "468df29b",
        "outputId": "077b122e-8dd8-4a90-89f2-0e15b2580aa3"
      },
      "outputs": [
        {
          "data": {
            "text/plain": [
              "array([[0.67096774, 0.48979592, 0.30434783, ..., 0.31492843, 0.23441503,\n",
              "        0.48333333],\n",
              "       [0.26451613, 0.42857143, 0.23913043, ..., 0.17177914, 0.11656704,\n",
              "        0.16666667],\n",
              "       [0.89677419, 0.40816327, 0.17391304, ..., 0.10429448, 0.25362938,\n",
              "        0.18333333],\n",
              "       ...,\n",
              "       [0.49677419, 0.48979592, 0.17391304, ..., 0.16359918, 0.07130658,\n",
              "        0.15      ],\n",
              "       [0.52903226, 0.36734694, 0.17391304, ..., 0.24335378, 0.11571307,\n",
              "        0.43333333],\n",
              "       [0.31612903, 0.46938776, 0.26086957, ..., 0.24948875, 0.10119556,\n",
              "        0.03333333]])"
            ]
          },
          "execution_count": 16,
          "metadata": {},
          "output_type": "execute_result"
        }
      ],
      "source": [
        "data1"
      ]
    },
    {
      "cell_type": "code",
      "execution_count": null,
      "id": "bf979d13",
      "metadata": {
        "collapsed": true,
        "id": "bf979d13",
        "outputId": "2f16f9c2-406b-4af1-c167-6cc1e4a7660a"
      },
      "outputs": [
        {
          "data": {
            "text/plain": [
              "Index(['Pregnancies', 'Glucose', 'BloodPressure', 'SkinThickness', 'Insulin',\n",
              "       'BMI', 'DiabetesPedigreeFunction', 'Age', 'Outcome'],\n",
              "      dtype='object')"
            ]
          },
          "execution_count": 17,
          "metadata": {},
          "output_type": "execute_result"
        }
      ],
      "source": [
        "data.columns"
      ]
    },
    {
      "cell_type": "code",
      "execution_count": null,
      "id": "472f3e06",
      "metadata": {
        "id": "472f3e06"
      },
      "outputs": [],
      "source": [
        "data2=pd.DataFrame(data1,columns=['Glucose', 'BloodPressure', 'SkinThickness', 'Insulin',\n",
        "       'BMI', 'DiabetesPedigreeFunction', 'Age'])"
      ]
    },
    {
      "cell_type": "code",
      "execution_count": null,
      "id": "3d827ea4",
      "metadata": {
        "collapsed": true,
        "id": "3d827ea4",
        "outputId": "1cc90a6c-7bb9-47e8-d8fa-473dd6586667"
      },
      "outputs": [
        {
          "data": {
            "text/html": [
              "<div>\n",
              "<style scoped>\n",
              "    .dataframe tbody tr th:only-of-type {\n",
              "        vertical-align: middle;\n",
              "    }\n",
              "\n",
              "    .dataframe tbody tr th {\n",
              "        vertical-align: top;\n",
              "    }\n",
              "\n",
              "    .dataframe thead th {\n",
              "        text-align: right;\n",
              "    }\n",
              "</style>\n",
              "<table border=\"1\" class=\"dataframe\">\n",
              "  <thead>\n",
              "    <tr style=\"text-align: right;\">\n",
              "      <th></th>\n",
              "      <th>Glucose</th>\n",
              "      <th>BloodPressure</th>\n",
              "      <th>SkinThickness</th>\n",
              "      <th>Insulin</th>\n",
              "      <th>BMI</th>\n",
              "      <th>DiabetesPedigreeFunction</th>\n",
              "      <th>Age</th>\n",
              "    </tr>\n",
              "  </thead>\n",
              "  <tbody>\n",
              "    <tr>\n",
              "      <th>0</th>\n",
              "      <td>0.670968</td>\n",
              "      <td>0.489796</td>\n",
              "      <td>0.304348</td>\n",
              "      <td>0.019832</td>\n",
              "      <td>0.314928</td>\n",
              "      <td>0.234415</td>\n",
              "      <td>0.483333</td>\n",
              "    </tr>\n",
              "    <tr>\n",
              "      <th>1</th>\n",
              "      <td>0.264516</td>\n",
              "      <td>0.428571</td>\n",
              "      <td>0.239130</td>\n",
              "      <td>0.019832</td>\n",
              "      <td>0.171779</td>\n",
              "      <td>0.116567</td>\n",
              "      <td>0.166667</td>\n",
              "    </tr>\n",
              "    <tr>\n",
              "      <th>2</th>\n",
              "      <td>0.896774</td>\n",
              "      <td>0.408163</td>\n",
              "      <td>0.173913</td>\n",
              "      <td>0.019832</td>\n",
              "      <td>0.104294</td>\n",
              "      <td>0.253629</td>\n",
              "      <td>0.183333</td>\n",
              "    </tr>\n",
              "    <tr>\n",
              "      <th>3</th>\n",
              "      <td>0.290323</td>\n",
              "      <td>0.428571</td>\n",
              "      <td>0.173913</td>\n",
              "      <td>0.096154</td>\n",
              "      <td>0.202454</td>\n",
              "      <td>0.038002</td>\n",
              "      <td>0.000000</td>\n",
              "    </tr>\n",
              "    <tr>\n",
              "      <th>4</th>\n",
              "      <td>0.600000</td>\n",
              "      <td>0.163265</td>\n",
              "      <td>0.304348</td>\n",
              "      <td>0.185096</td>\n",
              "      <td>0.509202</td>\n",
              "      <td>0.943638</td>\n",
              "      <td>0.200000</td>\n",
              "    </tr>\n",
              "    <tr>\n",
              "      <th>...</th>\n",
              "      <td>...</td>\n",
              "      <td>...</td>\n",
              "      <td>...</td>\n",
              "      <td>...</td>\n",
              "      <td>...</td>\n",
              "      <td>...</td>\n",
              "      <td>...</td>\n",
              "    </tr>\n",
              "    <tr>\n",
              "      <th>763</th>\n",
              "      <td>0.367742</td>\n",
              "      <td>0.530612</td>\n",
              "      <td>0.445652</td>\n",
              "      <td>0.199519</td>\n",
              "      <td>0.300613</td>\n",
              "      <td>0.039710</td>\n",
              "      <td>0.700000</td>\n",
              "    </tr>\n",
              "    <tr>\n",
              "      <th>764</th>\n",
              "      <td>0.503226</td>\n",
              "      <td>0.469388</td>\n",
              "      <td>0.217391</td>\n",
              "      <td>0.019832</td>\n",
              "      <td>0.380368</td>\n",
              "      <td>0.111870</td>\n",
              "      <td>0.100000</td>\n",
              "    </tr>\n",
              "    <tr>\n",
              "      <th>765</th>\n",
              "      <td>0.496774</td>\n",
              "      <td>0.489796</td>\n",
              "      <td>0.173913</td>\n",
              "      <td>0.117788</td>\n",
              "      <td>0.163599</td>\n",
              "      <td>0.071307</td>\n",
              "      <td>0.150000</td>\n",
              "    </tr>\n",
              "    <tr>\n",
              "      <th>766</th>\n",
              "      <td>0.529032</td>\n",
              "      <td>0.367347</td>\n",
              "      <td>0.173913</td>\n",
              "      <td>0.019832</td>\n",
              "      <td>0.243354</td>\n",
              "      <td>0.115713</td>\n",
              "      <td>0.433333</td>\n",
              "    </tr>\n",
              "    <tr>\n",
              "      <th>767</th>\n",
              "      <td>0.316129</td>\n",
              "      <td>0.469388</td>\n",
              "      <td>0.260870</td>\n",
              "      <td>0.019832</td>\n",
              "      <td>0.249489</td>\n",
              "      <td>0.101196</td>\n",
              "      <td>0.033333</td>\n",
              "    </tr>\n",
              "  </tbody>\n",
              "</table>\n",
              "<p>768 rows × 7 columns</p>\n",
              "</div>"
            ],
            "text/plain": [
              "      Glucose  BloodPressure  SkinThickness   Insulin       BMI  \\\n",
              "0    0.670968       0.489796       0.304348  0.019832  0.314928   \n",
              "1    0.264516       0.428571       0.239130  0.019832  0.171779   \n",
              "2    0.896774       0.408163       0.173913  0.019832  0.104294   \n",
              "3    0.290323       0.428571       0.173913  0.096154  0.202454   \n",
              "4    0.600000       0.163265       0.304348  0.185096  0.509202   \n",
              "..        ...            ...            ...       ...       ...   \n",
              "763  0.367742       0.530612       0.445652  0.199519  0.300613   \n",
              "764  0.503226       0.469388       0.217391  0.019832  0.380368   \n",
              "765  0.496774       0.489796       0.173913  0.117788  0.163599   \n",
              "766  0.529032       0.367347       0.173913  0.019832  0.243354   \n",
              "767  0.316129       0.469388       0.260870  0.019832  0.249489   \n",
              "\n",
              "     DiabetesPedigreeFunction       Age  \n",
              "0                    0.234415  0.483333  \n",
              "1                    0.116567  0.166667  \n",
              "2                    0.253629  0.183333  \n",
              "3                    0.038002  0.000000  \n",
              "4                    0.943638  0.200000  \n",
              "..                        ...       ...  \n",
              "763                  0.039710  0.700000  \n",
              "764                  0.111870  0.100000  \n",
              "765                  0.071307  0.150000  \n",
              "766                  0.115713  0.433333  \n",
              "767                  0.101196  0.033333  \n",
              "\n",
              "[768 rows x 7 columns]"
            ]
          },
          "execution_count": 19,
          "metadata": {},
          "output_type": "execute_result"
        }
      ],
      "source": [
        "data2"
      ]
    },
    {
      "cell_type": "code",
      "execution_count": null,
      "id": "fea85671",
      "metadata": {
        "id": "fea85671"
      },
      "outputs": [],
      "source": [
        "con_data=data[['Pregnancies','Outcome']]\n"
      ]
    },
    {
      "cell_type": "code",
      "execution_count": null,
      "id": "597931de",
      "metadata": {
        "collapsed": true,
        "id": "597931de",
        "outputId": "847fdce5-a5c3-42d3-ba09-4586d4c854b8"
      },
      "outputs": [
        {
          "data": {
            "text/html": [
              "<div>\n",
              "<style scoped>\n",
              "    .dataframe tbody tr th:only-of-type {\n",
              "        vertical-align: middle;\n",
              "    }\n",
              "\n",
              "    .dataframe tbody tr th {\n",
              "        vertical-align: top;\n",
              "    }\n",
              "\n",
              "    .dataframe thead th {\n",
              "        text-align: right;\n",
              "    }\n",
              "</style>\n",
              "<table border=\"1\" class=\"dataframe\">\n",
              "  <thead>\n",
              "    <tr style=\"text-align: right;\">\n",
              "      <th></th>\n",
              "      <th>Pregnancies</th>\n",
              "      <th>Outcome</th>\n",
              "    </tr>\n",
              "  </thead>\n",
              "  <tbody>\n",
              "    <tr>\n",
              "      <th>0</th>\n",
              "      <td>6</td>\n",
              "      <td>1</td>\n",
              "    </tr>\n",
              "    <tr>\n",
              "      <th>1</th>\n",
              "      <td>1</td>\n",
              "      <td>0</td>\n",
              "    </tr>\n",
              "    <tr>\n",
              "      <th>2</th>\n",
              "      <td>8</td>\n",
              "      <td>1</td>\n",
              "    </tr>\n",
              "    <tr>\n",
              "      <th>3</th>\n",
              "      <td>1</td>\n",
              "      <td>0</td>\n",
              "    </tr>\n",
              "    <tr>\n",
              "      <th>4</th>\n",
              "      <td>0</td>\n",
              "      <td>1</td>\n",
              "    </tr>\n",
              "    <tr>\n",
              "      <th>...</th>\n",
              "      <td>...</td>\n",
              "      <td>...</td>\n",
              "    </tr>\n",
              "    <tr>\n",
              "      <th>763</th>\n",
              "      <td>10</td>\n",
              "      <td>0</td>\n",
              "    </tr>\n",
              "    <tr>\n",
              "      <th>764</th>\n",
              "      <td>2</td>\n",
              "      <td>0</td>\n",
              "    </tr>\n",
              "    <tr>\n",
              "      <th>765</th>\n",
              "      <td>5</td>\n",
              "      <td>0</td>\n",
              "    </tr>\n",
              "    <tr>\n",
              "      <th>766</th>\n",
              "      <td>1</td>\n",
              "      <td>1</td>\n",
              "    </tr>\n",
              "    <tr>\n",
              "      <th>767</th>\n",
              "      <td>1</td>\n",
              "      <td>0</td>\n",
              "    </tr>\n",
              "  </tbody>\n",
              "</table>\n",
              "<p>768 rows × 2 columns</p>\n",
              "</div>"
            ],
            "text/plain": [
              "     Pregnancies  Outcome\n",
              "0              6        1\n",
              "1              1        0\n",
              "2              8        1\n",
              "3              1        0\n",
              "4              0        1\n",
              "..           ...      ...\n",
              "763           10        0\n",
              "764            2        0\n",
              "765            5        0\n",
              "766            1        1\n",
              "767            1        0\n",
              "\n",
              "[768 rows x 2 columns]"
            ]
          },
          "execution_count": 21,
          "metadata": {},
          "output_type": "execute_result"
        }
      ],
      "source": [
        "con_data"
      ]
    },
    {
      "cell_type": "code",
      "execution_count": null,
      "id": "22dac0f3",
      "metadata": {
        "id": "22dac0f3"
      },
      "outputs": [],
      "source": [
        "final_df=pd.concat([data2,con_data],axis=1)"
      ]
    },
    {
      "cell_type": "code",
      "execution_count": null,
      "id": "513a0aca",
      "metadata": {
        "id": "513a0aca",
        "outputId": "85bf8af1-9fd2-45a0-cdc2-c57c8099ba59"
      },
      "outputs": [
        {
          "data": {
            "text/html": [
              "<div>\n",
              "<style scoped>\n",
              "    .dataframe tbody tr th:only-of-type {\n",
              "        vertical-align: middle;\n",
              "    }\n",
              "\n",
              "    .dataframe tbody tr th {\n",
              "        vertical-align: top;\n",
              "    }\n",
              "\n",
              "    .dataframe thead th {\n",
              "        text-align: right;\n",
              "    }\n",
              "</style>\n",
              "<table border=\"1\" class=\"dataframe\">\n",
              "  <thead>\n",
              "    <tr style=\"text-align: right;\">\n",
              "      <th></th>\n",
              "      <th>Glucose</th>\n",
              "      <th>BloodPressure</th>\n",
              "      <th>SkinThickness</th>\n",
              "      <th>Insulin</th>\n",
              "      <th>BMI</th>\n",
              "      <th>DiabetesPedigreeFunction</th>\n",
              "      <th>Age</th>\n",
              "      <th>Pregnancies</th>\n",
              "      <th>Outcome</th>\n",
              "    </tr>\n",
              "  </thead>\n",
              "  <tbody>\n",
              "    <tr>\n",
              "      <th>0</th>\n",
              "      <td>0.670968</td>\n",
              "      <td>0.489796</td>\n",
              "      <td>0.304348</td>\n",
              "      <td>0.019832</td>\n",
              "      <td>0.314928</td>\n",
              "      <td>0.234415</td>\n",
              "      <td>0.483333</td>\n",
              "      <td>6</td>\n",
              "      <td>1</td>\n",
              "    </tr>\n",
              "    <tr>\n",
              "      <th>1</th>\n",
              "      <td>0.264516</td>\n",
              "      <td>0.428571</td>\n",
              "      <td>0.239130</td>\n",
              "      <td>0.019832</td>\n",
              "      <td>0.171779</td>\n",
              "      <td>0.116567</td>\n",
              "      <td>0.166667</td>\n",
              "      <td>1</td>\n",
              "      <td>0</td>\n",
              "    </tr>\n",
              "    <tr>\n",
              "      <th>2</th>\n",
              "      <td>0.896774</td>\n",
              "      <td>0.408163</td>\n",
              "      <td>0.173913</td>\n",
              "      <td>0.019832</td>\n",
              "      <td>0.104294</td>\n",
              "      <td>0.253629</td>\n",
              "      <td>0.183333</td>\n",
              "      <td>8</td>\n",
              "      <td>1</td>\n",
              "    </tr>\n",
              "    <tr>\n",
              "      <th>3</th>\n",
              "      <td>0.290323</td>\n",
              "      <td>0.428571</td>\n",
              "      <td>0.173913</td>\n",
              "      <td>0.096154</td>\n",
              "      <td>0.202454</td>\n",
              "      <td>0.038002</td>\n",
              "      <td>0.000000</td>\n",
              "      <td>1</td>\n",
              "      <td>0</td>\n",
              "    </tr>\n",
              "    <tr>\n",
              "      <th>4</th>\n",
              "      <td>0.600000</td>\n",
              "      <td>0.163265</td>\n",
              "      <td>0.304348</td>\n",
              "      <td>0.185096</td>\n",
              "      <td>0.509202</td>\n",
              "      <td>0.943638</td>\n",
              "      <td>0.200000</td>\n",
              "      <td>0</td>\n",
              "      <td>1</td>\n",
              "    </tr>\n",
              "    <tr>\n",
              "      <th>...</th>\n",
              "      <td>...</td>\n",
              "      <td>...</td>\n",
              "      <td>...</td>\n",
              "      <td>...</td>\n",
              "      <td>...</td>\n",
              "      <td>...</td>\n",
              "      <td>...</td>\n",
              "      <td>...</td>\n",
              "      <td>...</td>\n",
              "    </tr>\n",
              "    <tr>\n",
              "      <th>763</th>\n",
              "      <td>0.367742</td>\n",
              "      <td>0.530612</td>\n",
              "      <td>0.445652</td>\n",
              "      <td>0.199519</td>\n",
              "      <td>0.300613</td>\n",
              "      <td>0.039710</td>\n",
              "      <td>0.700000</td>\n",
              "      <td>10</td>\n",
              "      <td>0</td>\n",
              "    </tr>\n",
              "    <tr>\n",
              "      <th>764</th>\n",
              "      <td>0.503226</td>\n",
              "      <td>0.469388</td>\n",
              "      <td>0.217391</td>\n",
              "      <td>0.019832</td>\n",
              "      <td>0.380368</td>\n",
              "      <td>0.111870</td>\n",
              "      <td>0.100000</td>\n",
              "      <td>2</td>\n",
              "      <td>0</td>\n",
              "    </tr>\n",
              "    <tr>\n",
              "      <th>765</th>\n",
              "      <td>0.496774</td>\n",
              "      <td>0.489796</td>\n",
              "      <td>0.173913</td>\n",
              "      <td>0.117788</td>\n",
              "      <td>0.163599</td>\n",
              "      <td>0.071307</td>\n",
              "      <td>0.150000</td>\n",
              "      <td>5</td>\n",
              "      <td>0</td>\n",
              "    </tr>\n",
              "    <tr>\n",
              "      <th>766</th>\n",
              "      <td>0.529032</td>\n",
              "      <td>0.367347</td>\n",
              "      <td>0.173913</td>\n",
              "      <td>0.019832</td>\n",
              "      <td>0.243354</td>\n",
              "      <td>0.115713</td>\n",
              "      <td>0.433333</td>\n",
              "      <td>1</td>\n",
              "      <td>1</td>\n",
              "    </tr>\n",
              "    <tr>\n",
              "      <th>767</th>\n",
              "      <td>0.316129</td>\n",
              "      <td>0.469388</td>\n",
              "      <td>0.260870</td>\n",
              "      <td>0.019832</td>\n",
              "      <td>0.249489</td>\n",
              "      <td>0.101196</td>\n",
              "      <td>0.033333</td>\n",
              "      <td>1</td>\n",
              "      <td>0</td>\n",
              "    </tr>\n",
              "  </tbody>\n",
              "</table>\n",
              "<p>768 rows × 9 columns</p>\n",
              "</div>"
            ],
            "text/plain": [
              "      Glucose  BloodPressure  SkinThickness   Insulin       BMI  \\\n",
              "0    0.670968       0.489796       0.304348  0.019832  0.314928   \n",
              "1    0.264516       0.428571       0.239130  0.019832  0.171779   \n",
              "2    0.896774       0.408163       0.173913  0.019832  0.104294   \n",
              "3    0.290323       0.428571       0.173913  0.096154  0.202454   \n",
              "4    0.600000       0.163265       0.304348  0.185096  0.509202   \n",
              "..        ...            ...            ...       ...       ...   \n",
              "763  0.367742       0.530612       0.445652  0.199519  0.300613   \n",
              "764  0.503226       0.469388       0.217391  0.019832  0.380368   \n",
              "765  0.496774       0.489796       0.173913  0.117788  0.163599   \n",
              "766  0.529032       0.367347       0.173913  0.019832  0.243354   \n",
              "767  0.316129       0.469388       0.260870  0.019832  0.249489   \n",
              "\n",
              "     DiabetesPedigreeFunction       Age  Pregnancies  Outcome  \n",
              "0                    0.234415  0.483333            6        1  \n",
              "1                    0.116567  0.166667            1        0  \n",
              "2                    0.253629  0.183333            8        1  \n",
              "3                    0.038002  0.000000            1        0  \n",
              "4                    0.943638  0.200000            0        1  \n",
              "..                        ...       ...          ...      ...  \n",
              "763                  0.039710  0.700000           10        0  \n",
              "764                  0.111870  0.100000            2        0  \n",
              "765                  0.071307  0.150000            5        0  \n",
              "766                  0.115713  0.433333            1        1  \n",
              "767                  0.101196  0.033333            1        0  \n",
              "\n",
              "[768 rows x 9 columns]"
            ]
          },
          "execution_count": 23,
          "metadata": {},
          "output_type": "execute_result"
        }
      ],
      "source": [
        "final_df"
      ]
    },
    {
      "cell_type": "markdown",
      "id": "8e8c8473",
      "metadata": {
        "id": "8e8c8473"
      },
      "source": [
        "### Feature Selection"
      ]
    },
    {
      "cell_type": "code",
      "execution_count": null,
      "id": "3777b93e",
      "metadata": {
        "collapsed": true,
        "id": "3777b93e",
        "outputId": "21e0d379-86a9-492d-b663-b7e7f7d65862"
      },
      "outputs": [
        {
          "data": {
            "text/plain": [
              "<Axes: >"
            ]
          },
          "execution_count": 27,
          "metadata": {},
          "output_type": "execute_result"
        },
        {
          "data": {
            "image/png": "[encoded data removed]",
            "text/plain": [
              "<Figure size 640x480 with 2 Axes>"
            ]
          },
          "metadata": {},
          "output_type": "display_data"
        }
      ],
      "source": [
        "# checking the correlation\n",
        "sns.heatmap(data2.corr(),annot=True)\n",
        "# No correlation between the features so we are not dropping any columns"
      ]
    },
    {
      "cell_type": "markdown",
      "id": "9fa097c9",
      "metadata": {
        "id": "9fa097c9"
      },
      "source": [
        "### Model Creation"
      ]
    },
    {
      "cell_type": "code",
      "execution_count": null,
      "id": "20c8b495",
      "metadata": {
        "id": "20c8b495"
      },
      "outputs": [],
      "source": [
        "# create input and output variable\n",
        "X=final_df.iloc[:,:-1]\n",
        "y=final_df.Outcome"
      ]
    },
    {
      "cell_type": "code",
      "execution_count": null,
      "id": "32b4148f",
      "metadata": {
        "collapsed": true,
        "id": "32b4148f",
        "outputId": "318eaca6-1b9f-43c7-a173-472e0a4b6f95"
      },
      "outputs": [
        {
          "data": {
            "text/html": [
              "<div>\n",
              "<style scoped>\n",
              "    .dataframe tbody tr th:only-of-type {\n",
              "        vertical-align: middle;\n",
              "    }\n",
              "\n",
              "    .dataframe tbody tr th {\n",
              "        vertical-align: top;\n",
              "    }\n",
              "\n",
              "    .dataframe thead th {\n",
              "        text-align: right;\n",
              "    }\n",
              "</style>\n",
              "<table border=\"1\" class=\"dataframe\">\n",
              "  <thead>\n",
              "    <tr style=\"text-align: right;\">\n",
              "      <th></th>\n",
              "      <th>Glucose</th>\n",
              "      <th>BloodPressure</th>\n",
              "      <th>SkinThickness</th>\n",
              "      <th>Insulin</th>\n",
              "      <th>BMI</th>\n",
              "      <th>DiabetesPedigreeFunction</th>\n",
              "      <th>Age</th>\n",
              "      <th>Pregnancies</th>\n",
              "    </tr>\n",
              "  </thead>\n",
              "  <tbody>\n",
              "    <tr>\n",
              "      <th>0</th>\n",
              "      <td>0.670968</td>\n",
              "      <td>0.489796</td>\n",
              "      <td>0.304348</td>\n",
              "      <td>0.019832</td>\n",
              "      <td>0.314928</td>\n",
              "      <td>0.234415</td>\n",
              "      <td>0.483333</td>\n",
              "      <td>6</td>\n",
              "    </tr>\n",
              "    <tr>\n",
              "      <th>1</th>\n",
              "      <td>0.264516</td>\n",
              "      <td>0.428571</td>\n",
              "      <td>0.239130</td>\n",
              "      <td>0.019832</td>\n",
              "      <td>0.171779</td>\n",
              "      <td>0.116567</td>\n",
              "      <td>0.166667</td>\n",
              "      <td>1</td>\n",
              "    </tr>\n",
              "    <tr>\n",
              "      <th>2</th>\n",
              "      <td>0.896774</td>\n",
              "      <td>0.408163</td>\n",
              "      <td>0.173913</td>\n",
              "      <td>0.019832</td>\n",
              "      <td>0.104294</td>\n",
              "      <td>0.253629</td>\n",
              "      <td>0.183333</td>\n",
              "      <td>8</td>\n",
              "    </tr>\n",
              "    <tr>\n",
              "      <th>3</th>\n",
              "      <td>0.290323</td>\n",
              "      <td>0.428571</td>\n",
              "      <td>0.173913</td>\n",
              "      <td>0.096154</td>\n",
              "      <td>0.202454</td>\n",
              "      <td>0.038002</td>\n",
              "      <td>0.000000</td>\n",
              "      <td>1</td>\n",
              "    </tr>\n",
              "    <tr>\n",
              "      <th>4</th>\n",
              "      <td>0.600000</td>\n",
              "      <td>0.163265</td>\n",
              "      <td>0.304348</td>\n",
              "      <td>0.185096</td>\n",
              "      <td>0.509202</td>\n",
              "      <td>0.943638</td>\n",
              "      <td>0.200000</td>\n",
              "      <td>0</td>\n",
              "    </tr>\n",
              "    <tr>\n",
              "      <th>...</th>\n",
              "      <td>...</td>\n",
              "      <td>...</td>\n",
              "      <td>...</td>\n",
              "      <td>...</td>\n",
              "      <td>...</td>\n",
              "      <td>...</td>\n",
              "      <td>...</td>\n",
              "      <td>...</td>\n",
              "    </tr>\n",
              "    <tr>\n",
              "      <th>763</th>\n",
              "      <td>0.367742</td>\n",
              "      <td>0.530612</td>\n",
              "      <td>0.445652</td>\n",
              "      <td>0.199519</td>\n",
              "      <td>0.300613</td>\n",
              "      <td>0.039710</td>\n",
              "      <td>0.700000</td>\n",
              "      <td>10</td>\n",
              "    </tr>\n",
              "    <tr>\n",
              "      <th>764</th>\n",
              "      <td>0.503226</td>\n",
              "      <td>0.469388</td>\n",
              "      <td>0.217391</td>\n",
              "      <td>0.019832</td>\n",
              "      <td>0.380368</td>\n",
              "      <td>0.111870</td>\n",
              "      <td>0.100000</td>\n",
              "      <td>2</td>\n",
              "    </tr>\n",
              "    <tr>\n",
              "      <th>765</th>\n",
              "      <td>0.496774</td>\n",
              "      <td>0.489796</td>\n",
              "      <td>0.173913</td>\n",
              "      <td>0.117788</td>\n",
              "      <td>0.163599</td>\n",
              "      <td>0.071307</td>\n",
              "      <td>0.150000</td>\n",
              "      <td>5</td>\n",
              "    </tr>\n",
              "    <tr>\n",
              "      <th>766</th>\n",
              "      <td>0.529032</td>\n",
              "      <td>0.367347</td>\n",
              "      <td>0.173913</td>\n",
              "      <td>0.019832</td>\n",
              "      <td>0.243354</td>\n",
              "      <td>0.115713</td>\n",
              "      <td>0.433333</td>\n",
              "      <td>1</td>\n",
              "    </tr>\n",
              "    <tr>\n",
              "      <th>767</th>\n",
              "      <td>0.316129</td>\n",
              "      <td>0.469388</td>\n",
              "      <td>0.260870</td>\n",
              "      <td>0.019832</td>\n",
              "      <td>0.249489</td>\n",
              "      <td>0.101196</td>\n",
              "      <td>0.033333</td>\n",
              "      <td>1</td>\n",
              "    </tr>\n",
              "  </tbody>\n",
              "</table>\n",
              "<p>768 rows × 8 columns</p>\n",
              "</div>"
            ],
            "text/plain": [
              "      Glucose  BloodPressure  SkinThickness   Insulin       BMI  \\\n",
              "0    0.670968       0.489796       0.304348  0.019832  0.314928   \n",
              "1    0.264516       0.428571       0.239130  0.019832  0.171779   \n",
              "2    0.896774       0.408163       0.173913  0.019832  0.104294   \n",
              "3    0.290323       0.428571       0.173913  0.096154  0.202454   \n",
              "4    0.600000       0.163265       0.304348  0.185096  0.509202   \n",
              "..        ...            ...            ...       ...       ...   \n",
              "763  0.367742       0.530612       0.445652  0.199519  0.300613   \n",
              "764  0.503226       0.469388       0.217391  0.019832  0.380368   \n",
              "765  0.496774       0.489796       0.173913  0.117788  0.163599   \n",
              "766  0.529032       0.367347       0.173913  0.019832  0.243354   \n",
              "767  0.316129       0.469388       0.260870  0.019832  0.249489   \n",
              "\n",
              "     DiabetesPedigreeFunction       Age  Pregnancies  \n",
              "0                    0.234415  0.483333            6  \n",
              "1                    0.116567  0.166667            1  \n",
              "2                    0.253629  0.183333            8  \n",
              "3                    0.038002  0.000000            1  \n",
              "4                    0.943638  0.200000            0  \n",
              "..                        ...       ...          ...  \n",
              "763                  0.039710  0.700000           10  \n",
              "764                  0.111870  0.100000            2  \n",
              "765                  0.071307  0.150000            5  \n",
              "766                  0.115713  0.433333            1  \n",
              "767                  0.101196  0.033333            1  \n",
              "\n",
              "[768 rows x 8 columns]"
            ]
          },
          "execution_count": 29,
          "metadata": {},
          "output_type": "execute_result"
        }
      ],
      "source": [
        "X"
      ]
    },
    {
      "cell_type": "code",
      "execution_count": null,
      "id": "adff8c77",
      "metadata": {
        "collapsed": true,
        "id": "adff8c77",
        "outputId": "97d33fa2-2079-42fd-9294-51806ff4dd16"
      },
      "outputs": [
        {
          "data": {
            "text/plain": [
              "0      1\n",
              "1      0\n",
              "2      1\n",
              "3      0\n",
              "4      1\n",
              "      ..\n",
              "763    0\n",
              "764    0\n",
              "765    0\n",
              "766    1\n",
              "767    0\n",
              "Name: Outcome, Length: 768, dtype: int64"
            ]
          },
          "execution_count": 30,
          "metadata": {},
          "output_type": "execute_result"
        }
      ],
      "source": [
        "y"
      ]
    },
    {
      "cell_type": "code",
      "execution_count": null,
      "id": "6d44f272",
      "metadata": {
        "id": "6d44f272"
      },
      "outputs": [],
      "source": [
        "## Step 2 Creating training and testing data.\n",
        "from sklearn.model_selection import train_test_split\n",
        "X_train,X_test,y_train,y_test=train_test_split(X,y,test_size=0.20,random_state=45)"
      ]
    },
    {
      "cell_type": "code",
      "execution_count": null,
      "id": "80bd54fd",
      "metadata": {
        "id": "80bd54fd",
        "outputId": "55b8c32a-edef-488d-da64-298d06e86ec3"
      },
      "outputs": [
        {
          "data": {
            "text/plain": [
              "(614, 8)"
            ]
          },
          "execution_count": 33,
          "metadata": {},
          "output_type": "execute_result"
        }
      ],
      "source": [
        "X_train.shape"
      ]
    },
    {
      "cell_type": "code",
      "execution_count": null,
      "id": "84d7bd79",
      "metadata": {
        "id": "84d7bd79",
        "outputId": "40c5ff41-f4bc-4e7b-c05e-83cca29fc458"
      },
      "outputs": [
        {
          "data": {
            "text/plain": [
              "(154, 8)"
            ]
          },
          "execution_count": 34,
          "metadata": {},
          "output_type": "execute_result"
        }
      ],
      "source": [
        "X_test.shape"
      ]
    },
    {
      "cell_type": "code",
      "execution_count": null,
      "id": "9bde1293",
      "metadata": {
        "id": "9bde1293",
        "outputId": "c91ef8a6-3dc9-441b-f64c-8b6db365033a"
      },
      "outputs": [
        {
          "data": {
            "text/plain": [
              "(614,)"
            ]
          },
          "execution_count": 35,
          "metadata": {},
          "output_type": "execute_result"
        }
      ],
      "source": [
        "y_train.shape"
      ]
    },
    {
      "cell_type": "code",
      "execution_count": null,
      "id": "1c0c20c9",
      "metadata": {
        "id": "1c0c20c9",
        "outputId": "ab3dae2b-3819-424f-dab7-99051039e8ce"
      },
      "outputs": [
        {
          "data": {
            "text/plain": [
              "(154,)"
            ]
          },
          "execution_count": 36,
          "metadata": {},
          "output_type": "execute_result"
        }
      ],
      "source": [
        "y_test.shape"
      ]
    },
    {
      "cell_type": "code",
      "execution_count": null,
      "id": "95da794a",
      "metadata": {
        "collapsed": true,
        "id": "95da794a",
        "outputId": "c835c5d8-b4c9-4920-9fd5-986ecbcfd309"
      },
      "outputs": [
        {
          "data": {
            "text/html": [
              "<style>#sk-container-id-1 {color: black;background-color: white;}#sk-container-id-1 pre{padding: 0;}#sk-container-id-1 div.sk-toggleable {background-color: white;}#sk-container-id-1 label.sk-toggleable__label {cursor: pointer;display: block;width: 100%;margin-bottom: 0;padding: 0.3em;box-sizing: border-box;text-align: center;}#sk-container-id-1 label.sk-toggleable__label-arrow:before {content: \"▸\";float: left;margin-right: 0.25em;color: #696969;}#sk-container-id-1 label.sk-toggleable__label-arrow:hover:before {color: black;}#sk-container-id-1 div.sk-estimator:hover label.sk-toggleable__label-arrow:before {color: black;}#sk-container-id-1 div.sk-toggleable__content {max-height: 0;max-width: 0;overflow: hidden;text-align: left;background-color: #f0f8ff;}#sk-container-id-1 div.sk-toggleable__content pre {margin: 0.2em;color: black;border-radius: 0.25em;background-color: #f0f8ff;}#sk-container-id-1 input.sk-toggleable__control:checked~div.sk-toggleable__content {max-height: 200px;max-width: 100%;overflow: auto;}#sk-container-id-1 input.sk-toggleable__control:checked~label.sk-toggleable__label-arrow:before {content: \"▾\";}#sk-container-id-1 div.sk-estimator input.sk-toggleable__control:checked~label.sk-toggleable__label {background-color: #d4ebff;}#sk-container-id-1 div.sk-label input.sk-toggleable__control:checked~label.sk-toggleable__label {background-color: #d4ebff;}#sk-container-id-1 input.sk-hidden--visually {border: 0;clip: rect(1px 1px 1px 1px);clip: rect(1px, 1px, 1px, 1px);height: 1px;margin: -1px;overflow: hidden;padding: 0;position: absolute;width: 1px;}#sk-container-id-1 div.sk-estimator {font-family: monospace;background-color: #f0f8ff;border: 1px dotted black;border-radius: 0.25em;box-sizing: border-box;margin-bottom: 0.5em;}#sk-container-id-1 div.sk-estimator:hover {background-color: #d4ebff;}#sk-container-id-1 div.sk-parallel-item::after {content: \"\";width: 100%;border-bottom: 1px solid gray;flex-grow: 1;}#sk-container-id-1 div.sk-label:hover label.sk-toggleable__label {background-color: #d4ebff;}#sk-container-id-1 div.sk-serial::before {content: \"\";position: absolute;border-left: 1px solid gray;box-sizing: border-box;top: 0;bottom: 0;left: 50%;z-index: 0;}#sk-container-id-1 div.sk-serial {display: flex;flex-direction: column;align-items: center;background-color: white;padding-right: 0.2em;padding-left: 0.2em;position: relative;}#sk-container-id-1 div.sk-item {position: relative;z-index: 1;}#sk-container-id-1 div.sk-parallel {display: flex;align-items: stretch;justify-content: center;background-color: white;position: relative;}#sk-container-id-1 div.sk-item::before, #sk-container-id-1 div.sk-parallel-item::before {content: \"\";position: absolute;border-left: 1px solid gray;box-sizing: border-box;top: 0;bottom: 0;left: 50%;z-index: -1;}#sk-container-id-1 div.sk-parallel-item {display: flex;flex-direction: column;z-index: 1;position: relative;background-color: white;}#sk-container-id-1 div.sk-parallel-item:first-child::after {align-self: flex-end;width: 50%;}#sk-container-id-1 div.sk-parallel-item:last-child::after {align-self: flex-start;width: 50%;}#sk-container-id-1 div.sk-parallel-item:only-child::after {width: 0;}#sk-container-id-1 div.sk-dashed-wrapped {border: 1px dashed gray;margin: 0 0.4em 0.5em 0.4em;box-sizing: border-box;padding-bottom: 0.4em;background-color: white;}#sk-container-id-1 div.sk-label label {font-family: monospace;font-weight: bold;display: inline-block;line-height: 1.2em;}#sk-container-id-1 div.sk-label-container {text-align: center;}#sk-container-id-1 div.sk-container {/* jupyter's `normalize.less` sets `[hidden] { display: none; }` but bootstrap.min.css set `[hidden] { display: none !important; }` so we also need the `!important` here to be able to override the default hidden behavior on the sphinx rendered scikit-learn.org. See: https://github.com/scikit-learn/scikit-learn/issues/21755 */display: inline-block !important;position: relative;}#sk-container-id-1 div.sk-text-repr-fallback {display: none;}</style><div id=\"sk-container-id-1\" class=\"sk-top-container\"><div class=\"sk-text-repr-fallback\"><pre>LogisticRegression()</pre><b>In a Jupyter environment, please rerun this cell to show the HTML representation or trust the notebook. <br />On GitHub, the HTML representation is unable to render, please try loading this page with nbviewer.org.</b></div><div class=\"sk-container\" hidden><div class=\"sk-item\"><div class=\"sk-estimator sk-toggleable\"><input class=\"sk-toggleable__control sk-hidden--visually\" id=\"sk-estimator-id-1\" type=\"checkbox\" checked><label for=\"sk-estimator-id-1\" class=\"sk-toggleable__label sk-toggleable__label-arrow\">LogisticRegression</label><div class=\"sk-toggleable__content\"><pre>LogisticRegression()</pre></div></div></div></div></div>"
            ],
            "text/plain": [
              "LogisticRegression()"
            ]
          },
          "execution_count": 38,
          "metadata": {},
          "output_type": "execute_result"
        }
      ],
      "source": [
        "## Step 3 Model creation\n",
        "from sklearn.linear_model import LogisticRegression\n",
        "clf=LogisticRegression()\n",
        "clf.fit(X_train,y_train)  ## training"
      ]
    },
    {
      "cell_type": "code",
      "execution_count": null,
      "id": "8b7b1d40",
      "metadata": {
        "id": "8b7b1d40"
      },
      "outputs": [],
      "source": [
        "## Step 4 Prediction\n",
        "y_pred=clf.predict(X_test)"
      ]
    },
    {
      "cell_type": "code",
      "execution_count": null,
      "id": "1ead4c50",
      "metadata": {
        "collapsed": true,
        "id": "1ead4c50",
        "outputId": "d0f93c77-57b4-4312-9fd5-71c5429f1263"
      },
      "outputs": [
        {
          "data": {
            "text/plain": [
              "array([1, 0, 0, 0, 0, 0, 0, 0, 1, 0, 1, 0, 0, 1, 0, 0, 1, 0, 1, 0, 0, 0,\n",
              "       0, 0, 0, 1, 0, 1, 1, 0, 0, 1, 0, 0, 0, 0, 0, 0, 0, 0, 0, 0, 1, 1,\n",
              "       0, 0, 0, 1, 0, 0, 0, 1, 0, 0, 0, 0, 0, 1, 1, 1, 1, 1, 0, 0, 0, 0,\n",
              "       0, 0, 1, 0, 0, 0, 0, 0, 0, 0, 0, 0, 0, 0, 0, 0, 1, 0, 1, 0, 1, 0,\n",
              "       0, 0, 1, 0, 0, 0, 0, 0, 1, 0, 1, 0, 1, 1, 1, 1, 0, 0, 0, 0, 1, 1,\n",
              "       1, 0, 0, 1, 0, 0, 0, 1, 0, 0, 0, 0, 0, 0, 0, 0, 0, 0, 0, 0, 0, 0,\n",
              "       0, 0, 0, 1, 0, 0, 0, 1, 0, 1, 0, 0, 1, 0, 0, 0, 0, 0, 0, 0, 1, 0],\n",
              "      dtype=int64)"
            ]
          },
          "execution_count": 40,
          "metadata": {},
          "output_type": "execute_result"
        }
      ],
      "source": [
        "y_pred"
      ]
    },
    {
      "cell_type": "code",
      "execution_count": null,
      "id": "deaf521c",
      "metadata": {
        "collapsed": true,
        "id": "deaf521c",
        "outputId": "de1ce9ad-ed4f-4309-d6c5-3e854d288970"
      },
      "outputs": [
        {
          "data": {
            "text/plain": [
              "array([[0.33663888, 0.66336112],\n",
              "       [0.90120845, 0.09879155],\n",
              "       [0.74778048, 0.25221952],\n",
              "       [0.54684365, 0.45315635],\n",
              "       [0.80474717, 0.19525283],\n",
              "       [0.85889198, 0.14110802],\n",
              "       [0.52870232, 0.47129768],\n",
              "       [0.92249035, 0.07750965],\n",
              "       [0.37432263, 0.62567737],\n",
              "       [0.91524759, 0.08475241],\n",
              "       [0.24175399, 0.75824601],\n",
              "       [0.54821873, 0.45178127],\n",
              "       [0.94364227, 0.05635773],\n",
              "       [0.43773737, 0.56226263],\n",
              "       [0.73748528, 0.26251472],\n",
              "       [0.9002487 , 0.0997513 ],\n",
              "       [0.07218234, 0.92781766],\n",
              "       [0.60661705, 0.39338295],\n",
              "       [0.39147734, 0.60852266],\n",
              "       [0.91445218, 0.08554782],\n",
              "       [0.6624536 , 0.3375464 ],\n",
              "       [0.71800741, 0.28199259],\n",
              "       [0.57672536, 0.42327464],\n",
              "       [0.82045709, 0.17954291],\n",
              "       [0.79528562, 0.20471438],\n",
              "       [0.37223823, 0.62776177],\n",
              "       [0.85560895, 0.14439105],\n",
              "       [0.34452647, 0.65547353],\n",
              "       [0.22571232, 0.77428768],\n",
              "       [0.83282826, 0.16717174],\n",
              "       [0.84377208, 0.15622792],\n",
              "       [0.36725394, 0.63274606],\n",
              "       [0.59844117, 0.40155883],\n",
              "       [0.85570599, 0.14429401],\n",
              "       [0.77656962, 0.22343038],\n",
              "       [0.90950944, 0.09049056],\n",
              "       [0.70482659, 0.29517341],\n",
              "       [0.77841538, 0.22158462],\n",
              "       [0.53260556, 0.46739444],\n",
              "       [0.86041039, 0.13958961],\n",
              "       [0.79986727, 0.20013273],\n",
              "       [0.56845795, 0.43154205],\n",
              "       [0.48018865, 0.51981135],\n",
              "       [0.25947411, 0.74052589],\n",
              "       [0.69697627, 0.30302373],\n",
              "       [0.52816744, 0.47183256],\n",
              "       [0.53476495, 0.46523505],\n",
              "       [0.36743602, 0.63256398],\n",
              "       [0.79846822, 0.20153178],\n",
              "       [0.74208376, 0.25791624],\n",
              "       [0.82207373, 0.17792627],\n",
              "       [0.22740468, 0.77259532],\n",
              "       [0.53149653, 0.46850347],\n",
              "       [0.68381359, 0.31618641],\n",
              "       [0.89824412, 0.10175588],\n",
              "       [0.84031275, 0.15968725],\n",
              "       [0.96191525, 0.03808475],\n",
              "       [0.44620955, 0.55379045],\n",
              "       [0.38529875, 0.61470125],\n",
              "       [0.20081859, 0.79918141],\n",
              "       [0.34518842, 0.65481158],\n",
              "       [0.36616222, 0.63383778],\n",
              "       [0.89143169, 0.10856831],\n",
              "       [0.86460891, 0.13539109],\n",
              "       [0.68615265, 0.31384735],\n",
              "       [0.80827108, 0.19172892],\n",
              "       [0.93718933, 0.06281067],\n",
              "       [0.70446884, 0.29553116],\n",
              "       [0.47750713, 0.52249287],\n",
              "       [0.93411974, 0.06588026],\n",
              "       [0.64083867, 0.35916133],\n",
              "       [0.68255491, 0.31744509],\n",
              "       [0.9142242 , 0.0857758 ],\n",
              "       [0.76184908, 0.23815092],\n",
              "       [0.9158947 , 0.0841053 ],\n",
              "       [0.85276458, 0.14723542],\n",
              "       [0.59898813, 0.40101187],\n",
              "       [0.71234728, 0.28765272],\n",
              "       [0.82095341, 0.17904659],\n",
              "       [0.92311618, 0.07688382],\n",
              "       [0.81992196, 0.18007804],\n",
              "       [0.74370855, 0.25629145],\n",
              "       [0.18265885, 0.81734115],\n",
              "       [0.8788681 , 0.1211319 ],\n",
              "       [0.07935615, 0.92064385],\n",
              "       [0.79838434, 0.20161566],\n",
              "       [0.44501242, 0.55498758],\n",
              "       [0.8111681 , 0.1888319 ],\n",
              "       [0.86357608, 0.13642392],\n",
              "       [0.91692333, 0.08307667],\n",
              "       [0.43691075, 0.56308925],\n",
              "       [0.74076921, 0.25923079],\n",
              "       [0.80222178, 0.19777822],\n",
              "       [0.764566  , 0.235434  ],\n",
              "       [0.6840745 , 0.3159255 ],\n",
              "       [0.68476142, 0.31523858],\n",
              "       [0.08585843, 0.91414157],\n",
              "       [0.58394366, 0.41605634],\n",
              "       [0.36958673, 0.63041327],\n",
              "       [0.78252551, 0.21747449],\n",
              "       [0.09160919, 0.90839081],\n",
              "       [0.34440171, 0.65559829],\n",
              "       [0.2541107 , 0.7458893 ],\n",
              "       [0.25254642, 0.74745358],\n",
              "       [0.82497922, 0.17502078],\n",
              "       [0.96024544, 0.03975456],\n",
              "       [0.72072971, 0.27927029],\n",
              "       [0.60227463, 0.39772537],\n",
              "       [0.36942649, 0.63057351],\n",
              "       [0.2279912 , 0.7720088 ],\n",
              "       [0.36269605, 0.63730395],\n",
              "       [0.7867244 , 0.2132756 ],\n",
              "       [0.82080739, 0.17919261],\n",
              "       [0.32177956, 0.67822044],\n",
              "       [0.91118696, 0.08881304],\n",
              "       [0.55026703, 0.44973297],\n",
              "       [0.84942453, 0.15057547],\n",
              "       [0.12092668, 0.87907332],\n",
              "       [0.85965461, 0.14034539],\n",
              "       [0.84769748, 0.15230252],\n",
              "       [0.83119747, 0.16880253],\n",
              "       [0.86639185, 0.13360815],\n",
              "       [0.97163441, 0.02836559],\n",
              "       [0.74434907, 0.25565093],\n",
              "       [0.83683401, 0.16316599],\n",
              "       [0.86821448, 0.13178552],\n",
              "       [0.67331082, 0.32668918],\n",
              "       [0.83293355, 0.16706645],\n",
              "       [0.67082288, 0.32917712],\n",
              "       [0.90704105, 0.09295895],\n",
              "       [0.66360782, 0.33639218],\n",
              "       [0.88665223, 0.11334777],\n",
              "       [0.83355439, 0.16644561],\n",
              "       [0.7626183 , 0.2373817 ],\n",
              "       [0.84916429, 0.15083571],\n",
              "       [0.4609156 , 0.5390844 ],\n",
              "       [0.91166978, 0.08833022],\n",
              "       [0.87583117, 0.12416883],\n",
              "       [0.79433969, 0.20566031],\n",
              "       [0.17646657, 0.82353343],\n",
              "       [0.82929904, 0.17070096],\n",
              "       [0.18139875, 0.81860125],\n",
              "       [0.90089274, 0.09910726],\n",
              "       [0.9045041 , 0.0954959 ],\n",
              "       [0.30625311, 0.69374689],\n",
              "       [0.75823574, 0.24176426],\n",
              "       [0.93306307, 0.06693693],\n",
              "       [0.75928858, 0.24071142],\n",
              "       [0.86097236, 0.13902764],\n",
              "       [0.56897708, 0.43102292],\n",
              "       [0.82515764, 0.17484236],\n",
              "       [0.52499623, 0.47500377],\n",
              "       [0.17096444, 0.82903556],\n",
              "       [0.89777422, 0.10222578]])"
            ]
          },
          "execution_count": 41,
          "metadata": {},
          "output_type": "execute_result"
        }
      ],
      "source": [
        "y_pred_prob=clf.predict_proba(X_test)\n",
        "y_pred_prob"
      ]
    },
    {
      "cell_type": "code",
      "execution_count": null,
      "id": "be4a46bb",
      "metadata": {
        "id": "be4a46bb"
      },
      "outputs": [],
      "source": [
        "#Evaluation of model\n",
        "from sklearn.metrics import confusion_matrix,accuracy_score,recall_score,precision_score,classification_report,f1_score"
      ]
    },
    {
      "cell_type": "code",
      "execution_count": null,
      "id": "33439f99",
      "metadata": {
        "collapsed": true,
        "id": "33439f99",
        "outputId": "4e4a0e06-2095-4de2-d80a-f470831c96e7"
      },
      "outputs": [
        {
          "name": "stdout",
          "output_type": "stream",
          "text": [
            "[[90 14]\n",
            " [24 26]]\n"
          ]
        }
      ],
      "source": [
        "cm=confusion_matrix(y_test,y_pred)\n",
        "print(cm)"
      ]
    },
    {
      "cell_type": "code",
      "execution_count": null,
      "id": "703ceb87",
      "metadata": {
        "collapsed": true,
        "id": "703ceb87",
        "outputId": "9076df6a-c05a-4e23-e7b4-070a966029c8"
      },
      "outputs": [
        {
          "data": {
            "text/plain": [
              "0.52"
            ]
          },
          "execution_count": 44,
          "metadata": {},
          "output_type": "execute_result"
        }
      ],
      "source": [
        "recall=recall_score(y_test,y_pred)\n",
        "recall"
      ]
    },
    {
      "cell_type": "code",
      "execution_count": null,
      "id": "5469f011",
      "metadata": {
        "collapsed": true,
        "id": "5469f011",
        "outputId": "5a2f896f-ffc1-43ac-f2a1-3949d79cedb2"
      },
      "outputs": [
        {
          "data": {
            "text/plain": [
              "0.52"
            ]
          },
          "execution_count": 47,
          "metadata": {},
          "output_type": "execute_result"
        }
      ],
      "source": [
        "#recall = TP/TP+FN\n",
        "26/50"
      ]
    },
    {
      "cell_type": "code",
      "execution_count": null,
      "id": "051d4f94",
      "metadata": {
        "collapsed": true,
        "id": "051d4f94",
        "outputId": "7cf983a1-38cf-44cc-8462-f0e7d933581d"
      },
      "outputs": [
        {
          "data": {
            "text/plain": [
              "0.65"
            ]
          },
          "execution_count": 48,
          "metadata": {},
          "output_type": "execute_result"
        }
      ],
      "source": [
        "precision=precision_score(y_test,y_pred)\n",
        "precision"
      ]
    },
    {
      "cell_type": "code",
      "execution_count": null,
      "id": "72747b05",
      "metadata": {
        "collapsed": true,
        "id": "72747b05",
        "outputId": "829376f7-ba56-44d9-a780-f78dd373e3b3"
      },
      "outputs": [
        {
          "data": {
            "text/plain": [
              "0.5777777777777778"
            ]
          },
          "execution_count": 49,
          "metadata": {},
          "output_type": "execute_result"
        }
      ],
      "source": [
        "f1score=f1_score(y_test,y_pred)\n",
        "f1score"
      ]
    },
    {
      "cell_type": "code",
      "execution_count": null,
      "id": "8829a3c1",
      "metadata": {
        "collapsed": true,
        "id": "8829a3c1",
        "outputId": "3091d416-5dbd-49ae-c37f-9d47c1663cf4"
      },
      "outputs": [
        {
          "name": "stdout",
          "output_type": "stream",
          "text": [
            "              precision    recall  f1-score   support\n",
            "\n",
            "           0       0.79      0.87      0.83       104\n",
            "           1       0.65      0.52      0.58        50\n",
            "\n",
            "    accuracy                           0.75       154\n",
            "   macro avg       0.72      0.69      0.70       154\n",
            "weighted avg       0.74      0.75      0.75       154\n",
            "\n"
          ]
        }
      ],
      "source": [
        "cr=classification_report(y_test,y_pred)\n",
        "print(cr)"
      ]
    },
    {
      "cell_type": "markdown",
      "id": "5c4e554f",
      "metadata": {
        "id": "5c4e554f"
      },
      "source": [
        "### Multiclass Classification"
      ]
    },
    {
      "cell_type": "code",
      "execution_count": null,
      "id": "a90656a0",
      "metadata": {
        "id": "a90656a0"
      },
      "outputs": [],
      "source": [
        "# loading dataset\n",
        "df1= sns.load_dataset(\"iris\")"
      ]
    },
    {
      "cell_type": "code",
      "execution_count": null,
      "id": "54f7cea4",
      "metadata": {
        "collapsed": true,
        "id": "54f7cea4",
        "outputId": "07e78aad-58eb-462f-a55a-39fc366ca9e0"
      },
      "outputs": [
        {
          "data": {
            "text/html": [
              "<div>\n",
              "<style scoped>\n",
              "    .dataframe tbody tr th:only-of-type {\n",
              "        vertical-align: middle;\n",
              "    }\n",
              "\n",
              "    .dataframe tbody tr th {\n",
              "        vertical-align: top;\n",
              "    }\n",
              "\n",
              "    .dataframe thead th {\n",
              "        text-align: right;\n",
              "    }\n",
              "</style>\n",
              "<table border=\"1\" class=\"dataframe\">\n",
              "  <thead>\n",
              "    <tr style=\"text-align: right;\">\n",
              "      <th></th>\n",
              "      <th>sepal_length</th>\n",
              "      <th>sepal_width</th>\n",
              "      <th>petal_length</th>\n",
              "      <th>petal_width</th>\n",
              "      <th>species</th>\n",
              "    </tr>\n",
              "  </thead>\n",
              "  <tbody>\n",
              "    <tr>\n",
              "      <th>0</th>\n",
              "      <td>5.1</td>\n",
              "      <td>3.5</td>\n",
              "      <td>1.4</td>\n",
              "      <td>0.2</td>\n",
              "      <td>setosa</td>\n",
              "    </tr>\n",
              "    <tr>\n",
              "      <th>1</th>\n",
              "      <td>4.9</td>\n",
              "      <td>3.0</td>\n",
              "      <td>1.4</td>\n",
              "      <td>0.2</td>\n",
              "      <td>setosa</td>\n",
              "    </tr>\n",
              "    <tr>\n",
              "      <th>2</th>\n",
              "      <td>4.7</td>\n",
              "      <td>3.2</td>\n",
              "      <td>1.3</td>\n",
              "      <td>0.2</td>\n",
              "      <td>setosa</td>\n",
              "    </tr>\n",
              "    <tr>\n",
              "      <th>3</th>\n",
              "      <td>4.6</td>\n",
              "      <td>3.1</td>\n",
              "      <td>1.5</td>\n",
              "      <td>0.2</td>\n",
              "      <td>setosa</td>\n",
              "    </tr>\n",
              "    <tr>\n",
              "      <th>4</th>\n",
              "      <td>5.0</td>\n",
              "      <td>3.6</td>\n",
              "      <td>1.4</td>\n",
              "      <td>0.2</td>\n",
              "      <td>setosa</td>\n",
              "    </tr>\n",
              "    <tr>\n",
              "      <th>...</th>\n",
              "      <td>...</td>\n",
              "      <td>...</td>\n",
              "      <td>...</td>\n",
              "      <td>...</td>\n",
              "      <td>...</td>\n",
              "    </tr>\n",
              "    <tr>\n",
              "      <th>145</th>\n",
              "      <td>6.7</td>\n",
              "      <td>3.0</td>\n",
              "      <td>5.2</td>\n",
              "      <td>2.3</td>\n",
              "      <td>virginica</td>\n",
              "    </tr>\n",
              "    <tr>\n",
              "      <th>146</th>\n",
              "      <td>6.3</td>\n",
              "      <td>2.5</td>\n",
              "      <td>5.0</td>\n",
              "      <td>1.9</td>\n",
              "      <td>virginica</td>\n",
              "    </tr>\n",
              "    <tr>\n",
              "      <th>147</th>\n",
              "      <td>6.5</td>\n",
              "      <td>3.0</td>\n",
              "      <td>5.2</td>\n",
              "      <td>2.0</td>\n",
              "      <td>virginica</td>\n",
              "    </tr>\n",
              "    <tr>\n",
              "      <th>148</th>\n",
              "      <td>6.2</td>\n",
              "      <td>3.4</td>\n",
              "      <td>5.4</td>\n",
              "      <td>2.3</td>\n",
              "      <td>virginica</td>\n",
              "    </tr>\n",
              "    <tr>\n",
              "      <th>149</th>\n",
              "      <td>5.9</td>\n",
              "      <td>3.0</td>\n",
              "      <td>5.1</td>\n",
              "      <td>1.8</td>\n",
              "      <td>virginica</td>\n",
              "    </tr>\n",
              "  </tbody>\n",
              "</table>\n",
              "<p>150 rows × 5 columns</p>\n",
              "</div>"
            ],
            "text/plain": [
              "     sepal_length  sepal_width  petal_length  petal_width    species\n",
              "0             5.1          3.5           1.4          0.2     setosa\n",
              "1             4.9          3.0           1.4          0.2     setosa\n",
              "2             4.7          3.2           1.3          0.2     setosa\n",
              "3             4.6          3.1           1.5          0.2     setosa\n",
              "4             5.0          3.6           1.4          0.2     setosa\n",
              "..            ...          ...           ...          ...        ...\n",
              "145           6.7          3.0           5.2          2.3  virginica\n",
              "146           6.3          2.5           5.0          1.9  virginica\n",
              "147           6.5          3.0           5.2          2.0  virginica\n",
              "148           6.2          3.4           5.4          2.3  virginica\n",
              "149           5.9          3.0           5.1          1.8  virginica\n",
              "\n",
              "[150 rows x 5 columns]"
            ]
          },
          "execution_count": 52,
          "metadata": {},
          "output_type": "execute_result"
        }
      ],
      "source": [
        "df1"
      ]
    },
    {
      "cell_type": "code",
      "execution_count": null,
      "id": "ab0c589d",
      "metadata": {
        "id": "ab0c589d"
      },
      "outputs": [],
      "source": [
        "X=df1.iloc[:,:-1]\n",
        "y=df1.species"
      ]
    },
    {
      "cell_type": "code",
      "execution_count": null,
      "id": "f44deb6f",
      "metadata": {
        "collapsed": true,
        "id": "f44deb6f",
        "outputId": "58c11961-0b9b-43e4-fd50-ab1e520d8a16"
      },
      "outputs": [
        {
          "data": {
            "text/html": [
              "<div>\n",
              "<style scoped>\n",
              "    .dataframe tbody tr th:only-of-type {\n",
              "        vertical-align: middle;\n",
              "    }\n",
              "\n",
              "    .dataframe tbody tr th {\n",
              "        vertical-align: top;\n",
              "    }\n",
              "\n",
              "    .dataframe thead th {\n",
              "        text-align: right;\n",
              "    }\n",
              "</style>\n",
              "<table border=\"1\" class=\"dataframe\">\n",
              "  <thead>\n",
              "    <tr style=\"text-align: right;\">\n",
              "      <th></th>\n",
              "      <th>sepal_length</th>\n",
              "      <th>sepal_width</th>\n",
              "      <th>petal_length</th>\n",
              "      <th>petal_width</th>\n",
              "    </tr>\n",
              "  </thead>\n",
              "  <tbody>\n",
              "    <tr>\n",
              "      <th>0</th>\n",
              "      <td>5.1</td>\n",
              "      <td>3.5</td>\n",
              "      <td>1.4</td>\n",
              "      <td>0.2</td>\n",
              "    </tr>\n",
              "    <tr>\n",
              "      <th>1</th>\n",
              "      <td>4.9</td>\n",
              "      <td>3.0</td>\n",
              "      <td>1.4</td>\n",
              "      <td>0.2</td>\n",
              "    </tr>\n",
              "    <tr>\n",
              "      <th>2</th>\n",
              "      <td>4.7</td>\n",
              "      <td>3.2</td>\n",
              "      <td>1.3</td>\n",
              "      <td>0.2</td>\n",
              "    </tr>\n",
              "    <tr>\n",
              "      <th>3</th>\n",
              "      <td>4.6</td>\n",
              "      <td>3.1</td>\n",
              "      <td>1.5</td>\n",
              "      <td>0.2</td>\n",
              "    </tr>\n",
              "    <tr>\n",
              "      <th>4</th>\n",
              "      <td>5.0</td>\n",
              "      <td>3.6</td>\n",
              "      <td>1.4</td>\n",
              "      <td>0.2</td>\n",
              "    </tr>\n",
              "    <tr>\n",
              "      <th>...</th>\n",
              "      <td>...</td>\n",
              "      <td>...</td>\n",
              "      <td>...</td>\n",
              "      <td>...</td>\n",
              "    </tr>\n",
              "    <tr>\n",
              "      <th>145</th>\n",
              "      <td>6.7</td>\n",
              "      <td>3.0</td>\n",
              "      <td>5.2</td>\n",
              "      <td>2.3</td>\n",
              "    </tr>\n",
              "    <tr>\n",
              "      <th>146</th>\n",
              "      <td>6.3</td>\n",
              "      <td>2.5</td>\n",
              "      <td>5.0</td>\n",
              "      <td>1.9</td>\n",
              "    </tr>\n",
              "    <tr>\n",
              "      <th>147</th>\n",
              "      <td>6.5</td>\n",
              "      <td>3.0</td>\n",
              "      <td>5.2</td>\n",
              "      <td>2.0</td>\n",
              "    </tr>\n",
              "    <tr>\n",
              "      <th>148</th>\n",
              "      <td>6.2</td>\n",
              "      <td>3.4</td>\n",
              "      <td>5.4</td>\n",
              "      <td>2.3</td>\n",
              "    </tr>\n",
              "    <tr>\n",
              "      <th>149</th>\n",
              "      <td>5.9</td>\n",
              "      <td>3.0</td>\n",
              "      <td>5.1</td>\n",
              "      <td>1.8</td>\n",
              "    </tr>\n",
              "  </tbody>\n",
              "</table>\n",
              "<p>150 rows × 4 columns</p>\n",
              "</div>"
            ],
            "text/plain": [
              "     sepal_length  sepal_width  petal_length  petal_width\n",
              "0             5.1          3.5           1.4          0.2\n",
              "1             4.9          3.0           1.4          0.2\n",
              "2             4.7          3.2           1.3          0.2\n",
              "3             4.6          3.1           1.5          0.2\n",
              "4             5.0          3.6           1.4          0.2\n",
              "..            ...          ...           ...          ...\n",
              "145           6.7          3.0           5.2          2.3\n",
              "146           6.3          2.5           5.0          1.9\n",
              "147           6.5          3.0           5.2          2.0\n",
              "148           6.2          3.4           5.4          2.3\n",
              "149           5.9          3.0           5.1          1.8\n",
              "\n",
              "[150 rows x 4 columns]"
            ]
          },
          "execution_count": 55,
          "metadata": {},
          "output_type": "execute_result"
        }
      ],
      "source": [
        "X"
      ]
    },
    {
      "cell_type": "code",
      "execution_count": null,
      "id": "a1ac91a7",
      "metadata": {
        "collapsed": true,
        "id": "a1ac91a7",
        "outputId": "45a7d1eb-72b3-4698-b8a3-9979e6a63d03"
      },
      "outputs": [
        {
          "data": {
            "text/plain": [
              "0         setosa\n",
              "1         setosa\n",
              "2         setosa\n",
              "3         setosa\n",
              "4         setosa\n",
              "         ...    \n",
              "145    virginica\n",
              "146    virginica\n",
              "147    virginica\n",
              "148    virginica\n",
              "149    virginica\n",
              "Name: species, Length: 150, dtype: object"
            ]
          },
          "execution_count": 56,
          "metadata": {},
          "output_type": "execute_result"
        }
      ],
      "source": [
        "y"
      ]
    },
    {
      "cell_type": "code",
      "execution_count": null,
      "id": "34280140",
      "metadata": {
        "id": "34280140"
      },
      "outputs": [],
      "source": [
        "## Training and testing data\n",
        "from sklearn.model_selection import train_test_split\n",
        "X_train1,X_test1,y_train1,y_test1=train_test_split(X,y,random_state=25)"
      ]
    },
    {
      "cell_type": "code",
      "execution_count": null,
      "id": "483c42be",
      "metadata": {
        "id": "483c42be"
      },
      "outputs": [],
      "source": [
        "from sklearn.linear_model import LogisticRegression\n",
        "lr_multi=LogisticRegression()\n",
        "lr_multi.fit(X_train1,y_train1)\n",
        "y_pred=lr_multi.predict(X_test1)"
      ]
    },
    {
      "cell_type": "code",
      "execution_count": null,
      "id": "f682e62f",
      "metadata": {
        "collapsed": true,
        "id": "f682e62f",
        "outputId": "06db10df-c769-4a08-ac7b-7864ff2b0a4e"
      },
      "outputs": [
        {
          "data": {
            "text/plain": [
              "array(['setosa', 'versicolor', 'virginica', 'versicolor', 'virginica',\n",
              "       'versicolor', 'virginica', 'setosa', 'versicolor', 'versicolor',\n",
              "       'setosa', 'setosa', 'setosa', 'virginica', 'setosa', 'versicolor',\n",
              "       'virginica', 'virginica', 'versicolor', 'versicolor', 'versicolor',\n",
              "       'versicolor', 'versicolor', 'setosa', 'setosa', 'virginica',\n",
              "       'versicolor', 'virginica', 'virginica', 'setosa', 'versicolor',\n",
              "       'virginica', 'virginica', 'setosa', 'virginica', 'versicolor',\n",
              "       'versicolor', 'setosa'], dtype=object)"
            ]
          },
          "execution_count": 59,
          "metadata": {},
          "output_type": "execute_result"
        }
      ],
      "source": [
        "y_pred"
      ]
    },
    {
      "cell_type": "code",
      "execution_count": null,
      "id": "6adfaf2e",
      "metadata": {
        "id": "6adfaf2e",
        "outputId": "e6869683-9e5f-47e1-d981-900f4649896b"
      },
      "outputs": [
        {
          "data": {
            "text/plain": [
              "0.973831844688861"
            ]
          },
          "execution_count": 63,
          "metadata": {},
          "output_type": "execute_result"
        }
      ],
      "source": [
        "f1score=f1_score(y_test1,y_pred,average='weighted')\n",
        "f1score"
      ]
    },
    {
      "cell_type": "code",
      "execution_count": null,
      "id": "c99d4671",
      "metadata": {
        "collapsed": true,
        "id": "c99d4671",
        "outputId": "8a3c5222-5291-4558-c2e7-42c38966b0d0"
      },
      "outputs": [
        {
          "name": "stdout",
          "output_type": "stream",
          "text": [
            "              precision    recall  f1-score   support\n",
            "\n",
            "      setosa       1.00      1.00      1.00        11\n",
            "  versicolor       1.00      0.94      0.97        16\n",
            "   virginica       0.92      1.00      0.96        11\n",
            "\n",
            "    accuracy                           0.97        38\n",
            "   macro avg       0.97      0.98      0.97        38\n",
            "weighted avg       0.98      0.97      0.97        38\n",
            "\n"
          ]
        }
      ],
      "source": [
        "cr=classification_report(y_test1,y_pred)\n",
        "print(cr)"
      ]
    },
    {
      "cell_type": "code",
      "execution_count": null,
      "id": "09125304",
      "metadata": {
        "id": "09125304"
      },
      "outputs": [],
      "source": []
    }
  ],
  "metadata": {
    "kernelspec": {
      "display_name": "Python 3 (ipykernel)",
      "language": "python",
      "name": "python3"
    },
    "language_info": {
      "codemirror_mode": {
        "name": "ipython",
        "version": 3
      },
      "file_extension": ".py",
      "mimetype": "text/x-python",
      "name": "python",
      "nbconvert_exporter": "python",
      "pygments_lexer": "ipython3",
      "version": "3.10.9"
    },
    "colab": {
      "provenance": [],
      "include_colab_link": true
    }
  },
  "nbformat": 4,
  "nbformat_minor": 5
}