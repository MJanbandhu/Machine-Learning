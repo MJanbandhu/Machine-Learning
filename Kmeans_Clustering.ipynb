{
  "cells": [
    {
      "cell_type": "markdown",
      "metadata": {
        "id": "view-in-github",
        "colab_type": "text"
      },
      "source": [
        "<a href=\"https://colab.research.google.com/github/MJanbandhu/Machine-Learning/blob/main/Kmeans_Clustering.ipynb\" target=\"_parent\"><img src=\"https://colab.research.google.com/assets/colab-badge.svg\" alt=\"Open In Colab\"/></a>"
      ]
    },
    {
      "cell_type": "markdown",
      "id": "47670388",
      "metadata": {
        "id": "47670388"
      },
      "source": [
        "## Clustering\n",
        "\n",
        "Given different objects and asked to put in groups, a child may group these objects over the colour, shape, hardness etc. These are variables of the objects which separate them.\n",
        "As a natural process of segmentation, we look for similarities and dissimilarities within objects. This is called **clustering**, the method of identifying similar instances and keeping them together.\n",
        "\n",
        "In other words, clustering identifies homogeneous subgroups among the observations.\n",
        "As an unsupervised learning approach, clustering finds a structure/pattern in a collection of unlabeled data. Algorithms are capable of discovering hidden patterns which are often useful in areas such as Cybersecurity."
      ]
    },
    {
      "cell_type": "markdown",
      "id": "72b46468",
      "metadata": {
        "id": "72b46468"
      },
      "source": [
        "# KMeans Clustering\n",
        "\n",
        "It is an unsupervised technique used to identify clusters of data objects in the dataset. K specifies the number of clusters.\n",
        "\n",
        "Steps involved in K-Means Algorithm:\n",
        "\n",
        "1. Initially choose the number of clusters as K.\n",
        "\n",
        "2. Start with K centroids by putting them at random place (not necessarily from your dataset). **A centroid is a data point (imaginary or real) at the center of a cluster.**\n",
        "\n",
        "3. Assign each point to the closest centroid. This forms k clusters.\n",
        "\n",
        "4. Within each cluster, compute distance of every point from the centroid. Compute and place the new centroid for each cluster ie., calculate the mean value of points for each cluster and update the cluster centers.\n",
        "\n",
        "5. You have k new centroids. Repeat the process again ie., reassign each data point to the new closest centroid. If any reassignment took place, go to step 4. But if there is no change ie., when clusters form a clear boundary, you have the final clusters for the given data.\n"
      ]
    },
    {
      "cell_type": "markdown",
      "id": "92257a83",
      "metadata": {
        "id": "92257a83"
      },
      "source": [
        "### Use Case for Clustering: Group countries with similar construction permit trends, which can help understand regional or economic similarities.\n",
        "**Index measuring the regulatory performance of obtaining Construction Permits**"
      ]
    },
    {
      "cell_type": "code",
      "execution_count": null,
      "id": "166b3181-b3c1-4268-a7c9-0c5605098f01",
      "metadata": {
        "id": "166b3181-b3c1-4268-a7c9-0c5605098f01"
      },
      "outputs": [],
      "source": [
        "import numpy as np\n",
        "import pandas as pd\n",
        "import seaborn as sns\n",
        "import matplotlib.pyplot as plt"
      ]
    },
    {
      "cell_type": "code",
      "execution_count": null,
      "id": "2fbe4d97-7200-4512-a782-85994114fc2d",
      "metadata": {
        "id": "2fbe4d97-7200-4512-a782-85994114fc2d"
      },
      "outputs": [],
      "source": [
        "df=pd.read_csv(\"main_data.csv\")"
      ]
    },
    {
      "cell_type": "code",
      "execution_count": null,
      "id": "42201f41",
      "metadata": {
        "id": "42201f41"
      },
      "outputs": [],
      "source": [
        "df.info()"
      ]
    },
    {
      "cell_type": "code",
      "execution_count": null,
      "id": "a10009a2-7930-4518-b441-61bdabfb6425",
      "metadata": {
        "id": "a10009a2-7930-4518-b441-61bdabfb6425"
      },
      "outputs": [],
      "source": [
        "df.head()"
      ]
    },
    {
      "cell_type": "code",
      "execution_count": null,
      "id": "1df396ec-744f-4d0b-9742-954d07b9c8e4",
      "metadata": {
        "id": "1df396ec-744f-4d0b-9742-954d07b9c8e4"
      },
      "outputs": [],
      "source": [
        "df.drop(\"Unnamed: 0\",axis=1,inplace=True)"
      ]
    },
    {
      "cell_type": "code",
      "execution_count": null,
      "id": "e38cbfd1-be5f-49b1-bc91-ab4dcb4a4fe1",
      "metadata": {
        "id": "e38cbfd1-be5f-49b1-bc91-ab4dcb4a4fe1"
      },
      "outputs": [],
      "source": [
        "df.head()"
      ]
    },
    {
      "cell_type": "code",
      "execution_count": null,
      "id": "d2d9aff9-0e3f-4bbf-a4f0-230b16925916",
      "metadata": {
        "id": "d2d9aff9-0e3f-4bbf-a4f0-230b16925916"
      },
      "outputs": [],
      "source": [
        "figure=plt.figure(figsize=(20,25))\n",
        "for i in range(1,4):\n",
        "    plt.subplot(3,1,i)\n",
        "    sns.histplot(df.iloc[:,i],kde=True)"
      ]
    },
    {
      "cell_type": "markdown",
      "id": "d3721aaf-d164-4130-9567-0867768b450a",
      "metadata": {
        "id": "d3721aaf-d164-4130-9567-0867768b450a"
      },
      "source": [
        "#### Numerical data for Clustering"
      ]
    },
    {
      "cell_type": "code",
      "execution_count": null,
      "id": "7ab9ba61-effc-4603-bba7-d297fa1e033e",
      "metadata": {
        "id": "7ab9ba61-effc-4603-bba7-d297fa1e033e"
      },
      "outputs": [],
      "source": [
        "X=df.iloc[:,1:]\n",
        "X.head()"
      ]
    },
    {
      "cell_type": "markdown",
      "id": "01fb8cf6",
      "metadata": {
        "id": "01fb8cf6"
      },
      "source": [
        "## Elbow Technique"
      ]
    },
    {
      "cell_type": "markdown",
      "id": "976142f0",
      "metadata": {
        "id": "976142f0"
      },
      "source": [
        "Elbow method is the most popular method that is used to determine the optimal value of k.\n",
        "\n",
        "**How it works?**\n",
        "\n",
        "- Start with some K.\n",
        "- Calculate WCSS (Within Cluster Sum of squared errors) ie., for each of the cluster, it calculate the distance of individual data points from the centroid, then square it and sum it up.\n",
        "             WCSS = WCSS1 + WCSS2 + ..... WCSSk\n",
        "             \n",
        "- Take new value for K, repeat step2.\n",
        "- For each number of K, WCSS is calculated.\n",
        "- Find the elbow point. That is the optimal value of K.\n",
        "\n",
        " As the number of K increases, the error reduces.\n",
        "\n"
      ]
    },
    {
      "cell_type": "code",
      "execution_count": null,
      "id": "095425d4",
      "metadata": {
        "id": "095425d4"
      },
      "outputs": [],
      "source": [
        "# Elbow Method\n",
        "from sklearn.cluster import KMeans\n",
        "import warnings\n",
        "warnings.filterwarnings(\"ignore\")\n",
        "wcss=[]\n",
        "for i in range (1,12):\n",
        "    kmeans=KMeans(n_clusters=i,random_state=42)\n",
        "    kmeans.fit(X)\n",
        "    wcss.append(kmeans.inertia_)\n",
        "plt.plot(range(1,12),wcss)\n",
        "plt.title('The Elbow Method')\n",
        "plt.xlabel('Number of clusters')\n",
        "plt.ylabel('WCSS')\n",
        "plt.show()"
      ]
    },
    {
      "cell_type": "markdown",
      "id": "e554d0a1",
      "metadata": {
        "id": "e554d0a1"
      },
      "source": [
        "To determine the optimal number of clusters, we have to select the value of k at the “elbow” ie., the point after which the distortion/inertia start decreasing in a linear fashion."
      ]
    },
    {
      "cell_type": "markdown",
      "id": "418db230",
      "metadata": {
        "id": "418db230"
      },
      "source": [
        "## Model Building"
      ]
    },
    {
      "cell_type": "code",
      "execution_count": null,
      "id": "c000159e-7e97-40a9-88b0-363cac799545",
      "metadata": {
        "id": "c000159e-7e97-40a9-88b0-363cac799545"
      },
      "outputs": [],
      "source": [
        "# Initialise the model with K as 3\n",
        "from sklearn.cluster import KMeans\n",
        "model = KMeans(n_clusters=3, random_state=42)\n",
        "\n",
        "#Training the model\n",
        "model.fit(X)"
      ]
    },
    {
      "cell_type": "code",
      "execution_count": null,
      "id": "177eb56e",
      "metadata": {
        "id": "177eb56e"
      },
      "outputs": [],
      "source": [
        "label=model.labels_\n",
        "label"
      ]
    },
    {
      "cell_type": "code",
      "execution_count": null,
      "id": "dae60806",
      "metadata": {
        "id": "dae60806"
      },
      "outputs": [],
      "source": [
        "from collections import Counter\n",
        "Counter(label)"
      ]
    },
    {
      "cell_type": "code",
      "execution_count": null,
      "id": "31ef228f",
      "metadata": {
        "id": "31ef228f"
      },
      "outputs": [],
      "source": [
        "new_point=[[15,40,100]] # A new observation\n",
        "model.predict(new_point) # predicted label"
      ]
    },
    {
      "cell_type": "markdown",
      "id": "ac94fce3-6e87-4681-a9e7-930710e77019",
      "metadata": {
        "id": "ac94fce3-6e87-4681-a9e7-930710e77019"
      },
      "source": [
        "### Interpretation of the Cluster Labels"
      ]
    },
    {
      "cell_type": "code",
      "execution_count": null,
      "id": "6223c892",
      "metadata": {
        "id": "6223c892"
      },
      "outputs": [],
      "source": [
        "df['Labels']=label\n",
        "df"
      ]
    },
    {
      "cell_type": "markdown",
      "id": "2ffc9ec4-56c1-479e-adde-b074c770755b",
      "metadata": {
        "id": "2ffc9ec4-56c1-479e-adde-b074c770755b"
      },
      "source": [
        "### Label 0"
      ]
    },
    {
      "cell_type": "code",
      "execution_count": null,
      "id": "7a3c6a39-ffc3-4af0-ab26-a40367dc44ab",
      "metadata": {
        "id": "7a3c6a39-ffc3-4af0-ab26-a40367dc44ab"
      },
      "outputs": [],
      "source": [
        "(df.loc[df['Labels']==0].iloc[:,3].mean(),df.loc[df['Labels']==0].iloc[:,1].mean(),df.loc[df['Labels']==0].iloc[:,2].mean())"
      ]
    },
    {
      "cell_type": "markdown",
      "id": "865ffe3b-cdb7-45e0-a0f9-48dd300e2193",
      "metadata": {
        "id": "865ffe3b-cdb7-45e0-a0f9-48dd300e2193"
      },
      "source": [
        "### Label 1"
      ]
    },
    {
      "cell_type": "code",
      "execution_count": null,
      "id": "7b33a171-d976-41db-89bd-32ae02454980",
      "metadata": {
        "id": "7b33a171-d976-41db-89bd-32ae02454980"
      },
      "outputs": [],
      "source": [
        "(df.loc[df['Labels']==1].iloc[:,3].mean(),df.loc[df['Labels']==1].iloc[:,1].mean(),df.loc[df['Labels']==1].iloc[:,2].mean())"
      ]
    },
    {
      "cell_type": "markdown",
      "id": "1442170b-6283-453e-9334-793e757d8348",
      "metadata": {
        "id": "1442170b-6283-453e-9334-793e757d8348"
      },
      "source": [
        "### Label 2"
      ]
    },
    {
      "cell_type": "code",
      "execution_count": null,
      "id": "cd948b13-ae37-4bd4-84c3-eefe5f80e6af",
      "metadata": {
        "id": "cd948b13-ae37-4bd4-84c3-eefe5f80e6af"
      },
      "outputs": [],
      "source": [
        "(df.loc[df['Labels']==2].iloc[:,3].mean(),df.loc[df['Labels']==2].iloc[:,1].mean(),df.loc[df['Labels']==2].iloc[:,2].mean())"
      ]
    },
    {
      "cell_type": "markdown",
      "id": "e3b82734-6061-4cf6-a618-197fe6646ad6",
      "metadata": {
        "id": "e3b82734-6061-4cf6-a618-197fe6646ad6"
      },
      "source": [
        "From the above means of performance indices, we can see that the model clustered countries according to ease of dealing with construction permits:\n",
        "- Label 1: Countries with least performance\n",
        "- Label 0: Countries with the highest performance\n",
        "- Label 2: Countries with reasonably good performance"
      ]
    },
    {
      "cell_type": "code",
      "execution_count": null,
      "id": "f160c343",
      "metadata": {
        "id": "f160c343"
      },
      "outputs": [],
      "source": [
        "df0=pd.read_csv(\"main_data.csv\") # original with country codes\n",
        "df['country']=df0['country']\n",
        "df.head()"
      ]
    },
    {
      "cell_type": "markdown",
      "id": "5e1ccb12",
      "metadata": {
        "id": "5e1ccb12"
      },
      "source": [
        "#### Grouping Countries based on Performance Measures"
      ]
    },
    {
      "cell_type": "code",
      "execution_count": null,
      "id": "df1db602",
      "metadata": {
        "id": "df1db602"
      },
      "outputs": [],
      "source": [
        "label"
      ]
    },
    {
      "cell_type": "code",
      "execution_count": null,
      "id": "77e4dc96",
      "metadata": {
        "id": "77e4dc96"
      },
      "outputs": [],
      "source": [
        "least=[]\n",
        "moderate=[]\n",
        "highest=[]\n",
        "\n",
        "for i in range(len(df)):\n",
        "    if label[i]==0:\n",
        "        highest.append(df['country'][i])\n",
        "    elif label[i]==1:\n",
        "        least.append(df['country'][i])\n",
        "    else:\n",
        "        moderate.append(df['country'][i])"
      ]
    },
    {
      "cell_type": "code",
      "execution_count": null,
      "id": "b1dbcbe2",
      "metadata": {
        "id": "b1dbcbe2"
      },
      "outputs": [],
      "source": [
        "print(\"Countries with least regulatory performance: \\n\",least)"
      ]
    },
    {
      "cell_type": "code",
      "execution_count": null,
      "id": "67a7f42e",
      "metadata": {
        "id": "67a7f42e"
      },
      "outputs": [],
      "source": [
        "print(\"Countries with reasonable regulatory performance: \\n\",moderate)"
      ]
    },
    {
      "cell_type": "code",
      "execution_count": null,
      "id": "201fda43",
      "metadata": {
        "id": "201fda43"
      },
      "outputs": [],
      "source": [
        "print(\"Countries with highest regulatory performance: \\n\",highest)"
      ]
    },
    {
      "cell_type": "markdown",
      "id": "9c9658e3",
      "metadata": {
        "id": "9c9658e3"
      },
      "source": [
        "### Evaluation"
      ]
    },
    {
      "cell_type": "code",
      "execution_count": null,
      "id": "29f1eee8",
      "metadata": {
        "id": "29f1eee8"
      },
      "outputs": [],
      "source": [
        "from sklearn.metrics import silhouette_score\n",
        "score=silhouette_score(X,label)\n",
        "score"
      ]
    },
    {
      "cell_type": "markdown",
      "id": "76ec7c93",
      "metadata": {
        "id": "76ec7c93"
      },
      "source": [
        "Try modeling with different k values to compare the clustering efficiency."
      ]
    },
    {
      "cell_type": "markdown",
      "id": "65d9623b",
      "metadata": {
        "id": "65d9623b"
      },
      "source": [
        "The range of Silhouette score is [-1, 1]. Its analysis is as follows −\n",
        "\n",
        "+1 Score − Near +1 Silhouette score indicates that the sample is far away from its neighboring cluster.\n",
        "\n",
        "0 Score − 0 Silhouette score indicates that the sample is on or very close to the decision boundary separating two neighboring clusters.\n",
        "\n",
        "-1 Score − 1 Silhouette score indicates that the samples have been assigned to the wrong clusters."
      ]
    },
    {
      "cell_type": "markdown",
      "id": "f1ad97ce",
      "metadata": {
        "id": "f1ad97ce"
      },
      "source": [
        "The calculation of Silhouette score can be done by using the following formula\n",
        "\n",
        "$$silhouette score\\:=\\:(p-q)/max(p,q)$$\n",
        "\n",
        "Here, p = mean distance to the points in the nearest cluster\n",
        "\n",
        "And, q = mean intra-cluster distance to all the points."
      ]
    },
    {
      "cell_type": "markdown",
      "id": "19c6213c",
      "metadata": {
        "id": "19c6213c"
      },
      "source": [
        "### Applications\n",
        "The scikit-learn book describes the various applications of clustering as follows:\n",
        "\n",
        "* __For customer segmentation:__ You can cluster your customers based on their purchases,their activity on your website, and so on. This is useful to understand who your customers are and what they need, so you can adapt your products and marketing campaigns to each segment. For example, this can be useful in recommender systems to suggest content that other users in the same cluster enjoyed.Subdivision of customers into groups/segments such that each customer segment consists of customers with similar market characteristics — pricing , loyalty, spending behaviors etc. Some of the segmentation variables could be e.g., number of items bought on sale, avg transaction value, total number of transactions. Customer segmentation allows businesses to customize market programs that will be suitable for each of its customer segments\n",
        "\n",
        "* __For data analysis:__ When analyzing a new dataset, it is often useful to first discover clusters of similar instances, as it is often easier to analyze clusters separately.\n",
        "\n",
        "* __Inventory Categorization based on sales or other manufacturing metrics.\n",
        "\n",
        "* __For anomaly detection (also called outlier detection):__ Any instance that has a low affinity to all the clusters is likely to be an anomaly. For example, if you have clustered the users of your website based on their behavior, you can detect users with unusual behavior, such as an unusual number of requests per second, and so on. Anomaly detection is particularly useful in detecting defects in manufacturing, or for fraud detection.\n",
        "\n",
        "\n",
        "* __For search engines:__ For example, some search engines let you search for images that are similar to a reference image. To build such a system, you would first apply a clustering algorithm to all the images in your database: similar images would end up in the same cluster. Then when a user provides a reference image, all you need to do is to find this image’s cluster using the trained clustering model, and you can then simply return all the images from this cluster.\n",
        "\n",
        "* __To segment an image:__ By clustering pixels according to their color, then replacing each pixel’s color with the mean color of its cluster, it is possible to reduce the number of different colors in the image considerably. This technique is used in many object detection and tracking systems, as it makes it easier to detect the contour of each object.\n"
      ]
    },
    {
      "cell_type": "markdown",
      "id": "7c205e2a",
      "metadata": {
        "id": "7c205e2a"
      },
      "source": [
        "##### Approaches for Clustering:\n",
        "The clustering approaches can be broadly divided into two categories: _Agglomerative_ and _Divisive_.\n",
        "\n",
        "**Agglomerative:** This approach first considers all the points as individual clusters and then finds out the similarity between two points, puts them into a cluster. Then it goes on finding similar points and clusters until there is only one cluster left i.e., all points belong to a big cluster. This is also called the bottom-up approach.\n",
        "\n",
        "**Divisive:** It is opposite of the agglomerative approach. It first considers all the points to be part of one big cluster and in the subsequent steps tries to find out the points/ clusters which are least similar to each other and then breaks the bigger cluster into smaller ones. This continues until there are as many clusters as there are datapoints. This is also called the top-down approach."
      ]
    },
    {
      "cell_type": "markdown",
      "id": "1a1d9cff",
      "metadata": {
        "id": "1a1d9cff"
      },
      "source": [
        "### Assumption of K Means:\n",
        "- Clusters are spatially grouped or spherical\n",
        "- All features are scaled\n",
        "- Clusters are of similar size"
      ]
    },
    {
      "cell_type": "markdown",
      "id": "8ea8b6a2",
      "metadata": {
        "id": "8ea8b6a2"
      },
      "source": [
        "### Pros:\n",
        "- Works well even when some assumptions are broken\n",
        "- Simple and easy to implement\n",
        "- Easy to interpret\n",
        "\n",
        "### Cons:\n",
        "\n",
        "- Sensitive to outliers\n",
        "- k value has to be known before"
      ]
    },
    {
      "cell_type": "markdown",
      "id": "c032cf2f",
      "metadata": {
        "id": "c032cf2f"
      },
      "source": [
        "### Goal of Clustering\n",
        "\n",
        "- Distance between centroid and its point should be minimum\n",
        "- Intra-cluster distance should be less\n",
        "- Distance between intercluster should be high"
      ]
    },
    {
      "cell_type": "code",
      "execution_count": null,
      "id": "cff64136",
      "metadata": {
        "id": "cff64136"
      },
      "outputs": [],
      "source": []
    }
  ],
  "metadata": {
    "kernelspec": {
      "display_name": "Python 3 (ipykernel)",
      "language": "python",
      "name": "python3"
    },
    "language_info": {
      "codemirror_mode": {
        "name": "ipython",
        "version": 3
      },
      "file_extension": ".py",
      "mimetype": "text/x-python",
      "name": "python",
      "nbconvert_exporter": "python",
      "pygments_lexer": "ipython3",
      "version": "3.10.9"
    },
    "colab": {
      "provenance": [],
      "include_colab_link": true
    }
  },
  "nbformat": 4,
  "nbformat_minor": 5
}